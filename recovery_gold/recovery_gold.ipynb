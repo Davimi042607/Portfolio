{
 "cells": [
  {
   "cell_type": "markdown",
   "metadata": {},
   "source": [
    "# Восстановление золота из руды"
   ]
  },
  {
   "cell_type": "markdown",
   "metadata": {
    "toc": true
   },
   "source": [
    "<h1>Содержание<span class=\"tocSkip\"></span></h1>\n",
    "<div class=\"toc\"><ul class=\"toc-item\"><li><span><a href=\"#Подготовка-данных\" data-toc-modified-id=\"Подготовка-данных-1\"><span class=\"toc-item-num\">1&nbsp;&nbsp;</span>Подготовка данных</a></span><ul class=\"toc-item\"><li><span><a href=\"#Откроем-и-изучим-данные\" data-toc-modified-id=\"Откроем-и-изучим-данные-1.1\"><span class=\"toc-item-num\">1.1&nbsp;&nbsp;</span>Откроем и изучим данные</a></span><ul class=\"toc-item\"><li><span><a href=\"#Прочитаем-и-сохраним-датасеты\" data-toc-modified-id=\"Прочитаем-и-сохраним-датасеты-1.1.1\"><span class=\"toc-item-num\">1.1.1&nbsp;&nbsp;</span>Прочитаем и сохраним датасеты</a></span></li><li><span><a href=\"#Изучим-данные-датасетов\" data-toc-modified-id=\"Изучим-данные-датасетов-1.1.2\"><span class=\"toc-item-num\">1.1.2&nbsp;&nbsp;</span>Изучим данные датасетов</a></span></li></ul></li><li><span><a href=\"#Эффективность-обогащения.\" data-toc-modified-id=\"Эффективность-обогащения.-1.2\"><span class=\"toc-item-num\">1.2&nbsp;&nbsp;</span>Эффективность обогащения.</a></span></li><li><span><a href=\"#Признаки-недоступные-в-тестовой-выборке\" data-toc-modified-id=\"Признаки-недоступные-в-тестовой-выборке-1.3\"><span class=\"toc-item-num\">1.3&nbsp;&nbsp;</span>Признаки недоступные в тестовой выборке</a></span></li><li><span><a href=\"#Предобработка-данных\" data-toc-modified-id=\"Предобработка-данных-1.4\"><span class=\"toc-item-num\">1.4&nbsp;&nbsp;</span>Предобработка данных</a></span><ul class=\"toc-item\"><li><span><a href=\"#Формат-значений-столбца-date\" data-toc-modified-id=\"Формат-значений-столбца-date-1.4.1\"><span class=\"toc-item-num\">1.4.1&nbsp;&nbsp;</span>Формат значений столбца date</a></span></li><li><span><a href=\"#Пропуски\" data-toc-modified-id=\"Пропуски-1.4.2\"><span class=\"toc-item-num\">1.4.2&nbsp;&nbsp;</span>Пропуски</a></span></li></ul></li></ul></li><li><span><a href=\"#Анализ-данных\" data-toc-modified-id=\"Анализ-данных-2\"><span class=\"toc-item-num\">2&nbsp;&nbsp;</span>Анализ данных</a></span><ul class=\"toc-item\"><li><span><a href=\"#Концентрация-металлов-(Au,-Ag,-Pb)-на-различных-этапах-очистки\" data-toc-modified-id=\"Концентрация-металлов-(Au,-Ag,-Pb)-на-различных-этапах-очистки-2.1\"><span class=\"toc-item-num\">2.1&nbsp;&nbsp;</span>Концентрация металлов (Au, Ag, Pb) на различных этапах очистки</a></span><ul class=\"toc-item\"><li><span><a href=\"#Au\" data-toc-modified-id=\"Au-2.1.1\"><span class=\"toc-item-num\">2.1.1&nbsp;&nbsp;</span>Au</a></span></li><li><span><a href=\"#Ag\" data-toc-modified-id=\"Ag-2.1.2\"><span class=\"toc-item-num\">2.1.2&nbsp;&nbsp;</span>Ag</a></span></li><li><span><a href=\"#Pb\" data-toc-modified-id=\"Pb-2.1.3\"><span class=\"toc-item-num\">2.1.3&nbsp;&nbsp;</span>Pb</a></span></li></ul></li><li><span><a href=\"#Cуммарная-концентрация-всех-веществ-на-разных-стадиях:-в-сырье,-в-черновом-и-финальном-концентратах\" data-toc-modified-id=\"Cуммарная-концентрация-всех-веществ-на-разных-стадиях:-в-сырье,-в-черновом-и-финальном-концентратах-2.2\"><span class=\"toc-item-num\">2.2&nbsp;&nbsp;</span>Cуммарная концентрация всех веществ на разных стадиях: в сырье, в черновом и финальном концентратах</a></span></li><li><span><a href=\"#Распределение-размеров-гранул-сырья-на-обучающей-и-тестовой-выборках\" data-toc-modified-id=\"Распределение-размеров-гранул-сырья-на-обучающей-и-тестовой-выборках-2.3\"><span class=\"toc-item-num\">2.3&nbsp;&nbsp;</span>Распределение размеров гранул сырья на обучающей и тестовой выборках</a></span></li></ul></li><li><span><a href=\"#Модель\" data-toc-modified-id=\"Модель-3\"><span class=\"toc-item-num\">3&nbsp;&nbsp;</span>Модель</a></span><ul class=\"toc-item\"><li><span><a href=\"#Функция-для-вычисления-итоговой-sMAPE\" data-toc-modified-id=\"Функция-для-вычисления-итоговой-sMAPE-3.1\"><span class=\"toc-item-num\">3.1&nbsp;&nbsp;</span>Функция для вычисления итоговой sMAPE</a></span></li><li><span><a href=\"#Подбор-модели.\" data-toc-modified-id=\"Подбор-модели.-3.2\"><span class=\"toc-item-num\">3.2&nbsp;&nbsp;</span>Подбор модели.</a></span><ul class=\"toc-item\"><li><span><a href=\"#Выборки-Test-и-Train\" data-toc-modified-id=\"Выборки-Test-и-Train-3.2.1\"><span class=\"toc-item-num\">3.2.1&nbsp;&nbsp;</span>Выборки Test и Train</a></span></li><li><span><a href=\"#DecisionTree-Regressor\" data-toc-modified-id=\"DecisionTree-Regressor-3.2.2\"><span class=\"toc-item-num\">3.2.2&nbsp;&nbsp;</span>DecisionTree Regressor</a></span><ul class=\"toc-item\"><li><span><a href=\"#Rougher\" data-toc-modified-id=\"Rougher-3.2.2.1\"><span class=\"toc-item-num\">3.2.2.1&nbsp;&nbsp;</span>Rougher</a></span></li><li><span><a href=\"#Final\" data-toc-modified-id=\"Final-3.2.2.2\"><span class=\"toc-item-num\">3.2.2.2&nbsp;&nbsp;</span>Final</a></span></li></ul></li><li><span><a href=\"#RandomForestRegressor\" data-toc-modified-id=\"RandomForestRegressor-3.2.3\"><span class=\"toc-item-num\">3.2.3&nbsp;&nbsp;</span>RandomForestRegressor</a></span><ul class=\"toc-item\"><li><span><a href=\"#Rougher\" data-toc-modified-id=\"Rougher-3.2.3.1\"><span class=\"toc-item-num\">3.2.3.1&nbsp;&nbsp;</span>Rougher</a></span></li><li><span><a href=\"#Final\" data-toc-modified-id=\"Final-3.2.3.2\"><span class=\"toc-item-num\">3.2.3.2&nbsp;&nbsp;</span>Final</a></span></li></ul></li><li><span><a href=\"#LinearRegression\" data-toc-modified-id=\"LinearRegression-3.2.4\"><span class=\"toc-item-num\">3.2.4&nbsp;&nbsp;</span>LinearRegression</a></span><ul class=\"toc-item\"><li><span><a href=\"#Rougher\" data-toc-modified-id=\"Rougher-3.2.4.1\"><span class=\"toc-item-num\">3.2.4.1&nbsp;&nbsp;</span>Rougher</a></span></li><li><span><a href=\"#Final\" data-toc-modified-id=\"Final-3.2.4.2\"><span class=\"toc-item-num\">3.2.4.2&nbsp;&nbsp;</span>Final</a></span></li></ul></li></ul></li><li><span><a href=\"#Тестовая-выборка.\" data-toc-modified-id=\"Тестовая-выборка.-3.3\"><span class=\"toc-item-num\">3.3&nbsp;&nbsp;</span>Тестовая выборка.</a></span></li><li><span><a href=\"#Константная-модель\" data-toc-modified-id=\"Константная-модель-3.4\"><span class=\"toc-item-num\">3.4&nbsp;&nbsp;</span>Константная модель</a></span></li></ul></li><li><span><a href=\"#Вывод\" data-toc-modified-id=\"Вывод-4\"><span class=\"toc-item-num\">4&nbsp;&nbsp;</span>Вывод</a></span></li></ul></div>"
   ]
  },
  {
   "cell_type": "markdown",
   "metadata": {},
   "source": [
    "## Подготовка данных"
   ]
  },
  {
   "cell_type": "code",
   "execution_count": 1,
   "metadata": {},
   "outputs": [],
   "source": [
    "import pandas as pd\n",
    "import numpy as np\n",
    "import seaborn as sns\n",
    "import matplotlib.pyplot as plt\n",
    "\n",
    "from sklearn.metrics import mean_absolute_error, mean_squared_error, make_scorer\n",
    "from sklearn.model_selection import train_test_split, cross_val_score, GridSearchCV\n",
    "from sklearn.preprocessing import StandardScaler\n",
    "from sklearn.tree import DecisionTreeRegressor\n",
    "from sklearn.linear_model import LinearRegression\n",
    "from sklearn.ensemble import RandomForestRegressor\n",
    "from sklearn.dummy import DummyRegressor\n",
    "\n",
    "import warnings\n",
    "warnings.simplefilter(action='ignore', category=FutureWarning)\n",
    "\n",
    "RANDOM = 12345\n",
    "\n",
    "pd.options.display.max_columns = 87 # вывода на экран 100 столбцов \n",
    "pd.options.display.max_rows = 100 # вывода на экран 100 строк"
   ]
  },
  {
   "cell_type": "markdown",
   "metadata": {},
   "source": [
    "### Откроем и изучим данные"
   ]
  },
  {
   "cell_type": "markdown",
   "metadata": {},
   "source": [
    "#### Прочитаем и сохраним датасеты"
   ]
  },
  {
   "cell_type": "code",
   "execution_count": 2,
   "metadata": {},
   "outputs": [],
   "source": [
    "try:\n",
    "    df_full = pd.read_csv('datasets/gold_industry_full.csv')\n",
    "    df_train = pd.read_csv('/datasets/gold_industry_train.csv')\n",
    "    df_test = pd.read_csv('/datasets/gold_industry_test.csv')"
   ]
  },
  {
   "cell_type": "code",
   "execution_count": 3,
   "metadata": {},
   "outputs": [],
   "source": [
    "dfs = [df_full, df_train, df_test]"
   ]
  },
  {
   "cell_type": "markdown",
   "metadata": {},
   "source": [
    "#### Изучим данные датасетов"
   ]
  },
  {
   "cell_type": "markdown",
   "metadata": {},
   "source": [
    "Выведим первые 5 строк датасетов"
   ]
  },
  {
   "cell_type": "code",
   "execution_count": 4,
   "metadata": {
    "scrolled": true
   },
   "outputs": [
    {
     "data": {
      "text/plain": [
       "[                  date  rougher.input.feed_au  rougher.input.feed_ag  \\\n",
       " 0  2016-01-15 00:00:00               6.486150               6.100378   \n",
       " 1  2016-01-15 01:00:00               6.478583               6.161113   \n",
       " 2  2016-01-15 02:00:00               6.362222               6.116455   \n",
       " 3  2016-01-15 03:00:00               6.118189               6.043309   \n",
       " 4  2016-01-15 04:00:00               5.663707               6.060915   \n",
       " \n",
       "    rougher.input.feed_pb  rougher.input.feed_sol  rougher.input.feed_rate  \\\n",
       " 0               2.284912               36.808594               523.546326   \n",
       " 1               2.266033               35.753385               525.290581   \n",
       " 2               2.159622               35.971630               530.026610   \n",
       " 3               2.037807               36.862241               542.590390   \n",
       " 4               1.786875               34.347666               540.531893   \n",
       " \n",
       "    rougher.input.feed_size  rougher.input.floatbank10_sulfate  \\\n",
       " 0                55.486599                          11.986616   \n",
       " 1                57.278666                          11.971193   \n",
       " 2                57.510649                          11.920603   \n",
       " 3                57.792734                          11.630094   \n",
       " 4                56.047189                          10.957755   \n",
       " \n",
       "    rougher.input.floatbank10_xanthate  rougher.state.floatbank10_a_air  \\\n",
       " 0                            6.007990                       999.706909   \n",
       " 1                            6.005766                      1000.286398   \n",
       " 2                            6.197377                       999.719565   \n",
       " 3                            6.203177                       999.814770   \n",
       " 4                            6.198826                       999.678690   \n",
       " \n",
       "    rougher.state.floatbank10_a_level  rougher.state.floatbank10_b_air  \\\n",
       " 0                        -404.066986                      1603.011353   \n",
       " 1                        -400.065196                      1600.754587   \n",
       " 2                        -400.074028                      1599.337330   \n",
       " 3                        -400.200179                      1600.059442   \n",
       " 4                        -399.752729                      1600.208824   \n",
       " \n",
       "    rougher.state.floatbank10_b_level  rougher.state.floatbank10_c_air  \\\n",
       " 0                        -434.715027                      1602.375000   \n",
       " 1                        -449.953435                      1600.479580   \n",
       " 2                        -450.008530                      1599.672797   \n",
       " 3                        -450.619948                      1600.012842   \n",
       " 4                        -449.599614                      1600.357732   \n",
       " \n",
       "    rougher.state.floatbank10_c_level  rougher.state.floatbank10_d_air  \\\n",
       " 0                        -442.204468                      1598.937256   \n",
       " 1                        -449.830646                      1600.527589   \n",
       " 2                        -449.954491                      1599.849325   \n",
       " 3                        -449.910497                      1597.725177   \n",
       " 4                        -450.034364                      1599.759049   \n",
       " \n",
       "    rougher.state.floatbank10_d_level  rougher.state.floatbank10_e_air  \\\n",
       " 0                        -451.294128                      1404.472046   \n",
       " 1                        -449.953649                      1399.227084   \n",
       " 2                        -449.954185                      1399.180945   \n",
       " 3                        -450.130127                      1400.943157   \n",
       " 4                        -449.909799                      1401.560902   \n",
       " \n",
       "    rougher.state.floatbank10_e_level  rougher.state.floatbank10_f_air  \\\n",
       " 0                        -455.462982                      1416.354980   \n",
       " 1                        -450.869848                      1399.719514   \n",
       " 2                        -449.937588                      1400.316682   \n",
       " 3                        -450.030142                      1400.234743   \n",
       " 4                        -448.877187                      1401.160227   \n",
       " \n",
       "    rougher.state.floatbank10_f_level  rougher.input.floatbank11_sulfate  \\\n",
       " 0                        -451.939636                          11.836743   \n",
       " 1                        -450.119001                          11.996163   \n",
       " 2                        -450.527147                          11.920305   \n",
       " 3                        -449.790835                          11.692450   \n",
       " 4                        -450.407128                          10.960521   \n",
       " \n",
       "    rougher.input.floatbank11_xanthate  \\\n",
       " 0                            6.005818   \n",
       " 1                            6.012594   \n",
       " 2                            6.204633   \n",
       " 3                            6.196578   \n",
       " 4                            6.194897   \n",
       " \n",
       "    rougher.calculation.sulfate_to_au_concentrate  \\\n",
       " 0                                   41885.707031   \n",
       " 1                                   42050.861809   \n",
       " 2                                   42018.101184   \n",
       " 3                                   42029.447991   \n",
       " 4                                   42125.354245   \n",
       " \n",
       "    rougher.calculation.floatbank10_sulfate_to_au_feed  \\\n",
       " 0                                        3481.779053    \n",
       " 1                                        3498.370979    \n",
       " 2                                        3495.348910    \n",
       " 3                                        3498.578313    \n",
       " 4                                        3494.800771    \n",
       " \n",
       "    rougher.calculation.floatbank11_sulfate_to_au_feed  \\\n",
       " 0                                        3520.337158    \n",
       " 1                                        3489.981857    \n",
       " 2                                        3502.359819    \n",
       " 3                                        3499.162912    \n",
       " 4                                        3506.679315    \n",
       " \n",
       "    rougher.calculation.au_pb_ratio  rougher.output.concentrate_au  \\\n",
       " 0                         2.838687                      19.793808   \n",
       " 1                         2.858998                      20.050975   \n",
       " 2                         2.945989                      19.737170   \n",
       " 3                         3.002340                      19.320810   \n",
       " 4                         3.169615                      19.216101   \n",
       " \n",
       "    rougher.output.concentrate_ag  rougher.output.concentrate_pb  \\\n",
       " 0                      11.500771                       7.101074   \n",
       " 1                      11.615865                       7.278807   \n",
       " 2                      11.695753                       7.216833   \n",
       " 3                      11.915047                       7.175616   \n",
       " 4                      12.411054                       7.240205   \n",
       " \n",
       "    rougher.output.concentrate_sol  rougher.output.recovery  \\\n",
       " 0                       28.029297                87.107763   \n",
       " 1                       28.067063                86.843261   \n",
       " 2                       27.454037                86.842308   \n",
       " 3                       27.341277                87.226430   \n",
       " 4                       27.041023                86.688794   \n",
       " \n",
       "    rougher.output.tail_au  rougher.output.tail_ag  rougher.output.tail_pb  \\\n",
       " 0                1.170244                5.008018                0.508728   \n",
       " 1                1.184827                4.955378                0.536689   \n",
       " 2                1.162562                4.843460                0.546416   \n",
       " 3                1.079755                4.655288                0.542525   \n",
       " 4                1.012642                4.552800                0.515438   \n",
       " \n",
       "    rougher.output.tail_sol  primary_cleaner.input.sulfate  \\\n",
       " 0                19.154297                     127.092003   \n",
       " 1                18.965234                     125.629232   \n",
       " 2                18.808533                     123.819808   \n",
       " 3                19.330200                     122.270188   \n",
       " 4                19.267422                     117.988169   \n",
       " \n",
       "    primary_cleaner.input.depressant  primary_cleaner.input.feed_size  \\\n",
       " 0                         10.128295                             7.25   \n",
       " 1                         10.296251                             7.25   \n",
       " 2                         11.316280                             7.25   \n",
       " 3                         11.322140                             7.25   \n",
       " 4                         11.913613                             7.25   \n",
       " \n",
       "    primary_cleaner.input.xanthate  primary_cleaner.state.floatbank8_a_air  \\\n",
       " 0                        0.988759                             1549.775757   \n",
       " 1                        1.002663                             1576.166671   \n",
       " 2                        0.991265                             1601.556163   \n",
       " 3                        0.996739                             1599.968720   \n",
       " 4                        1.009869                             1601.339707   \n",
       " \n",
       "    primary_cleaner.state.floatbank8_a_level  \\\n",
       " 0                               -498.912140   \n",
       " 1                               -500.904965   \n",
       " 2                               -499.997791   \n",
       " 3                               -500.951778   \n",
       " 4                               -498.975456   \n",
       " \n",
       "    primary_cleaner.state.floatbank8_b_air  \\\n",
       " 0                             1551.434204   \n",
       " 1                             1575.950626   \n",
       " 2                             1600.386685   \n",
       " 3                             1600.659236   \n",
       " 4                             1601.437854   \n",
       " \n",
       "    primary_cleaner.state.floatbank8_b_level  \\\n",
       " 0                               -516.403442   \n",
       " 1                               -499.865889   \n",
       " 2                               -500.607762   \n",
       " 3                               -499.677094   \n",
       " 4                               -500.323246   \n",
       " \n",
       "    primary_cleaner.state.floatbank8_c_air  \\\n",
       " 0                             1549.873901   \n",
       " 1                             1575.994189   \n",
       " 2                             1602.003542   \n",
       " 3                             1600.304144   \n",
       " 4                             1599.581894   \n",
       " \n",
       "    primary_cleaner.state.floatbank8_c_level  \\\n",
       " 0                               -498.666595   \n",
       " 1                               -499.315107   \n",
       " 2                               -500.870069   \n",
       " 3                               -500.727997   \n",
       " 4                               -500.888152   \n",
       " \n",
       "    primary_cleaner.state.floatbank8_d_air  \\\n",
       " 0                             1554.367432   \n",
       " 1                             1574.479259   \n",
       " 2                             1599.541515   \n",
       " 3                             1600.449520   \n",
       " 4                             1602.649541   \n",
       " \n",
       "    primary_cleaner.state.floatbank8_d_level  \\\n",
       " 0                               -493.428131   \n",
       " 1                               -498.931665   \n",
       " 2                               -499.827444   \n",
       " 3                               -500.052575   \n",
       " 4                               -500.593010   \n",
       " \n",
       "    primary_cleaner.output.concentrate_au  \\\n",
       " 0                              34.174427   \n",
       " 1                              34.118526   \n",
       " 2                              33.969464   \n",
       " 3                              28.260743   \n",
       " 4                              33.044932   \n",
       " \n",
       "    primary_cleaner.output.concentrate_ag  \\\n",
       " 0                               8.547551   \n",
       " 1                               8.558743   \n",
       " 2                               8.603505   \n",
       " 3                               7.221879   \n",
       " 4                               9.089428   \n",
       " \n",
       "    primary_cleaner.output.concentrate_pb  \\\n",
       " 0                              10.389648   \n",
       " 1                              10.497069   \n",
       " 2                              10.354494   \n",
       " 3                               8.496563   \n",
       " 4                               9.986786   \n",
       " \n",
       "    primary_cleaner.output.concentrate_sol  primary_cleaner.output.tail_au  \\\n",
       " 0                               19.529297                        2.106679   \n",
       " 1                               19.369147                        2.353017   \n",
       " 2                               19.167579                        2.416800   \n",
       " 3                               15.978538                        2.262051   \n",
       " 4                               19.199864                        2.277073   \n",
       " \n",
       "    primary_cleaner.output.tail_ag  primary_cleaner.output.tail_pb  \\\n",
       " 0                       14.936526                        2.534912   \n",
       " 1                       16.250511                        3.049646   \n",
       " 2                       16.491823                        3.124664   \n",
       " 3                       16.024359                        2.960362   \n",
       " 4                       16.480185                        3.112100   \n",
       " \n",
       "    primary_cleaner.output.tail_sol  secondary_cleaner.state.floatbank2_a_air  \\\n",
       " 0                         7.476074                                 25.853109   \n",
       " 1                         6.733907                                 25.880539   \n",
       " 2                         6.471768                                 26.005245   \n",
       " 3                         6.843791                                 25.942508   \n",
       " 4                         6.550154                                 26.024787   \n",
       " \n",
       "    secondary_cleaner.state.floatbank2_a_level  \\\n",
       " 0                                 -498.526489   \n",
       " 1                                 -499.989656   \n",
       " 2                                 -499.929616   \n",
       " 3                                 -499.176749   \n",
       " 4                                 -500.279091   \n",
       " \n",
       "    secondary_cleaner.state.floatbank2_b_air  \\\n",
       " 0                                 23.893660   \n",
       " 1                                 23.889530   \n",
       " 2                                 23.886657   \n",
       " 3                                 23.955516   \n",
       " 4                                 23.955345   \n",
       " \n",
       "    secondary_cleaner.state.floatbank2_b_level  \\\n",
       " 0                                 -501.406281   \n",
       " 1                                 -500.372428   \n",
       " 2                                 -499.951928   \n",
       " 3                                 -499.848796   \n",
       " 4                                 -500.593614   \n",
       " \n",
       "    secondary_cleaner.state.floatbank3_a_air  \\\n",
       " 0                                 23.961798   \n",
       " 1                                 23.970550   \n",
       " 2                                 23.913535   \n",
       " 3                                 23.966838   \n",
       " 4                                 23.985703   \n",
       " \n",
       "    secondary_cleaner.state.floatbank3_a_level  \\\n",
       " 0                                 -495.262817   \n",
       " 1                                 -500.085473   \n",
       " 2                                 -499.442343   \n",
       " 3                                 -500.008812   \n",
       " 4                                 -500.083811   \n",
       " \n",
       "    secondary_cleaner.state.floatbank3_b_air  \\\n",
       " 0                                 21.940409   \n",
       " 1                                 22.085714   \n",
       " 2                                 23.957717   \n",
       " 3                                 23.954443   \n",
       " 4                                 23.958945   \n",
       " \n",
       "    secondary_cleaner.state.floatbank3_b_level  \\\n",
       " 0                                 -499.340973   \n",
       " 1                                 -499.446897   \n",
       " 2                                 -499.901982   \n",
       " 3                                 -499.944710   \n",
       " 4                                 -499.990309   \n",
       " \n",
       "    secondary_cleaner.state.floatbank4_a_air  \\\n",
       " 0                                 14.016835   \n",
       " 1                                 13.992281   \n",
       " 2                                 14.015015   \n",
       " 3                                 14.036510   \n",
       " 4                                 14.027298   \n",
       " \n",
       "    secondary_cleaner.state.floatbank4_a_level  \\\n",
       " 0                                 -502.488007   \n",
       " 1                                 -505.503262   \n",
       " 2                                 -502.520901   \n",
       " 3                                 -500.857308   \n",
       " 4                                 -499.838632   \n",
       " \n",
       "    secondary_cleaner.state.floatbank4_b_air  \\\n",
       " 0                                 12.099931   \n",
       " 1                                 11.950531   \n",
       " 2                                 11.912783   \n",
       " 3                                 11.999550   \n",
       " 4                                 11.953070   \n",
       " \n",
       "    secondary_cleaner.state.floatbank4_b_level  \\\n",
       " 0                                 -504.715942   \n",
       " 1                                 -501.331529   \n",
       " 2                                 -501.133383   \n",
       " 3                                 -501.193686   \n",
       " 4                                 -501.053894   \n",
       " \n",
       "    secondary_cleaner.state.floatbank5_a_air  \\\n",
       " 0                                  9.925633   \n",
       " 1                                 10.039245   \n",
       " 2                                 10.070913   \n",
       " 3                                  9.970366   \n",
       " 4                                  9.925709   \n",
       " \n",
       "    secondary_cleaner.state.floatbank5_a_level  \\\n",
       " 0                                 -498.310211   \n",
       " 1                                 -500.169983   \n",
       " 2                                 -500.129135   \n",
       " 3                                 -499.201640   \n",
       " 4                                 -501.686727   \n",
       " \n",
       "    secondary_cleaner.state.floatbank5_b_air  \\\n",
       " 0                                  8.079666   \n",
       " 1                                  7.984757   \n",
       " 2                                  8.013877   \n",
       " 3                                  7.977324   \n",
       " 4                                  7.894242   \n",
       " \n",
       "    secondary_cleaner.state.floatbank5_b_level  \\\n",
       " 0                                 -500.470978   \n",
       " 1                                 -500.582168   \n",
       " 2                                 -500.517572   \n",
       " 3                                 -500.255908   \n",
       " 4                                 -500.356035   \n",
       " \n",
       "    secondary_cleaner.state.floatbank6_a_air  \\\n",
       " 0                                 14.151341   \n",
       " 1                                 13.998353   \n",
       " 2                                 14.028663   \n",
       " 3                                 14.005551   \n",
       " 4                                 13.996647   \n",
       " \n",
       "    secondary_cleaner.state.floatbank6_a_level  \\\n",
       " 0                                 -605.841980   \n",
       " 1                                 -599.787184   \n",
       " 2                                 -601.427363   \n",
       " 3                                 -599.996129   \n",
       " 4                                 -601.496691   \n",
       " \n",
       "    secondary_cleaner.output.tail_au  secondary_cleaner.output.tail_ag  \\\n",
       " 0                          2.606185                         14.500184   \n",
       " 1                          2.488248                         14.265474   \n",
       " 2                          2.458187                         14.115662   \n",
       " 3                          2.322062                         13.732071   \n",
       " 4                          2.330448                         14.079996   \n",
       " \n",
       "    secondary_cleaner.output.tail_pb  secondary_cleaner.output.tail_sol  \\\n",
       " 0                          4.694824                           8.764648   \n",
       " 1                          4.592547                           9.001494   \n",
       " 2                          4.624775                           8.842896   \n",
       " 3                          4.482453                           9.122857   \n",
       " 4                          4.470737                           8.871028   \n",
       " \n",
       "    final.output.concentrate_au  final.output.concentrate_ag  \\\n",
       " 0                    42.192020                     6.055403   \n",
       " 1                    42.701629                     6.029369   \n",
       " 2                    42.657501                     6.055926   \n",
       " 3                    42.689819                     6.047977   \n",
       " 4                    42.774141                     6.148599   \n",
       " \n",
       "    final.output.concentrate_pb  final.output.concentrate_sol  \\\n",
       " 0                     9.889648                      5.507324   \n",
       " 1                     9.968944                      5.257781   \n",
       " 2                    10.213995                      5.383759   \n",
       " 3                     9.977019                      4.858634   \n",
       " 4                    10.142511                      4.939416   \n",
       " \n",
       "    final.output.recovery  final.output.tail_au  final.output.tail_ag  \\\n",
       " 0              70.541216              2.143149             10.411962   \n",
       " 1              69.266198              2.224930             10.462676   \n",
       " 2              68.116445              2.257889             10.507046   \n",
       " 3              68.347543              2.146849             10.422762   \n",
       " 4              66.927016              2.055292             10.360302   \n",
       " \n",
       "    final.output.tail_pb  final.output.tail_sol  \n",
       " 0              0.895447              16.904297  \n",
       " 1              0.927452              16.634514  \n",
       " 2              0.953716              16.208849  \n",
       " 3              0.883763              16.532835  \n",
       " 4              0.792826              16.525686  ,\n",
       "                   date  rougher.input.feed_au  rougher.input.feed_ag  \\\n",
       " 0  2016-01-15 00:00:00               6.486150               6.100378   \n",
       " 1  2016-01-15 01:00:00               6.478583               6.161113   \n",
       " 2  2016-01-15 02:00:00               6.362222               6.116455   \n",
       " 3  2016-01-15 03:00:00               6.118189               6.043309   \n",
       " 4  2016-01-15 04:00:00               5.663707               6.060915   \n",
       " \n",
       "    rougher.input.feed_pb  rougher.input.feed_sol  rougher.input.feed_rate  \\\n",
       " 0               2.284912               36.808594               523.546326   \n",
       " 1               2.266033               35.753385               525.290581   \n",
       " 2               2.159622               35.971630               530.026610   \n",
       " 3               2.037807               36.862241               542.590390   \n",
       " 4               1.786875               34.347666               540.531893   \n",
       " \n",
       "    rougher.input.feed_size  rougher.input.floatbank10_sulfate  \\\n",
       " 0                55.486599                          11.986616   \n",
       " 1                57.278666                          11.971193   \n",
       " 2                57.510649                          11.920603   \n",
       " 3                57.792734                          11.630094   \n",
       " 4                56.047189                          10.957755   \n",
       " \n",
       "    rougher.input.floatbank10_xanthate  rougher.state.floatbank10_a_air  \\\n",
       " 0                            6.007990                       999.706909   \n",
       " 1                            6.005766                      1000.286398   \n",
       " 2                            6.197377                       999.719565   \n",
       " 3                            6.203177                       999.814770   \n",
       " 4                            6.198826                       999.678690   \n",
       " \n",
       "    rougher.state.floatbank10_a_level  rougher.state.floatbank10_b_air  \\\n",
       " 0                        -404.066986                      1603.011353   \n",
       " 1                        -400.065196                      1600.754587   \n",
       " 2                        -400.074028                      1599.337330   \n",
       " 3                        -400.200179                      1600.059442   \n",
       " 4                        -399.752729                      1600.208824   \n",
       " \n",
       "    rougher.state.floatbank10_b_level  rougher.state.floatbank10_c_air  \\\n",
       " 0                        -434.715027                      1602.375000   \n",
       " 1                        -449.953435                      1600.479580   \n",
       " 2                        -450.008530                      1599.672797   \n",
       " 3                        -450.619948                      1600.012842   \n",
       " 4                        -449.599614                      1600.357732   \n",
       " \n",
       "    rougher.state.floatbank10_c_level  rougher.state.floatbank10_d_air  \\\n",
       " 0                        -442.204468                      1598.937256   \n",
       " 1                        -449.830646                      1600.527589   \n",
       " 2                        -449.954491                      1599.849325   \n",
       " 3                        -449.910497                      1597.725177   \n",
       " 4                        -450.034364                      1599.759049   \n",
       " \n",
       "    rougher.state.floatbank10_d_level  rougher.state.floatbank10_e_air  \\\n",
       " 0                        -451.294128                      1404.472046   \n",
       " 1                        -449.953649                      1399.227084   \n",
       " 2                        -449.954185                      1399.180945   \n",
       " 3                        -450.130127                      1400.943157   \n",
       " 4                        -449.909799                      1401.560902   \n",
       " \n",
       "    rougher.state.floatbank10_e_level  rougher.state.floatbank10_f_air  \\\n",
       " 0                        -455.462982                      1416.354980   \n",
       " 1                        -450.869848                      1399.719514   \n",
       " 2                        -449.937588                      1400.316682   \n",
       " 3                        -450.030142                      1400.234743   \n",
       " 4                        -448.877187                      1401.160227   \n",
       " \n",
       "    rougher.state.floatbank10_f_level  rougher.input.floatbank11_sulfate  \\\n",
       " 0                        -451.939636                          11.836743   \n",
       " 1                        -450.119001                          11.996163   \n",
       " 2                        -450.527147                          11.920305   \n",
       " 3                        -449.790835                          11.692450   \n",
       " 4                        -450.407128                          10.960521   \n",
       " \n",
       "    rougher.input.floatbank11_xanthate  \\\n",
       " 0                            6.005818   \n",
       " 1                            6.012594   \n",
       " 2                            6.204633   \n",
       " 3                            6.196578   \n",
       " 4                            6.194897   \n",
       " \n",
       "    rougher.calculation.sulfate_to_au_concentrate  \\\n",
       " 0                                   41885.707031   \n",
       " 1                                   42050.861809   \n",
       " 2                                   42018.101184   \n",
       " 3                                   42029.447991   \n",
       " 4                                   42125.354245   \n",
       " \n",
       "    rougher.calculation.floatbank10_sulfate_to_au_feed  \\\n",
       " 0                                        3481.779053    \n",
       " 1                                        3498.370979    \n",
       " 2                                        3495.348910    \n",
       " 3                                        3498.578313    \n",
       " 4                                        3494.800771    \n",
       " \n",
       "    rougher.calculation.floatbank11_sulfate_to_au_feed  \\\n",
       " 0                                        3520.337158    \n",
       " 1                                        3489.981857    \n",
       " 2                                        3502.359819    \n",
       " 3                                        3499.162912    \n",
       " 4                                        3506.679315    \n",
       " \n",
       "    rougher.calculation.au_pb_ratio  rougher.output.concentrate_au  \\\n",
       " 0                         2.838687                      19.793808   \n",
       " 1                         2.858998                      20.050975   \n",
       " 2                         2.945989                      19.737170   \n",
       " 3                         3.002340                      19.320810   \n",
       " 4                         3.169615                      19.216101   \n",
       " \n",
       "    rougher.output.concentrate_ag  rougher.output.concentrate_pb  \\\n",
       " 0                      11.500771                       7.101074   \n",
       " 1                      11.615865                       7.278807   \n",
       " 2                      11.695753                       7.216833   \n",
       " 3                      11.915047                       7.175616   \n",
       " 4                      12.411054                       7.240205   \n",
       " \n",
       "    rougher.output.concentrate_sol  rougher.output.recovery  \\\n",
       " 0                       28.029297                87.107763   \n",
       " 1                       28.067063                86.843261   \n",
       " 2                       27.454037                86.842308   \n",
       " 3                       27.341277                87.226430   \n",
       " 4                       27.041023                86.688794   \n",
       " \n",
       "    rougher.output.tail_au  rougher.output.tail_ag  rougher.output.tail_pb  \\\n",
       " 0                1.170244                5.008018                0.508728   \n",
       " 1                1.184827                4.955378                0.536689   \n",
       " 2                1.162562                4.843460                0.546416   \n",
       " 3                1.079755                4.655288                0.542525   \n",
       " 4                1.012642                4.552800                0.515438   \n",
       " \n",
       "    rougher.output.tail_sol  primary_cleaner.input.sulfate  \\\n",
       " 0                19.154297                     127.092003   \n",
       " 1                18.965234                     125.629232   \n",
       " 2                18.808533                     123.819808   \n",
       " 3                19.330200                     122.270188   \n",
       " 4                19.267422                     117.988169   \n",
       " \n",
       "    primary_cleaner.input.depressant  primary_cleaner.input.feed_size  \\\n",
       " 0                         10.128295                             7.25   \n",
       " 1                         10.296251                             7.25   \n",
       " 2                         11.316280                             7.25   \n",
       " 3                         11.322140                             7.25   \n",
       " 4                         11.913613                             7.25   \n",
       " \n",
       "    primary_cleaner.input.xanthate  primary_cleaner.state.floatbank8_a_air  \\\n",
       " 0                        0.988759                             1549.775757   \n",
       " 1                        1.002663                             1576.166671   \n",
       " 2                        0.991265                             1601.556163   \n",
       " 3                        0.996739                             1599.968720   \n",
       " 4                        1.009869                             1601.339707   \n",
       " \n",
       "    primary_cleaner.state.floatbank8_a_level  \\\n",
       " 0                               -498.912140   \n",
       " 1                               -500.904965   \n",
       " 2                               -499.997791   \n",
       " 3                               -500.951778   \n",
       " 4                               -498.975456   \n",
       " \n",
       "    primary_cleaner.state.floatbank8_b_air  \\\n",
       " 0                             1551.434204   \n",
       " 1                             1575.950626   \n",
       " 2                             1600.386685   \n",
       " 3                             1600.659236   \n",
       " 4                             1601.437854   \n",
       " \n",
       "    primary_cleaner.state.floatbank8_b_level  \\\n",
       " 0                               -516.403442   \n",
       " 1                               -499.865889   \n",
       " 2                               -500.607762   \n",
       " 3                               -499.677094   \n",
       " 4                               -500.323246   \n",
       " \n",
       "    primary_cleaner.state.floatbank8_c_air  \\\n",
       " 0                             1549.873901   \n",
       " 1                             1575.994189   \n",
       " 2                             1602.003542   \n",
       " 3                             1600.304144   \n",
       " 4                             1599.581894   \n",
       " \n",
       "    primary_cleaner.state.floatbank8_c_level  \\\n",
       " 0                               -498.666595   \n",
       " 1                               -499.315107   \n",
       " 2                               -500.870069   \n",
       " 3                               -500.727997   \n",
       " 4                               -500.888152   \n",
       " \n",
       "    primary_cleaner.state.floatbank8_d_air  \\\n",
       " 0                             1554.367432   \n",
       " 1                             1574.479259   \n",
       " 2                             1599.541515   \n",
       " 3                             1600.449520   \n",
       " 4                             1602.649541   \n",
       " \n",
       "    primary_cleaner.state.floatbank8_d_level  \\\n",
       " 0                               -493.428131   \n",
       " 1                               -498.931665   \n",
       " 2                               -499.827444   \n",
       " 3                               -500.052575   \n",
       " 4                               -500.593010   \n",
       " \n",
       "    primary_cleaner.output.concentrate_au  \\\n",
       " 0                              34.174427   \n",
       " 1                              34.118526   \n",
       " 2                              33.969464   \n",
       " 3                              28.260743   \n",
       " 4                              33.044932   \n",
       " \n",
       "    primary_cleaner.output.concentrate_ag  \\\n",
       " 0                               8.547551   \n",
       " 1                               8.558743   \n",
       " 2                               8.603505   \n",
       " 3                               7.221879   \n",
       " 4                               9.089428   \n",
       " \n",
       "    primary_cleaner.output.concentrate_pb  \\\n",
       " 0                              10.389648   \n",
       " 1                              10.497069   \n",
       " 2                              10.354494   \n",
       " 3                               8.496563   \n",
       " 4                               9.986786   \n",
       " \n",
       "    primary_cleaner.output.concentrate_sol  primary_cleaner.output.tail_au  \\\n",
       " 0                               19.529297                        2.106679   \n",
       " 1                               19.369147                        2.353017   \n",
       " 2                               19.167579                        2.416800   \n",
       " 3                               15.978538                        2.262051   \n",
       " 4                               19.199864                        2.277073   \n",
       " \n",
       "    primary_cleaner.output.tail_ag  primary_cleaner.output.tail_pb  \\\n",
       " 0                       14.936526                        2.534912   \n",
       " 1                       16.250511                        3.049646   \n",
       " 2                       16.491823                        3.124664   \n",
       " 3                       16.024359                        2.960362   \n",
       " 4                       16.480185                        3.112100   \n",
       " \n",
       "    primary_cleaner.output.tail_sol  secondary_cleaner.state.floatbank2_a_air  \\\n",
       " 0                         7.476074                                 25.853109   \n",
       " 1                         6.733907                                 25.880539   \n",
       " 2                         6.471768                                 26.005245   \n",
       " 3                         6.843791                                 25.942508   \n",
       " 4                         6.550154                                 26.024787   \n",
       " \n",
       "    secondary_cleaner.state.floatbank2_a_level  \\\n",
       " 0                                 -498.526489   \n",
       " 1                                 -499.989656   \n",
       " 2                                 -499.929616   \n",
       " 3                                 -499.176749   \n",
       " 4                                 -500.279091   \n",
       " \n",
       "    secondary_cleaner.state.floatbank2_b_air  \\\n",
       " 0                                 23.893660   \n",
       " 1                                 23.889530   \n",
       " 2                                 23.886657   \n",
       " 3                                 23.955516   \n",
       " 4                                 23.955345   \n",
       " \n",
       "    secondary_cleaner.state.floatbank2_b_level  \\\n",
       " 0                                 -501.406281   \n",
       " 1                                 -500.372428   \n",
       " 2                                 -499.951928   \n",
       " 3                                 -499.848796   \n",
       " 4                                 -500.593614   \n",
       " \n",
       "    secondary_cleaner.state.floatbank3_a_air  \\\n",
       " 0                                 23.961798   \n",
       " 1                                 23.970550   \n",
       " 2                                 23.913535   \n",
       " 3                                 23.966838   \n",
       " 4                                 23.985703   \n",
       " \n",
       "    secondary_cleaner.state.floatbank3_a_level  \\\n",
       " 0                                 -495.262817   \n",
       " 1                                 -500.085473   \n",
       " 2                                 -499.442343   \n",
       " 3                                 -500.008812   \n",
       " 4                                 -500.083811   \n",
       " \n",
       "    secondary_cleaner.state.floatbank3_b_air  \\\n",
       " 0                                 21.940409   \n",
       " 1                                 22.085714   \n",
       " 2                                 23.957717   \n",
       " 3                                 23.954443   \n",
       " 4                                 23.958945   \n",
       " \n",
       "    secondary_cleaner.state.floatbank3_b_level  \\\n",
       " 0                                 -499.340973   \n",
       " 1                                 -499.446897   \n",
       " 2                                 -499.901982   \n",
       " 3                                 -499.944710   \n",
       " 4                                 -499.990309   \n",
       " \n",
       "    secondary_cleaner.state.floatbank4_a_air  \\\n",
       " 0                                 14.016835   \n",
       " 1                                 13.992281   \n",
       " 2                                 14.015015   \n",
       " 3                                 14.036510   \n",
       " 4                                 14.027298   \n",
       " \n",
       "    secondary_cleaner.state.floatbank4_a_level  \\\n",
       " 0                                 -502.488007   \n",
       " 1                                 -505.503262   \n",
       " 2                                 -502.520901   \n",
       " 3                                 -500.857308   \n",
       " 4                                 -499.838632   \n",
       " \n",
       "    secondary_cleaner.state.floatbank4_b_air  \\\n",
       " 0                                 12.099931   \n",
       " 1                                 11.950531   \n",
       " 2                                 11.912783   \n",
       " 3                                 11.999550   \n",
       " 4                                 11.953070   \n",
       " \n",
       "    secondary_cleaner.state.floatbank4_b_level  \\\n",
       " 0                                 -504.715942   \n",
       " 1                                 -501.331529   \n",
       " 2                                 -501.133383   \n",
       " 3                                 -501.193686   \n",
       " 4                                 -501.053894   \n",
       " \n",
       "    secondary_cleaner.state.floatbank5_a_air  \\\n",
       " 0                                  9.925633   \n",
       " 1                                 10.039245   \n",
       " 2                                 10.070913   \n",
       " 3                                  9.970366   \n",
       " 4                                  9.925709   \n",
       " \n",
       "    secondary_cleaner.state.floatbank5_a_level  \\\n",
       " 0                                 -498.310211   \n",
       " 1                                 -500.169983   \n",
       " 2                                 -500.129135   \n",
       " 3                                 -499.201640   \n",
       " 4                                 -501.686727   \n",
       " \n",
       "    secondary_cleaner.state.floatbank5_b_air  \\\n",
       " 0                                  8.079666   \n",
       " 1                                  7.984757   \n",
       " 2                                  8.013877   \n",
       " 3                                  7.977324   \n",
       " 4                                  7.894242   \n",
       " \n",
       "    secondary_cleaner.state.floatbank5_b_level  \\\n",
       " 0                                 -500.470978   \n",
       " 1                                 -500.582168   \n",
       " 2                                 -500.517572   \n",
       " 3                                 -500.255908   \n",
       " 4                                 -500.356035   \n",
       " \n",
       "    secondary_cleaner.state.floatbank6_a_air  \\\n",
       " 0                                 14.151341   \n",
       " 1                                 13.998353   \n",
       " 2                                 14.028663   \n",
       " 3                                 14.005551   \n",
       " 4                                 13.996647   \n",
       " \n",
       "    secondary_cleaner.state.floatbank6_a_level  \\\n",
       " 0                                 -605.841980   \n",
       " 1                                 -599.787184   \n",
       " 2                                 -601.427363   \n",
       " 3                                 -599.996129   \n",
       " 4                                 -601.496691   \n",
       " \n",
       "    secondary_cleaner.output.tail_au  secondary_cleaner.output.tail_ag  \\\n",
       " 0                          2.606185                         14.500184   \n",
       " 1                          2.488248                         14.265474   \n",
       " 2                          2.458187                         14.115662   \n",
       " 3                          2.322062                         13.732071   \n",
       " 4                          2.330448                         14.079996   \n",
       " \n",
       "    secondary_cleaner.output.tail_pb  secondary_cleaner.output.tail_sol  \\\n",
       " 0                          4.694824                           8.764648   \n",
       " 1                          4.592547                           9.001494   \n",
       " 2                          4.624775                           8.842896   \n",
       " 3                          4.482453                           9.122857   \n",
       " 4                          4.470737                           8.871028   \n",
       " \n",
       "    final.output.concentrate_au  final.output.concentrate_ag  \\\n",
       " 0                    42.192020                     6.055403   \n",
       " 1                    42.701629                     6.029369   \n",
       " 2                    42.657501                     6.055926   \n",
       " 3                    42.689819                     6.047977   \n",
       " 4                    42.774141                     6.148599   \n",
       " \n",
       "    final.output.concentrate_pb  final.output.concentrate_sol  \\\n",
       " 0                     9.889648                      5.507324   \n",
       " 1                     9.968944                      5.257781   \n",
       " 2                    10.213995                      5.383759   \n",
       " 3                     9.977019                      4.858634   \n",
       " 4                    10.142511                      4.939416   \n",
       " \n",
       "    final.output.recovery  final.output.tail_au  final.output.tail_ag  \\\n",
       " 0              70.541216              2.143149             10.411962   \n",
       " 1              69.266198              2.224930             10.462676   \n",
       " 2              68.116445              2.257889             10.507046   \n",
       " 3              68.347543              2.146849             10.422762   \n",
       " 4              66.927016              2.055292             10.360302   \n",
       " \n",
       "    final.output.tail_pb  final.output.tail_sol  \n",
       " 0              0.895447              16.904297  \n",
       " 1              0.927452              16.634514  \n",
       " 2              0.953716              16.208849  \n",
       " 3              0.883763              16.532835  \n",
       " 4              0.792826              16.525686  ,\n",
       "                   date  rougher.input.feed_au  rougher.input.feed_ag  \\\n",
       " 0  2017-12-09 14:59:59               4.365491               6.158718   \n",
       " 1  2017-12-09 15:59:59               4.362781               6.048130   \n",
       " 2  2017-12-09 16:59:59               5.081681               6.082745   \n",
       " 3  2017-12-09 17:59:59               5.145949               6.084374   \n",
       " 4  2017-12-09 18:59:59               5.735249               6.165220   \n",
       " \n",
       "    rougher.input.feed_pb  rougher.input.feed_sol  rougher.input.feed_rate  \\\n",
       " 0               3.875727               39.135119               555.820208   \n",
       " 1               3.902537               39.713906               544.731687   \n",
       " 2               4.564078               37.208683               558.155110   \n",
       " 3               4.768124               36.808874               539.713765   \n",
       " 4               4.512346               37.810642               558.713584   \n",
       " \n",
       "    rougher.input.feed_size  rougher.input.floatbank10_sulfate  \\\n",
       " 0                94.544358                           6.146982   \n",
       " 1               123.742430                           6.210119   \n",
       " 2                82.610855                           7.363824   \n",
       " 3                77.984784                           6.927072   \n",
       " 4                86.434874                           7.823471   \n",
       " \n",
       "    rougher.input.floatbank10_xanthate  rougher.state.floatbank10_a_air  \\\n",
       " 0                            9.308612                      1196.238112   \n",
       " 1                            9.297709                      1201.904177   \n",
       " 2                            9.003562                      1200.826926   \n",
       " 3                            8.955597                      1199.292489   \n",
       " 4                            7.490356                      1198.005449   \n",
       " \n",
       "    rougher.state.floatbank10_a_level  rougher.state.floatbank10_b_air  \\\n",
       " 0                        -299.862743                      1147.248241   \n",
       " 1                        -299.907308                      1154.087804   \n",
       " 2                        -300.124116                      1150.754676   \n",
       " 3                        -299.778385                      1152.512559   \n",
       " 4                        -300.283401                      1099.481500   \n",
       " \n",
       "    rougher.state.floatbank10_b_level  rougher.state.floatbank10_c_air  \\\n",
       " 0                        -500.363165                      1047.279065   \n",
       " 1                        -500.036580                      1054.009756   \n",
       " 2                        -499.986009                      1049.182824   \n",
       " 3                        -500.338106                      1052.601592   \n",
       " 4                        -499.702465                       999.539264   \n",
       " \n",
       "    rougher.state.floatbank10_c_level  rougher.state.floatbank10_d_air  \\\n",
       " 0                        -500.354091                       948.756608   \n",
       " 1                        -500.237335                       944.138793   \n",
       " 2                        -500.014696                       948.085464   \n",
       " 3                        -499.695075                       955.171539   \n",
       " 4                        -499.306051                       889.445596   \n",
       " \n",
       "    rougher.state.floatbank10_d_level  rougher.state.floatbank10_e_air  \\\n",
       " 0                        -498.439416                       849.441918   \n",
       " 1                        -496.866953                       851.589767   \n",
       " 2                        -499.997003                       850.170086   \n",
       " 3                        -500.294989                       851.957342   \n",
       " 4                        -498.118617                       800.533525   \n",
       " \n",
       "    rougher.state.floatbank10_e_level  rougher.state.floatbank10_f_air  \\\n",
       " 0                        -499.255503                       850.112246   \n",
       " 1                        -499.040466                       851.345606   \n",
       " 2                        -500.270334                       849.557905   \n",
       " 3                        -499.779541                       850.765662   \n",
       " 4                        -499.765068                       800.510356   \n",
       " \n",
       "    rougher.state.floatbank10_f_level  rougher.input.floatbank11_sulfate  \\\n",
       " 0                        -499.407112                           6.168939   \n",
       " 1                        -499.122561                           6.209517   \n",
       " 2                        -500.198702                           7.358308   \n",
       " 3                        -501.030559                           6.929364   \n",
       " 4                        -497.289533                           7.824875   \n",
       " \n",
       "    rougher.input.floatbank11_xanthate  primary_cleaner.input.sulfate  \\\n",
       " 0                            9.309852                      95.248427   \n",
       " 1                            9.297194                      98.880538   \n",
       " 2                            9.000624                     119.497545   \n",
       " 3                            8.920717                     108.080163   \n",
       " 4                            7.500678                     117.750648   \n",
       " \n",
       "    primary_cleaner.input.depressant  primary_cleaner.input.feed_size  \\\n",
       " 0                          8.078957                         6.500000   \n",
       " 1                          7.984164                         6.500000   \n",
       " 2                          8.003752                         6.500000   \n",
       " 3                          7.970121                         6.660000   \n",
       " 4                          6.954311                         6.426667   \n",
       " \n",
       "    primary_cleaner.input.xanthate  primary_cleaner.state.floatbank8_a_air  \\\n",
       " 0                        1.283045                             1648.759906   \n",
       " 1                        1.241969                             1646.547763   \n",
       " 2                        1.259741                             1647.368779   \n",
       " 3                        0.774909                             1652.660845   \n",
       " 4                        0.731271                             1649.411497   \n",
       " \n",
       "    primary_cleaner.state.floatbank8_a_level  \\\n",
       " 0                               -399.862053   \n",
       " 1                               -398.977083   \n",
       " 2                               -399.788506   \n",
       " 3                               -399.702218   \n",
       " 4                               -399.853156   \n",
       " \n",
       "    primary_cleaner.state.floatbank8_b_air  \\\n",
       " 0                             1650.135395   \n",
       " 1                             1648.212240   \n",
       " 2                             1648.395206   \n",
       " 3                             1651.203128   \n",
       " 4                             1648.917211   \n",
       " \n",
       "    primary_cleaner.state.floatbank8_b_level  \\\n",
       " 0                               -399.957321   \n",
       " 1                               -400.383265   \n",
       " 2                               -400.166490   \n",
       " 3                               -400.291472   \n",
       " 4                               -400.321866   \n",
       " \n",
       "    primary_cleaner.state.floatbank8_c_air  \\\n",
       " 0                             1648.831890   \n",
       " 1                             1648.917387   \n",
       " 2                             1648.953828   \n",
       " 3                             1651.924848   \n",
       " 4                             1649.117753   \n",
       " \n",
       "    primary_cleaner.state.floatbank8_c_level  \\\n",
       " 0                               -400.586116   \n",
       " 1                               -399.521344   \n",
       " 2                               -400.468641   \n",
       " 3                               -398.058033   \n",
       " 4                               -399.645348   \n",
       " \n",
       "    primary_cleaner.state.floatbank8_d_air  \\\n",
       " 0                             1649.464582   \n",
       " 1                             1651.498591   \n",
       " 2                             1649.821569   \n",
       " 3                             1650.782696   \n",
       " 4                             1650.398209   \n",
       " \n",
       "    primary_cleaner.state.floatbank8_d_level  \\\n",
       " 0                               -400.673303   \n",
       " 1                               -399.745329   \n",
       " 2                               -400.071884   \n",
       " 3                               -399.597977   \n",
       " 4                               -400.654533   \n",
       " \n",
       "    secondary_cleaner.state.floatbank2_a_air  \\\n",
       " 0                                 34.940919   \n",
       " 1                                 34.980742   \n",
       " 2                                 34.952967   \n",
       " 3                                 35.038256   \n",
       " 4                                 34.894598   \n",
       " \n",
       "    secondary_cleaner.state.floatbank2_a_level  \\\n",
       " 0                                 -500.150510   \n",
       " 1                                 -498.131002   \n",
       " 2                                 -501.204647   \n",
       " 3                                 -500.102649   \n",
       " 4                                 -498.444587   \n",
       " \n",
       "    secondary_cleaner.state.floatbank2_b_air  \\\n",
       " 0                                 30.031867   \n",
       " 1                                 29.968453   \n",
       " 2                                 29.927025   \n",
       " 3                                 30.066959   \n",
       " 4                                 30.020745   \n",
       " \n",
       "    secondary_cleaner.state.floatbank2_b_level  \\\n",
       " 0                                 -500.328335   \n",
       " 1                                 -586.013330   \n",
       " 2                                 -500.106628   \n",
       " 3                                 -500.211499   \n",
       " 4                                 -533.831343   \n",
       " \n",
       "    secondary_cleaner.state.floatbank3_a_air  \\\n",
       " 0                                 26.033990   \n",
       " 1                                 25.971737   \n",
       " 2                                 25.978253   \n",
       " 3                                 26.013515   \n",
       " 4                                 26.022094   \n",
       " \n",
       "    secondary_cleaner.state.floatbank3_a_level  \\\n",
       " 0                                 -500.147792   \n",
       " 1                                 -499.608392   \n",
       " 2                                 -499.890060   \n",
       " 3                                 -500.054597   \n",
       " 4                                 -499.725484   \n",
       " \n",
       "    secondary_cleaner.state.floatbank3_b_air  \\\n",
       " 0                                 22.952306   \n",
       " 1                                 22.958448   \n",
       " 2                                 23.004376   \n",
       " 3                                 22.988928   \n",
       " 4                                 22.992992   \n",
       " \n",
       "    secondary_cleaner.state.floatbank3_b_level  \\\n",
       " 0                                 -500.037678   \n",
       " 1                                 -499.821308   \n",
       " 2                                 -500.014529   \n",
       " 3                                 -499.981410   \n",
       " 4                                 -499.891405   \n",
       " \n",
       "    secondary_cleaner.state.floatbank4_a_air  \\\n",
       " 0                                 23.018622   \n",
       " 1                                 23.024963   \n",
       " 2                                 22.993827   \n",
       " 3                                 23.032807   \n",
       " 4                                 23.001911   \n",
       " \n",
       "    secondary_cleaner.state.floatbank4_a_level  \\\n",
       " 0                                 -500.492702   \n",
       " 1                                 -501.153409   \n",
       " 2                                 -501.559663   \n",
       " 3                                 -501.287889   \n",
       " 4                                 -499.947838   \n",
       " \n",
       "    secondary_cleaner.state.floatbank4_b_air  \\\n",
       " 0                                 20.020205   \n",
       " 1                                 20.054122   \n",
       " 2                                 20.029144   \n",
       " 3                                 19.977466   \n",
       " 4                                 20.023735   \n",
       " \n",
       "    secondary_cleaner.state.floatbank4_b_level  \\\n",
       " 0                                 -500.220296   \n",
       " 1                                 -500.314711   \n",
       " 2                                 -500.000662   \n",
       " 3                                 -500.159903   \n",
       " 4                                 -499.713680   \n",
       " \n",
       "    secondary_cleaner.state.floatbank5_a_air  \\\n",
       " 0                                 17.963512   \n",
       " 1                                 17.979515   \n",
       " 2                                 18.012723   \n",
       " 3                                 17.980463   \n",
       " 4                                 17.990955   \n",
       " \n",
       "    secondary_cleaner.state.floatbank5_a_level  \\\n",
       " 0                                 -499.939490   \n",
       " 1                                 -499.272871   \n",
       " 2                                 -500.024764   \n",
       " 3                                 -500.504602   \n",
       " 4                                 -500.334769   \n",
       " \n",
       "    secondary_cleaner.state.floatbank5_b_air  \\\n",
       " 0                                 12.990306   \n",
       " 1                                 12.992404   \n",
       " 2                                 13.016445   \n",
       " 3                                 12.949071   \n",
       " 4                                 13.007523   \n",
       " \n",
       "    secondary_cleaner.state.floatbank5_b_level  \\\n",
       " 0                                 -500.080993   \n",
       " 1                                 -499.976268   \n",
       " 2                                 -500.058432   \n",
       " 3                                 -500.009937   \n",
       " 4                                 -499.968459   \n",
       " \n",
       "    secondary_cleaner.state.floatbank6_a_air  \\\n",
       " 0                                 19.990336   \n",
       " 1                                 20.013986   \n",
       " 2                                 19.973767   \n",
       " 3                                 20.010332   \n",
       " 4                                 19.995999   \n",
       " \n",
       "    secondary_cleaner.state.floatbank6_a_level  \n",
       " 0                                 -499.191575  \n",
       " 1                                 -500.625471  \n",
       " 2                                 -501.394155  \n",
       " 3                                 -508.337973  \n",
       " 4                                 -499.788805  ]"
      ]
     },
     "execution_count": 4,
     "metadata": {},
     "output_type": "execute_result"
    }
   ],
   "source": [
    "[df.head() for df in dfs]"
   ]
  },
  {
   "cell_type": "markdown",
   "metadata": {},
   "source": [
    "Выведим размерность датасетов"
   ]
  },
  {
   "cell_type": "code",
   "execution_count": 5,
   "metadata": {},
   "outputs": [
    {
     "data": {
      "text/plain": [
       "[(19439, 87), (14579, 87), (4860, 53)]"
      ]
     },
     "execution_count": 5,
     "metadata": {},
     "output_type": "execute_result"
    }
   ],
   "source": [
    "[df.shape for df in dfs]"
   ]
  },
  {
   "cell_type": "markdown",
   "metadata": {},
   "source": [
    "Выведим общую информацию датасетов"
   ]
  },
  {
   "cell_type": "code",
   "execution_count": 6,
   "metadata": {
    "scrolled": true
   },
   "outputs": [
    {
     "name": "stdout",
     "output_type": "stream",
     "text": [
      "<class 'pandas.core.frame.DataFrame'>\n",
      "RangeIndex: 19439 entries, 0 to 19438\n",
      "Data columns (total 87 columns):\n",
      " #   Column                                              Non-Null Count  Dtype  \n",
      "---  ------                                              --------------  -----  \n",
      " 0   date                                                19439 non-null  object \n",
      " 1   rougher.input.feed_au                               19439 non-null  float64\n",
      " 2   rougher.input.feed_ag                               19439 non-null  float64\n",
      " 3   rougher.input.feed_pb                               19339 non-null  float64\n",
      " 4   rougher.input.feed_sol                              19340 non-null  float64\n",
      " 5   rougher.input.feed_rate                             19428 non-null  float64\n",
      " 6   rougher.input.feed_size                             19294 non-null  float64\n",
      " 7   rougher.input.floatbank10_sulfate                   19405 non-null  float64\n",
      " 8   rougher.input.floatbank10_xanthate                  19431 non-null  float64\n",
      " 9   rougher.state.floatbank10_a_air                     19438 non-null  float64\n",
      " 10  rougher.state.floatbank10_a_level                   19438 non-null  float64\n",
      " 11  rougher.state.floatbank10_b_air                     19438 non-null  float64\n",
      " 12  rougher.state.floatbank10_b_level                   19438 non-null  float64\n",
      " 13  rougher.state.floatbank10_c_air                     19438 non-null  float64\n",
      " 14  rougher.state.floatbank10_c_level                   19438 non-null  float64\n",
      " 15  rougher.state.floatbank10_d_air                     19439 non-null  float64\n",
      " 16  rougher.state.floatbank10_d_level                   19439 non-null  float64\n",
      " 17  rougher.state.floatbank10_e_air                     19003 non-null  float64\n",
      " 18  rougher.state.floatbank10_e_level                   19439 non-null  float64\n",
      " 19  rougher.state.floatbank10_f_air                     19439 non-null  float64\n",
      " 20  rougher.state.floatbank10_f_level                   19439 non-null  float64\n",
      " 21  rougher.input.floatbank11_sulfate                   19395 non-null  float64\n",
      " 22  rougher.input.floatbank11_xanthate                  18986 non-null  float64\n",
      " 23  rougher.calculation.sulfate_to_au_concentrate       19437 non-null  float64\n",
      " 24  rougher.calculation.floatbank10_sulfate_to_au_feed  19437 non-null  float64\n",
      " 25  rougher.calculation.floatbank11_sulfate_to_au_feed  19437 non-null  float64\n",
      " 26  rougher.calculation.au_pb_ratio                     19439 non-null  float64\n",
      " 27  rougher.output.concentrate_au                       19439 non-null  float64\n",
      " 28  rougher.output.concentrate_ag                       19439 non-null  float64\n",
      " 29  rougher.output.concentrate_pb                       19439 non-null  float64\n",
      " 30  rougher.output.concentrate_sol                      19416 non-null  float64\n",
      " 31  rougher.output.recovery                             19439 non-null  float64\n",
      " 32  rougher.output.tail_au                              19439 non-null  float64\n",
      " 33  rougher.output.tail_ag                              19438 non-null  float64\n",
      " 34  rougher.output.tail_pb                              19439 non-null  float64\n",
      " 35  rougher.output.tail_sol                             19439 non-null  float64\n",
      " 36  primary_cleaner.input.sulfate                       19415 non-null  float64\n",
      " 37  primary_cleaner.input.depressant                    19402 non-null  float64\n",
      " 38  primary_cleaner.input.feed_size                     19439 non-null  float64\n",
      " 39  primary_cleaner.input.xanthate                      19335 non-null  float64\n",
      " 40  primary_cleaner.state.floatbank8_a_air              19435 non-null  float64\n",
      " 41  primary_cleaner.state.floatbank8_a_level            19438 non-null  float64\n",
      " 42  primary_cleaner.state.floatbank8_b_air              19435 non-null  float64\n",
      " 43  primary_cleaner.state.floatbank8_b_level            19438 non-null  float64\n",
      " 44  primary_cleaner.state.floatbank8_c_air              19437 non-null  float64\n",
      " 45  primary_cleaner.state.floatbank8_c_level            19438 non-null  float64\n",
      " 46  primary_cleaner.state.floatbank8_d_air              19436 non-null  float64\n",
      " 47  primary_cleaner.state.floatbank8_d_level            19438 non-null  float64\n",
      " 48  primary_cleaner.output.concentrate_au               19439 non-null  float64\n",
      " 49  primary_cleaner.output.concentrate_ag               19439 non-null  float64\n",
      " 50  primary_cleaner.output.concentrate_pb               19323 non-null  float64\n",
      " 51  primary_cleaner.output.concentrate_sol              19069 non-null  float64\n",
      " 52  primary_cleaner.output.tail_au                      19439 non-null  float64\n",
      " 53  primary_cleaner.output.tail_ag                      19435 non-null  float64\n",
      " 54  primary_cleaner.output.tail_pb                      19418 non-null  float64\n",
      " 55  primary_cleaner.output.tail_sol                     19377 non-null  float64\n",
      " 56  secondary_cleaner.state.floatbank2_a_air            19219 non-null  float64\n",
      " 57  secondary_cleaner.state.floatbank2_a_level          19438 non-null  float64\n",
      " 58  secondary_cleaner.state.floatbank2_b_air            19416 non-null  float64\n",
      " 59  secondary_cleaner.state.floatbank2_b_level          19438 non-null  float64\n",
      " 60  secondary_cleaner.state.floatbank3_a_air            19426 non-null  float64\n",
      " 61  secondary_cleaner.state.floatbank3_a_level          19438 non-null  float64\n",
      " 62  secondary_cleaner.state.floatbank3_b_air            19438 non-null  float64\n",
      " 63  secondary_cleaner.state.floatbank3_b_level          19438 non-null  float64\n",
      " 64  secondary_cleaner.state.floatbank4_a_air            19433 non-null  float64\n",
      " 65  secondary_cleaner.state.floatbank4_a_level          19438 non-null  float64\n",
      " 66  secondary_cleaner.state.floatbank4_b_air            19438 non-null  float64\n",
      " 67  secondary_cleaner.state.floatbank4_b_level          19438 non-null  float64\n",
      " 68  secondary_cleaner.state.floatbank5_a_air            19438 non-null  float64\n",
      " 69  secondary_cleaner.state.floatbank5_a_level          19438 non-null  float64\n",
      " 70  secondary_cleaner.state.floatbank5_b_air            19438 non-null  float64\n",
      " 71  secondary_cleaner.state.floatbank5_b_level          19438 non-null  float64\n",
      " 72  secondary_cleaner.state.floatbank6_a_air            19437 non-null  float64\n",
      " 73  secondary_cleaner.state.floatbank6_a_level          19438 non-null  float64\n",
      " 74  secondary_cleaner.output.tail_au                    19439 non-null  float64\n",
      " 75  secondary_cleaner.output.tail_ag                    19437 non-null  float64\n",
      " 76  secondary_cleaner.output.tail_pb                    19427 non-null  float64\n",
      " 77  secondary_cleaner.output.tail_sol                   17691 non-null  float64\n",
      " 78  final.output.concentrate_au                         19439 non-null  float64\n",
      " 79  final.output.concentrate_ag                         19438 non-null  float64\n",
      " 80  final.output.concentrate_pb                         19438 non-null  float64\n",
      " 81  final.output.concentrate_sol                        19228 non-null  float64\n",
      " 82  final.output.recovery                               19439 non-null  float64\n",
      " 83  final.output.tail_au                                19439 non-null  float64\n",
      " 84  final.output.tail_ag                                19438 non-null  float64\n",
      " 85  final.output.tail_pb                                19338 non-null  float64\n",
      " 86  final.output.tail_sol                               19433 non-null  float64\n",
      "dtypes: float64(86), object(1)\n",
      "memory usage: 12.9+ MB\n",
      "<class 'pandas.core.frame.DataFrame'>\n",
      "RangeIndex: 14579 entries, 0 to 14578\n",
      "Data columns (total 87 columns):\n",
      " #   Column                                              Non-Null Count  Dtype  \n",
      "---  ------                                              --------------  -----  \n",
      " 0   date                                                14579 non-null  object \n",
      " 1   rougher.input.feed_au                               14579 non-null  float64\n",
      " 2   rougher.input.feed_ag                               14579 non-null  float64\n",
      " 3   rougher.input.feed_pb                               14507 non-null  float64\n",
      " 4   rougher.input.feed_sol                              14502 non-null  float64\n",
      " 5   rougher.input.feed_rate                             14572 non-null  float64\n",
      " 6   rougher.input.feed_size                             14478 non-null  float64\n",
      " 7   rougher.input.floatbank10_sulfate                   14548 non-null  float64\n",
      " 8   rougher.input.floatbank10_xanthate                  14572 non-null  float64\n",
      " 9   rougher.state.floatbank10_a_air                     14579 non-null  float64\n",
      " 10  rougher.state.floatbank10_a_level                   14579 non-null  float64\n",
      " 11  rougher.state.floatbank10_b_air                     14579 non-null  float64\n",
      " 12  rougher.state.floatbank10_b_level                   14579 non-null  float64\n",
      " 13  rougher.state.floatbank10_c_air                     14579 non-null  float64\n",
      " 14  rougher.state.floatbank10_c_level                   14579 non-null  float64\n",
      " 15  rougher.state.floatbank10_d_air                     14579 non-null  float64\n",
      " 16  rougher.state.floatbank10_d_level                   14579 non-null  float64\n",
      " 17  rougher.state.floatbank10_e_air                     14150 non-null  float64\n",
      " 18  rougher.state.floatbank10_e_level                   14579 non-null  float64\n",
      " 19  rougher.state.floatbank10_f_air                     14579 non-null  float64\n",
      " 20  rougher.state.floatbank10_f_level                   14579 non-null  float64\n",
      " 21  rougher.input.floatbank11_sulfate                   14543 non-null  float64\n",
      " 22  rougher.input.floatbank11_xanthate                  14172 non-null  float64\n",
      " 23  rougher.calculation.sulfate_to_au_concentrate       14578 non-null  float64\n",
      " 24  rougher.calculation.floatbank10_sulfate_to_au_feed  14578 non-null  float64\n",
      " 25  rougher.calculation.floatbank11_sulfate_to_au_feed  14578 non-null  float64\n",
      " 26  rougher.calculation.au_pb_ratio                     14579 non-null  float64\n",
      " 27  rougher.output.concentrate_au                       14579 non-null  float64\n",
      " 28  rougher.output.concentrate_ag                       14579 non-null  float64\n",
      " 29  rougher.output.concentrate_pb                       14579 non-null  float64\n",
      " 30  rougher.output.concentrate_sol                      14561 non-null  float64\n",
      " 31  rougher.output.recovery                             14579 non-null  float64\n",
      " 32  rougher.output.tail_au                              14579 non-null  float64\n",
      " 33  rougher.output.tail_ag                              14578 non-null  float64\n",
      " 34  rougher.output.tail_pb                              14579 non-null  float64\n",
      " 35  rougher.output.tail_sol                             14579 non-null  float64\n",
      " 36  primary_cleaner.input.sulfate                       14556 non-null  float64\n",
      " 37  primary_cleaner.input.depressant                    14551 non-null  float64\n",
      " 38  primary_cleaner.input.feed_size                     14579 non-null  float64\n",
      " 39  primary_cleaner.input.xanthate                      14518 non-null  float64\n",
      " 40  primary_cleaner.state.floatbank8_a_air              14576 non-null  float64\n",
      " 41  primary_cleaner.state.floatbank8_a_level            14579 non-null  float64\n",
      " 42  primary_cleaner.state.floatbank8_b_air              14576 non-null  float64\n",
      " 43  primary_cleaner.state.floatbank8_b_level            14579 non-null  float64\n",
      " 44  primary_cleaner.state.floatbank8_c_air              14579 non-null  float64\n",
      " 45  primary_cleaner.state.floatbank8_c_level            14579 non-null  float64\n",
      " 46  primary_cleaner.state.floatbank8_d_air              14578 non-null  float64\n",
      " 47  primary_cleaner.state.floatbank8_d_level            14579 non-null  float64\n",
      " 48  primary_cleaner.output.concentrate_au               14579 non-null  float64\n",
      " 49  primary_cleaner.output.concentrate_ag               14579 non-null  float64\n",
      " 50  primary_cleaner.output.concentrate_pb               14491 non-null  float64\n",
      " 51  primary_cleaner.output.concentrate_sol              14314 non-null  float64\n",
      " 52  primary_cleaner.output.tail_au                      14579 non-null  float64\n",
      " 53  primary_cleaner.output.tail_ag                      14575 non-null  float64\n",
      " 54  primary_cleaner.output.tail_pb                      14573 non-null  float64\n",
      " 55  primary_cleaner.output.tail_sol                     14534 non-null  float64\n",
      " 56  secondary_cleaner.state.floatbank2_a_air            14485 non-null  float64\n",
      " 57  secondary_cleaner.state.floatbank2_a_level          14579 non-null  float64\n",
      " 58  secondary_cleaner.state.floatbank2_b_air            14557 non-null  float64\n",
      " 59  secondary_cleaner.state.floatbank2_b_level          14579 non-null  float64\n",
      " 60  secondary_cleaner.state.floatbank3_a_air            14567 non-null  float64\n",
      " 61  secondary_cleaner.state.floatbank3_a_level          14579 non-null  float64\n",
      " 62  secondary_cleaner.state.floatbank3_b_air            14579 non-null  float64\n",
      " 63  secondary_cleaner.state.floatbank3_b_level          14579 non-null  float64\n",
      " 64  secondary_cleaner.state.floatbank4_a_air            14574 non-null  float64\n",
      " 65  secondary_cleaner.state.floatbank4_a_level          14579 non-null  float64\n",
      " 66  secondary_cleaner.state.floatbank4_b_air            14579 non-null  float64\n",
      " 67  secondary_cleaner.state.floatbank4_b_level          14579 non-null  float64\n",
      " 68  secondary_cleaner.state.floatbank5_a_air            14579 non-null  float64\n",
      " 69  secondary_cleaner.state.floatbank5_a_level          14579 non-null  float64\n",
      " 70  secondary_cleaner.state.floatbank5_b_air            14579 non-null  float64\n",
      " 71  secondary_cleaner.state.floatbank5_b_level          14579 non-null  float64\n",
      " 72  secondary_cleaner.state.floatbank6_a_air            14578 non-null  float64\n",
      " 73  secondary_cleaner.state.floatbank6_a_level          14579 non-null  float64\n",
      " 74  secondary_cleaner.output.tail_au                    14579 non-null  float64\n",
      " 75  secondary_cleaner.output.tail_ag                    14578 non-null  float64\n",
      " 76  secondary_cleaner.output.tail_pb                    14575 non-null  float64\n",
      " 77  secondary_cleaner.output.tail_sol                   13659 non-null  float64\n",
      " 78  final.output.concentrate_au                         14579 non-null  float64\n",
      " 79  final.output.concentrate_ag                         14578 non-null  float64\n",
      " 80  final.output.concentrate_pb                         14578 non-null  float64\n",
      " 81  final.output.concentrate_sol                        14387 non-null  float64\n",
      " 82  final.output.recovery                               14579 non-null  float64\n",
      " 83  final.output.tail_au                                14579 non-null  float64\n",
      " 84  final.output.tail_ag                                14578 non-null  float64\n",
      " 85  final.output.tail_pb                                14504 non-null  float64\n",
      " 86  final.output.tail_sol                               14574 non-null  float64\n",
      "dtypes: float64(86), object(1)\n",
      "memory usage: 9.7+ MB\n",
      "<class 'pandas.core.frame.DataFrame'>\n",
      "RangeIndex: 4860 entries, 0 to 4859\n",
      "Data columns (total 53 columns):\n",
      " #   Column                                      Non-Null Count  Dtype  \n",
      "---  ------                                      --------------  -----  \n",
      " 0   date                                        4860 non-null   object \n",
      " 1   rougher.input.feed_au                       4860 non-null   float64\n",
      " 2   rougher.input.feed_ag                       4860 non-null   float64\n",
      " 3   rougher.input.feed_pb                       4832 non-null   float64\n",
      " 4   rougher.input.feed_sol                      4838 non-null   float64\n",
      " 5   rougher.input.feed_rate                     4856 non-null   float64\n",
      " 6   rougher.input.feed_size                     4816 non-null   float64\n",
      " 7   rougher.input.floatbank10_sulfate           4857 non-null   float64\n",
      " 8   rougher.input.floatbank10_xanthate          4859 non-null   float64\n",
      " 9   rougher.state.floatbank10_a_air             4859 non-null   float64\n",
      " 10  rougher.state.floatbank10_a_level           4859 non-null   float64\n",
      " 11  rougher.state.floatbank10_b_air             4859 non-null   float64\n",
      " 12  rougher.state.floatbank10_b_level           4859 non-null   float64\n",
      " 13  rougher.state.floatbank10_c_air             4859 non-null   float64\n",
      " 14  rougher.state.floatbank10_c_level           4859 non-null   float64\n",
      " 15  rougher.state.floatbank10_d_air             4860 non-null   float64\n",
      " 16  rougher.state.floatbank10_d_level           4860 non-null   float64\n",
      " 17  rougher.state.floatbank10_e_air             4853 non-null   float64\n",
      " 18  rougher.state.floatbank10_e_level           4860 non-null   float64\n",
      " 19  rougher.state.floatbank10_f_air             4860 non-null   float64\n",
      " 20  rougher.state.floatbank10_f_level           4860 non-null   float64\n",
      " 21  rougher.input.floatbank11_sulfate           4852 non-null   float64\n",
      " 22  rougher.input.floatbank11_xanthate          4814 non-null   float64\n",
      " 23  primary_cleaner.input.sulfate               4859 non-null   float64\n",
      " 24  primary_cleaner.input.depressant            4851 non-null   float64\n",
      " 25  primary_cleaner.input.feed_size             4860 non-null   float64\n",
      " 26  primary_cleaner.input.xanthate              4817 non-null   float64\n",
      " 27  primary_cleaner.state.floatbank8_a_air      4859 non-null   float64\n",
      " 28  primary_cleaner.state.floatbank8_a_level    4859 non-null   float64\n",
      " 29  primary_cleaner.state.floatbank8_b_air      4859 non-null   float64\n",
      " 30  primary_cleaner.state.floatbank8_b_level    4859 non-null   float64\n",
      " 31  primary_cleaner.state.floatbank8_c_air      4858 non-null   float64\n",
      " 32  primary_cleaner.state.floatbank8_c_level    4859 non-null   float64\n",
      " 33  primary_cleaner.state.floatbank8_d_air      4858 non-null   float64\n",
      " 34  primary_cleaner.state.floatbank8_d_level    4859 non-null   float64\n",
      " 35  secondary_cleaner.state.floatbank2_a_air    4734 non-null   float64\n",
      " 36  secondary_cleaner.state.floatbank2_a_level  4859 non-null   float64\n",
      " 37  secondary_cleaner.state.floatbank2_b_air    4859 non-null   float64\n",
      " 38  secondary_cleaner.state.floatbank2_b_level  4859 non-null   float64\n",
      " 39  secondary_cleaner.state.floatbank3_a_air    4859 non-null   float64\n",
      " 40  secondary_cleaner.state.floatbank3_a_level  4859 non-null   float64\n",
      " 41  secondary_cleaner.state.floatbank3_b_air    4859 non-null   float64\n",
      " 42  secondary_cleaner.state.floatbank3_b_level  4859 non-null   float64\n",
      " 43  secondary_cleaner.state.floatbank4_a_air    4859 non-null   float64\n",
      " 44  secondary_cleaner.state.floatbank4_a_level  4859 non-null   float64\n",
      " 45  secondary_cleaner.state.floatbank4_b_air    4859 non-null   float64\n",
      " 46  secondary_cleaner.state.floatbank4_b_level  4859 non-null   float64\n",
      " 47  secondary_cleaner.state.floatbank5_a_air    4859 non-null   float64\n",
      " 48  secondary_cleaner.state.floatbank5_a_level  4859 non-null   float64\n",
      " 49  secondary_cleaner.state.floatbank5_b_air    4859 non-null   float64\n",
      " 50  secondary_cleaner.state.floatbank5_b_level  4859 non-null   float64\n",
      " 51  secondary_cleaner.state.floatbank6_a_air    4859 non-null   float64\n",
      " 52  secondary_cleaner.state.floatbank6_a_level  4859 non-null   float64\n",
      "dtypes: float64(52), object(1)\n",
      "memory usage: 2.0+ MB\n"
     ]
    },
    {
     "data": {
      "text/plain": [
       "[None, None, None]"
      ]
     },
     "execution_count": 6,
     "metadata": {},
     "output_type": "execute_result"
    }
   ],
   "source": [
    "[df.info() for df in dfs ]"
   ]
  },
  {
   "cell_type": "markdown",
   "metadata": {},
   "source": [
    "Проверим датасеты на наличие дупликатов"
   ]
  },
  {
   "cell_type": "code",
   "execution_count": 7,
   "metadata": {},
   "outputs": [
    {
     "data": {
      "text/plain": [
       "[0, 0, 0]"
      ]
     },
     "execution_count": 7,
     "metadata": {},
     "output_type": "execute_result"
    }
   ],
   "source": [
    "[df.duplicated().sum() for df in dfs]"
   ]
  },
  {
   "cell_type": "markdown",
   "metadata": {},
   "source": [
    "Посчитаем пропуски в датасетах. Результат сохраним в датасете isna_dfs, индексами сделаем название датасетов."
   ]
  },
  {
   "cell_type": "code",
   "execution_count": 8,
   "metadata": {},
   "outputs": [
    {
     "data": {
      "text/html": [
       "<div>\n",
       "<style scoped>\n",
       "    .dataframe tbody tr th:only-of-type {\n",
       "        vertical-align: middle;\n",
       "    }\n",
       "\n",
       "    .dataframe tbody tr th {\n",
       "        vertical-align: top;\n",
       "    }\n",
       "\n",
       "    .dataframe thead th {\n",
       "        text-align: right;\n",
       "    }\n",
       "</style>\n",
       "<table border=\"1\" class=\"dataframe\">\n",
       "  <thead>\n",
       "    <tr style=\"text-align: right;\">\n",
       "      <th></th>\n",
       "      <th>date</th>\n",
       "      <th>rougher.input.feed_au</th>\n",
       "      <th>rougher.input.feed_ag</th>\n",
       "      <th>rougher.input.feed_pb</th>\n",
       "      <th>rougher.input.feed_sol</th>\n",
       "      <th>rougher.input.feed_rate</th>\n",
       "      <th>rougher.input.feed_size</th>\n",
       "      <th>rougher.input.floatbank10_sulfate</th>\n",
       "      <th>rougher.input.floatbank10_xanthate</th>\n",
       "      <th>rougher.state.floatbank10_a_air</th>\n",
       "      <th>rougher.state.floatbank10_a_level</th>\n",
       "      <th>rougher.state.floatbank10_b_air</th>\n",
       "      <th>rougher.state.floatbank10_b_level</th>\n",
       "      <th>rougher.state.floatbank10_c_air</th>\n",
       "      <th>rougher.state.floatbank10_c_level</th>\n",
       "      <th>rougher.state.floatbank10_d_air</th>\n",
       "      <th>rougher.state.floatbank10_d_level</th>\n",
       "      <th>rougher.state.floatbank10_e_air</th>\n",
       "      <th>rougher.state.floatbank10_e_level</th>\n",
       "      <th>rougher.state.floatbank10_f_air</th>\n",
       "      <th>rougher.state.floatbank10_f_level</th>\n",
       "      <th>rougher.input.floatbank11_sulfate</th>\n",
       "      <th>rougher.input.floatbank11_xanthate</th>\n",
       "      <th>rougher.calculation.sulfate_to_au_concentrate</th>\n",
       "      <th>rougher.calculation.floatbank10_sulfate_to_au_feed</th>\n",
       "      <th>rougher.calculation.floatbank11_sulfate_to_au_feed</th>\n",
       "      <th>rougher.calculation.au_pb_ratio</th>\n",
       "      <th>rougher.output.concentrate_au</th>\n",
       "      <th>rougher.output.concentrate_ag</th>\n",
       "      <th>rougher.output.concentrate_pb</th>\n",
       "      <th>rougher.output.concentrate_sol</th>\n",
       "      <th>rougher.output.recovery</th>\n",
       "      <th>rougher.output.tail_au</th>\n",
       "      <th>rougher.output.tail_ag</th>\n",
       "      <th>rougher.output.tail_pb</th>\n",
       "      <th>rougher.output.tail_sol</th>\n",
       "      <th>primary_cleaner.input.sulfate</th>\n",
       "      <th>primary_cleaner.input.depressant</th>\n",
       "      <th>primary_cleaner.input.feed_size</th>\n",
       "      <th>primary_cleaner.input.xanthate</th>\n",
       "      <th>primary_cleaner.state.floatbank8_a_air</th>\n",
       "      <th>primary_cleaner.state.floatbank8_a_level</th>\n",
       "      <th>primary_cleaner.state.floatbank8_b_air</th>\n",
       "      <th>primary_cleaner.state.floatbank8_b_level</th>\n",
       "      <th>primary_cleaner.state.floatbank8_c_air</th>\n",
       "      <th>primary_cleaner.state.floatbank8_c_level</th>\n",
       "      <th>primary_cleaner.state.floatbank8_d_air</th>\n",
       "      <th>primary_cleaner.state.floatbank8_d_level</th>\n",
       "      <th>primary_cleaner.output.concentrate_au</th>\n",
       "      <th>primary_cleaner.output.concentrate_ag</th>\n",
       "      <th>primary_cleaner.output.concentrate_pb</th>\n",
       "      <th>primary_cleaner.output.concentrate_sol</th>\n",
       "      <th>primary_cleaner.output.tail_au</th>\n",
       "      <th>primary_cleaner.output.tail_ag</th>\n",
       "      <th>primary_cleaner.output.tail_pb</th>\n",
       "      <th>primary_cleaner.output.tail_sol</th>\n",
       "      <th>secondary_cleaner.state.floatbank2_a_air</th>\n",
       "      <th>secondary_cleaner.state.floatbank2_a_level</th>\n",
       "      <th>secondary_cleaner.state.floatbank2_b_air</th>\n",
       "      <th>secondary_cleaner.state.floatbank2_b_level</th>\n",
       "      <th>secondary_cleaner.state.floatbank3_a_air</th>\n",
       "      <th>secondary_cleaner.state.floatbank3_a_level</th>\n",
       "      <th>secondary_cleaner.state.floatbank3_b_air</th>\n",
       "      <th>secondary_cleaner.state.floatbank3_b_level</th>\n",
       "      <th>secondary_cleaner.state.floatbank4_a_air</th>\n",
       "      <th>secondary_cleaner.state.floatbank4_a_level</th>\n",
       "      <th>secondary_cleaner.state.floatbank4_b_air</th>\n",
       "      <th>secondary_cleaner.state.floatbank4_b_level</th>\n",
       "      <th>secondary_cleaner.state.floatbank5_a_air</th>\n",
       "      <th>secondary_cleaner.state.floatbank5_a_level</th>\n",
       "      <th>secondary_cleaner.state.floatbank5_b_air</th>\n",
       "      <th>secondary_cleaner.state.floatbank5_b_level</th>\n",
       "      <th>secondary_cleaner.state.floatbank6_a_air</th>\n",
       "      <th>secondary_cleaner.state.floatbank6_a_level</th>\n",
       "      <th>secondary_cleaner.output.tail_au</th>\n",
       "      <th>secondary_cleaner.output.tail_ag</th>\n",
       "      <th>secondary_cleaner.output.tail_pb</th>\n",
       "      <th>secondary_cleaner.output.tail_sol</th>\n",
       "      <th>final.output.concentrate_au</th>\n",
       "      <th>final.output.concentrate_ag</th>\n",
       "      <th>final.output.concentrate_pb</th>\n",
       "      <th>final.output.concentrate_sol</th>\n",
       "      <th>final.output.recovery</th>\n",
       "      <th>final.output.tail_au</th>\n",
       "      <th>final.output.tail_ag</th>\n",
       "      <th>final.output.tail_pb</th>\n",
       "      <th>final.output.tail_sol</th>\n",
       "    </tr>\n",
       "  </thead>\n",
       "  <tbody>\n",
       "    <tr>\n",
       "      <th>df_full</th>\n",
       "      <td>0.0</td>\n",
       "      <td>0.0</td>\n",
       "      <td>0.0</td>\n",
       "      <td>100.0</td>\n",
       "      <td>99.0</td>\n",
       "      <td>11.0</td>\n",
       "      <td>145.0</td>\n",
       "      <td>34.0</td>\n",
       "      <td>8.0</td>\n",
       "      <td>1.0</td>\n",
       "      <td>1.0</td>\n",
       "      <td>1.0</td>\n",
       "      <td>1.0</td>\n",
       "      <td>1.0</td>\n",
       "      <td>1.0</td>\n",
       "      <td>0.0</td>\n",
       "      <td>0.0</td>\n",
       "      <td>436.0</td>\n",
       "      <td>0.0</td>\n",
       "      <td>0.0</td>\n",
       "      <td>0.0</td>\n",
       "      <td>44.0</td>\n",
       "      <td>453.0</td>\n",
       "      <td>2.0</td>\n",
       "      <td>2.0</td>\n",
       "      <td>2.0</td>\n",
       "      <td>0.0</td>\n",
       "      <td>0.0</td>\n",
       "      <td>0.0</td>\n",
       "      <td>0.0</td>\n",
       "      <td>23.0</td>\n",
       "      <td>0.0</td>\n",
       "      <td>0.0</td>\n",
       "      <td>1.0</td>\n",
       "      <td>0.0</td>\n",
       "      <td>0.0</td>\n",
       "      <td>24.0</td>\n",
       "      <td>37.0</td>\n",
       "      <td>0.0</td>\n",
       "      <td>104.0</td>\n",
       "      <td>4.0</td>\n",
       "      <td>1.0</td>\n",
       "      <td>4.0</td>\n",
       "      <td>1.0</td>\n",
       "      <td>2.0</td>\n",
       "      <td>1.0</td>\n",
       "      <td>3.0</td>\n",
       "      <td>1.0</td>\n",
       "      <td>0.0</td>\n",
       "      <td>0.0</td>\n",
       "      <td>116.0</td>\n",
       "      <td>370.0</td>\n",
       "      <td>0.0</td>\n",
       "      <td>4.0</td>\n",
       "      <td>21.0</td>\n",
       "      <td>62.0</td>\n",
       "      <td>220.0</td>\n",
       "      <td>1.0</td>\n",
       "      <td>23.0</td>\n",
       "      <td>1.0</td>\n",
       "      <td>13.0</td>\n",
       "      <td>1.0</td>\n",
       "      <td>1.0</td>\n",
       "      <td>1.0</td>\n",
       "      <td>6.0</td>\n",
       "      <td>1.0</td>\n",
       "      <td>1.0</td>\n",
       "      <td>1.0</td>\n",
       "      <td>1.0</td>\n",
       "      <td>1.0</td>\n",
       "      <td>1.0</td>\n",
       "      <td>1.0</td>\n",
       "      <td>2.0</td>\n",
       "      <td>1.0</td>\n",
       "      <td>0.0</td>\n",
       "      <td>2.0</td>\n",
       "      <td>12.0</td>\n",
       "      <td>1748.0</td>\n",
       "      <td>0.0</td>\n",
       "      <td>1.0</td>\n",
       "      <td>1.0</td>\n",
       "      <td>211.0</td>\n",
       "      <td>0.0</td>\n",
       "      <td>0.0</td>\n",
       "      <td>1.0</td>\n",
       "      <td>101.0</td>\n",
       "      <td>6.0</td>\n",
       "    </tr>\n",
       "    <tr>\n",
       "      <th>df_train</th>\n",
       "      <td>0.0</td>\n",
       "      <td>0.0</td>\n",
       "      <td>0.0</td>\n",
       "      <td>72.0</td>\n",
       "      <td>77.0</td>\n",
       "      <td>7.0</td>\n",
       "      <td>101.0</td>\n",
       "      <td>31.0</td>\n",
       "      <td>7.0</td>\n",
       "      <td>0.0</td>\n",
       "      <td>0.0</td>\n",
       "      <td>0.0</td>\n",
       "      <td>0.0</td>\n",
       "      <td>0.0</td>\n",
       "      <td>0.0</td>\n",
       "      <td>0.0</td>\n",
       "      <td>0.0</td>\n",
       "      <td>429.0</td>\n",
       "      <td>0.0</td>\n",
       "      <td>0.0</td>\n",
       "      <td>0.0</td>\n",
       "      <td>36.0</td>\n",
       "      <td>407.0</td>\n",
       "      <td>1.0</td>\n",
       "      <td>1.0</td>\n",
       "      <td>1.0</td>\n",
       "      <td>0.0</td>\n",
       "      <td>0.0</td>\n",
       "      <td>0.0</td>\n",
       "      <td>0.0</td>\n",
       "      <td>18.0</td>\n",
       "      <td>0.0</td>\n",
       "      <td>0.0</td>\n",
       "      <td>1.0</td>\n",
       "      <td>0.0</td>\n",
       "      <td>0.0</td>\n",
       "      <td>23.0</td>\n",
       "      <td>28.0</td>\n",
       "      <td>0.0</td>\n",
       "      <td>61.0</td>\n",
       "      <td>3.0</td>\n",
       "      <td>0.0</td>\n",
       "      <td>3.0</td>\n",
       "      <td>0.0</td>\n",
       "      <td>0.0</td>\n",
       "      <td>0.0</td>\n",
       "      <td>1.0</td>\n",
       "      <td>0.0</td>\n",
       "      <td>0.0</td>\n",
       "      <td>0.0</td>\n",
       "      <td>88.0</td>\n",
       "      <td>265.0</td>\n",
       "      <td>0.0</td>\n",
       "      <td>4.0</td>\n",
       "      <td>6.0</td>\n",
       "      <td>45.0</td>\n",
       "      <td>94.0</td>\n",
       "      <td>0.0</td>\n",
       "      <td>22.0</td>\n",
       "      <td>0.0</td>\n",
       "      <td>12.0</td>\n",
       "      <td>0.0</td>\n",
       "      <td>0.0</td>\n",
       "      <td>0.0</td>\n",
       "      <td>5.0</td>\n",
       "      <td>0.0</td>\n",
       "      <td>0.0</td>\n",
       "      <td>0.0</td>\n",
       "      <td>0.0</td>\n",
       "      <td>0.0</td>\n",
       "      <td>0.0</td>\n",
       "      <td>0.0</td>\n",
       "      <td>1.0</td>\n",
       "      <td>0.0</td>\n",
       "      <td>0.0</td>\n",
       "      <td>1.0</td>\n",
       "      <td>4.0</td>\n",
       "      <td>920.0</td>\n",
       "      <td>0.0</td>\n",
       "      <td>1.0</td>\n",
       "      <td>1.0</td>\n",
       "      <td>192.0</td>\n",
       "      <td>0.0</td>\n",
       "      <td>0.0</td>\n",
       "      <td>1.0</td>\n",
       "      <td>75.0</td>\n",
       "      <td>5.0</td>\n",
       "    </tr>\n",
       "    <tr>\n",
       "      <th>df_test</th>\n",
       "      <td>0.0</td>\n",
       "      <td>0.0</td>\n",
       "      <td>0.0</td>\n",
       "      <td>28.0</td>\n",
       "      <td>22.0</td>\n",
       "      <td>4.0</td>\n",
       "      <td>44.0</td>\n",
       "      <td>3.0</td>\n",
       "      <td>1.0</td>\n",
       "      <td>1.0</td>\n",
       "      <td>1.0</td>\n",
       "      <td>1.0</td>\n",
       "      <td>1.0</td>\n",
       "      <td>1.0</td>\n",
       "      <td>1.0</td>\n",
       "      <td>0.0</td>\n",
       "      <td>0.0</td>\n",
       "      <td>7.0</td>\n",
       "      <td>0.0</td>\n",
       "      <td>0.0</td>\n",
       "      <td>0.0</td>\n",
       "      <td>8.0</td>\n",
       "      <td>46.0</td>\n",
       "      <td>NaN</td>\n",
       "      <td>NaN</td>\n",
       "      <td>NaN</td>\n",
       "      <td>NaN</td>\n",
       "      <td>NaN</td>\n",
       "      <td>NaN</td>\n",
       "      <td>NaN</td>\n",
       "      <td>NaN</td>\n",
       "      <td>NaN</td>\n",
       "      <td>NaN</td>\n",
       "      <td>NaN</td>\n",
       "      <td>NaN</td>\n",
       "      <td>NaN</td>\n",
       "      <td>1.0</td>\n",
       "      <td>9.0</td>\n",
       "      <td>0.0</td>\n",
       "      <td>43.0</td>\n",
       "      <td>1.0</td>\n",
       "      <td>1.0</td>\n",
       "      <td>1.0</td>\n",
       "      <td>1.0</td>\n",
       "      <td>2.0</td>\n",
       "      <td>1.0</td>\n",
       "      <td>2.0</td>\n",
       "      <td>1.0</td>\n",
       "      <td>NaN</td>\n",
       "      <td>NaN</td>\n",
       "      <td>NaN</td>\n",
       "      <td>NaN</td>\n",
       "      <td>NaN</td>\n",
       "      <td>NaN</td>\n",
       "      <td>NaN</td>\n",
       "      <td>NaN</td>\n",
       "      <td>126.0</td>\n",
       "      <td>1.0</td>\n",
       "      <td>1.0</td>\n",
       "      <td>1.0</td>\n",
       "      <td>1.0</td>\n",
       "      <td>1.0</td>\n",
       "      <td>1.0</td>\n",
       "      <td>1.0</td>\n",
       "      <td>1.0</td>\n",
       "      <td>1.0</td>\n",
       "      <td>1.0</td>\n",
       "      <td>1.0</td>\n",
       "      <td>1.0</td>\n",
       "      <td>1.0</td>\n",
       "      <td>1.0</td>\n",
       "      <td>1.0</td>\n",
       "      <td>1.0</td>\n",
       "      <td>1.0</td>\n",
       "      <td>NaN</td>\n",
       "      <td>NaN</td>\n",
       "      <td>NaN</td>\n",
       "      <td>NaN</td>\n",
       "      <td>NaN</td>\n",
       "      <td>NaN</td>\n",
       "      <td>NaN</td>\n",
       "      <td>NaN</td>\n",
       "      <td>NaN</td>\n",
       "      <td>NaN</td>\n",
       "      <td>NaN</td>\n",
       "      <td>NaN</td>\n",
       "      <td>NaN</td>\n",
       "    </tr>\n",
       "  </tbody>\n",
       "</table>\n",
       "</div>"
      ],
      "text/plain": [
       "          date  rougher.input.feed_au  rougher.input.feed_ag  \\\n",
       "df_full    0.0                    0.0                    0.0   \n",
       "df_train   0.0                    0.0                    0.0   \n",
       "df_test    0.0                    0.0                    0.0   \n",
       "\n",
       "          rougher.input.feed_pb  rougher.input.feed_sol  \\\n",
       "df_full                   100.0                    99.0   \n",
       "df_train                   72.0                    77.0   \n",
       "df_test                    28.0                    22.0   \n",
       "\n",
       "          rougher.input.feed_rate  rougher.input.feed_size  \\\n",
       "df_full                      11.0                    145.0   \n",
       "df_train                      7.0                    101.0   \n",
       "df_test                       4.0                     44.0   \n",
       "\n",
       "          rougher.input.floatbank10_sulfate  \\\n",
       "df_full                                34.0   \n",
       "df_train                               31.0   \n",
       "df_test                                 3.0   \n",
       "\n",
       "          rougher.input.floatbank10_xanthate  rougher.state.floatbank10_a_air  \\\n",
       "df_full                                  8.0                              1.0   \n",
       "df_train                                 7.0                              0.0   \n",
       "df_test                                  1.0                              1.0   \n",
       "\n",
       "          rougher.state.floatbank10_a_level  rougher.state.floatbank10_b_air  \\\n",
       "df_full                                 1.0                              1.0   \n",
       "df_train                                0.0                              0.0   \n",
       "df_test                                 1.0                              1.0   \n",
       "\n",
       "          rougher.state.floatbank10_b_level  rougher.state.floatbank10_c_air  \\\n",
       "df_full                                 1.0                              1.0   \n",
       "df_train                                0.0                              0.0   \n",
       "df_test                                 1.0                              1.0   \n",
       "\n",
       "          rougher.state.floatbank10_c_level  rougher.state.floatbank10_d_air  \\\n",
       "df_full                                 1.0                              0.0   \n",
       "df_train                                0.0                              0.0   \n",
       "df_test                                 1.0                              0.0   \n",
       "\n",
       "          rougher.state.floatbank10_d_level  rougher.state.floatbank10_e_air  \\\n",
       "df_full                                 0.0                            436.0   \n",
       "df_train                                0.0                            429.0   \n",
       "df_test                                 0.0                              7.0   \n",
       "\n",
       "          rougher.state.floatbank10_e_level  rougher.state.floatbank10_f_air  \\\n",
       "df_full                                 0.0                              0.0   \n",
       "df_train                                0.0                              0.0   \n",
       "df_test                                 0.0                              0.0   \n",
       "\n",
       "          rougher.state.floatbank10_f_level  \\\n",
       "df_full                                 0.0   \n",
       "df_train                                0.0   \n",
       "df_test                                 0.0   \n",
       "\n",
       "          rougher.input.floatbank11_sulfate  \\\n",
       "df_full                                44.0   \n",
       "df_train                               36.0   \n",
       "df_test                                 8.0   \n",
       "\n",
       "          rougher.input.floatbank11_xanthate  \\\n",
       "df_full                                453.0   \n",
       "df_train                               407.0   \n",
       "df_test                                 46.0   \n",
       "\n",
       "          rougher.calculation.sulfate_to_au_concentrate  \\\n",
       "df_full                                             2.0   \n",
       "df_train                                            1.0   \n",
       "df_test                                             NaN   \n",
       "\n",
       "          rougher.calculation.floatbank10_sulfate_to_au_feed  \\\n",
       "df_full                                                 2.0    \n",
       "df_train                                                1.0    \n",
       "df_test                                                 NaN    \n",
       "\n",
       "          rougher.calculation.floatbank11_sulfate_to_au_feed  \\\n",
       "df_full                                                 2.0    \n",
       "df_train                                                1.0    \n",
       "df_test                                                 NaN    \n",
       "\n",
       "          rougher.calculation.au_pb_ratio  rougher.output.concentrate_au  \\\n",
       "df_full                               0.0                            0.0   \n",
       "df_train                              0.0                            0.0   \n",
       "df_test                               NaN                            NaN   \n",
       "\n",
       "          rougher.output.concentrate_ag  rougher.output.concentrate_pb  \\\n",
       "df_full                             0.0                            0.0   \n",
       "df_train                            0.0                            0.0   \n",
       "df_test                             NaN                            NaN   \n",
       "\n",
       "          rougher.output.concentrate_sol  rougher.output.recovery  \\\n",
       "df_full                             23.0                      0.0   \n",
       "df_train                            18.0                      0.0   \n",
       "df_test                              NaN                      NaN   \n",
       "\n",
       "          rougher.output.tail_au  rougher.output.tail_ag  \\\n",
       "df_full                      0.0                     1.0   \n",
       "df_train                     0.0                     1.0   \n",
       "df_test                      NaN                     NaN   \n",
       "\n",
       "          rougher.output.tail_pb  rougher.output.tail_sol  \\\n",
       "df_full                      0.0                      0.0   \n",
       "df_train                     0.0                      0.0   \n",
       "df_test                      NaN                      NaN   \n",
       "\n",
       "          primary_cleaner.input.sulfate  primary_cleaner.input.depressant  \\\n",
       "df_full                            24.0                              37.0   \n",
       "df_train                           23.0                              28.0   \n",
       "df_test                             1.0                               9.0   \n",
       "\n",
       "          primary_cleaner.input.feed_size  primary_cleaner.input.xanthate  \\\n",
       "df_full                               0.0                           104.0   \n",
       "df_train                              0.0                            61.0   \n",
       "df_test                               0.0                            43.0   \n",
       "\n",
       "          primary_cleaner.state.floatbank8_a_air  \\\n",
       "df_full                                      4.0   \n",
       "df_train                                     3.0   \n",
       "df_test                                      1.0   \n",
       "\n",
       "          primary_cleaner.state.floatbank8_a_level  \\\n",
       "df_full                                        1.0   \n",
       "df_train                                       0.0   \n",
       "df_test                                        1.0   \n",
       "\n",
       "          primary_cleaner.state.floatbank8_b_air  \\\n",
       "df_full                                      4.0   \n",
       "df_train                                     3.0   \n",
       "df_test                                      1.0   \n",
       "\n",
       "          primary_cleaner.state.floatbank8_b_level  \\\n",
       "df_full                                        1.0   \n",
       "df_train                                       0.0   \n",
       "df_test                                        1.0   \n",
       "\n",
       "          primary_cleaner.state.floatbank8_c_air  \\\n",
       "df_full                                      2.0   \n",
       "df_train                                     0.0   \n",
       "df_test                                      2.0   \n",
       "\n",
       "          primary_cleaner.state.floatbank8_c_level  \\\n",
       "df_full                                        1.0   \n",
       "df_train                                       0.0   \n",
       "df_test                                        1.0   \n",
       "\n",
       "          primary_cleaner.state.floatbank8_d_air  \\\n",
       "df_full                                      3.0   \n",
       "df_train                                     1.0   \n",
       "df_test                                      2.0   \n",
       "\n",
       "          primary_cleaner.state.floatbank8_d_level  \\\n",
       "df_full                                        1.0   \n",
       "df_train                                       0.0   \n",
       "df_test                                        1.0   \n",
       "\n",
       "          primary_cleaner.output.concentrate_au  \\\n",
       "df_full                                     0.0   \n",
       "df_train                                    0.0   \n",
       "df_test                                     NaN   \n",
       "\n",
       "          primary_cleaner.output.concentrate_ag  \\\n",
       "df_full                                     0.0   \n",
       "df_train                                    0.0   \n",
       "df_test                                     NaN   \n",
       "\n",
       "          primary_cleaner.output.concentrate_pb  \\\n",
       "df_full                                   116.0   \n",
       "df_train                                   88.0   \n",
       "df_test                                     NaN   \n",
       "\n",
       "          primary_cleaner.output.concentrate_sol  \\\n",
       "df_full                                    370.0   \n",
       "df_train                                   265.0   \n",
       "df_test                                      NaN   \n",
       "\n",
       "          primary_cleaner.output.tail_au  primary_cleaner.output.tail_ag  \\\n",
       "df_full                              0.0                             4.0   \n",
       "df_train                             0.0                             4.0   \n",
       "df_test                              NaN                             NaN   \n",
       "\n",
       "          primary_cleaner.output.tail_pb  primary_cleaner.output.tail_sol  \\\n",
       "df_full                             21.0                             62.0   \n",
       "df_train                             6.0                             45.0   \n",
       "df_test                              NaN                              NaN   \n",
       "\n",
       "          secondary_cleaner.state.floatbank2_a_air  \\\n",
       "df_full                                      220.0   \n",
       "df_train                                      94.0   \n",
       "df_test                                      126.0   \n",
       "\n",
       "          secondary_cleaner.state.floatbank2_a_level  \\\n",
       "df_full                                          1.0   \n",
       "df_train                                         0.0   \n",
       "df_test                                          1.0   \n",
       "\n",
       "          secondary_cleaner.state.floatbank2_b_air  \\\n",
       "df_full                                       23.0   \n",
       "df_train                                      22.0   \n",
       "df_test                                        1.0   \n",
       "\n",
       "          secondary_cleaner.state.floatbank2_b_level  \\\n",
       "df_full                                          1.0   \n",
       "df_train                                         0.0   \n",
       "df_test                                          1.0   \n",
       "\n",
       "          secondary_cleaner.state.floatbank3_a_air  \\\n",
       "df_full                                       13.0   \n",
       "df_train                                      12.0   \n",
       "df_test                                        1.0   \n",
       "\n",
       "          secondary_cleaner.state.floatbank3_a_level  \\\n",
       "df_full                                          1.0   \n",
       "df_train                                         0.0   \n",
       "df_test                                          1.0   \n",
       "\n",
       "          secondary_cleaner.state.floatbank3_b_air  \\\n",
       "df_full                                        1.0   \n",
       "df_train                                       0.0   \n",
       "df_test                                        1.0   \n",
       "\n",
       "          secondary_cleaner.state.floatbank3_b_level  \\\n",
       "df_full                                          1.0   \n",
       "df_train                                         0.0   \n",
       "df_test                                          1.0   \n",
       "\n",
       "          secondary_cleaner.state.floatbank4_a_air  \\\n",
       "df_full                                        6.0   \n",
       "df_train                                       5.0   \n",
       "df_test                                        1.0   \n",
       "\n",
       "          secondary_cleaner.state.floatbank4_a_level  \\\n",
       "df_full                                          1.0   \n",
       "df_train                                         0.0   \n",
       "df_test                                          1.0   \n",
       "\n",
       "          secondary_cleaner.state.floatbank4_b_air  \\\n",
       "df_full                                        1.0   \n",
       "df_train                                       0.0   \n",
       "df_test                                        1.0   \n",
       "\n",
       "          secondary_cleaner.state.floatbank4_b_level  \\\n",
       "df_full                                          1.0   \n",
       "df_train                                         0.0   \n",
       "df_test                                          1.0   \n",
       "\n",
       "          secondary_cleaner.state.floatbank5_a_air  \\\n",
       "df_full                                        1.0   \n",
       "df_train                                       0.0   \n",
       "df_test                                        1.0   \n",
       "\n",
       "          secondary_cleaner.state.floatbank5_a_level  \\\n",
       "df_full                                          1.0   \n",
       "df_train                                         0.0   \n",
       "df_test                                          1.0   \n",
       "\n",
       "          secondary_cleaner.state.floatbank5_b_air  \\\n",
       "df_full                                        1.0   \n",
       "df_train                                       0.0   \n",
       "df_test                                        1.0   \n",
       "\n",
       "          secondary_cleaner.state.floatbank5_b_level  \\\n",
       "df_full                                          1.0   \n",
       "df_train                                         0.0   \n",
       "df_test                                          1.0   \n",
       "\n",
       "          secondary_cleaner.state.floatbank6_a_air  \\\n",
       "df_full                                        2.0   \n",
       "df_train                                       1.0   \n",
       "df_test                                        1.0   \n",
       "\n",
       "          secondary_cleaner.state.floatbank6_a_level  \\\n",
       "df_full                                          1.0   \n",
       "df_train                                         0.0   \n",
       "df_test                                          1.0   \n",
       "\n",
       "          secondary_cleaner.output.tail_au  secondary_cleaner.output.tail_ag  \\\n",
       "df_full                                0.0                               2.0   \n",
       "df_train                               0.0                               1.0   \n",
       "df_test                                NaN                               NaN   \n",
       "\n",
       "          secondary_cleaner.output.tail_pb  secondary_cleaner.output.tail_sol  \\\n",
       "df_full                               12.0                             1748.0   \n",
       "df_train                               4.0                              920.0   \n",
       "df_test                                NaN                                NaN   \n",
       "\n",
       "          final.output.concentrate_au  final.output.concentrate_ag  \\\n",
       "df_full                           0.0                          1.0   \n",
       "df_train                          0.0                          1.0   \n",
       "df_test                           NaN                          NaN   \n",
       "\n",
       "          final.output.concentrate_pb  final.output.concentrate_sol  \\\n",
       "df_full                           1.0                         211.0   \n",
       "df_train                          1.0                         192.0   \n",
       "df_test                           NaN                           NaN   \n",
       "\n",
       "          final.output.recovery  final.output.tail_au  final.output.tail_ag  \\\n",
       "df_full                     0.0                   0.0                   1.0   \n",
       "df_train                    0.0                   0.0                   1.0   \n",
       "df_test                     NaN                   NaN                   NaN   \n",
       "\n",
       "          final.output.tail_pb  final.output.tail_sol  \n",
       "df_full                  101.0                    6.0  \n",
       "df_train                  75.0                    5.0  \n",
       "df_test                    NaN                    NaN  "
      ]
     },
     "execution_count": 8,
     "metadata": {},
     "output_type": "execute_result"
    }
   ],
   "source": [
    "isna_dfs = pd.DataFrame([df.isna().sum() for df in dfs], index=['df_full', 'df_train', 'df_test'])\n",
    "isna_dfs"
   ]
  },
  {
   "cell_type": "markdown",
   "metadata": {},
   "source": [
    "**Датасеты открыты и сохраненны. Дубликаты отсутствуют. Присутствуют пропуски значений, требующие в дальнейшем обработки.**"
   ]
  },
  {
   "cell_type": "markdown",
   "metadata": {},
   "source": [
    "### Эффективность обогащения."
   ]
  },
  {
   "cell_type": "markdown",
   "metadata": {},
   "source": [
    "Проверим, что эффективность обогащения рассчитана правильно. Вычислим её на обучающей выборке для признака rougher.output.recovery. Найдем MAE между нашими расчётами и значением признака"
   ]
  },
  {
   "cell_type": "markdown",
   "metadata": {},
   "source": [
    "**Эффективность обогащения рассчитывается по формуле**"
   ]
  },
  {
   "attachments": {
    "Image.png": {
     "image/png": "[encoded data removed]"
    }
   },
   "cell_type": "markdown",
   "metadata": {},
   "source": [
    "![Image.png](attachment:Image.png)"
   ]
  },
  {
   "cell_type": "markdown",
   "metadata": {},
   "source": [
    "**где:**\n",
    "\n",
    "**C — доля золота в концентрате после флотации/очистки;**\n",
    "\n",
    "**F — доля золота в сырье/концентрате до флотации/очистки;**\n",
    "\n",
    "**T — доля золота в отвальных хвостах после флотации/очистки.**"
   ]
  },
  {
   "cell_type": "markdown",
   "metadata": {},
   "source": [
    "Выведим название столбцов обучающего датасета с признаками по золоту (_au)."
   ]
  },
  {
   "cell_type": "code",
   "execution_count": 9,
   "metadata": {},
   "outputs": [
    {
     "data": {
      "text/plain": [
       "['rougher.input.feed_au',\n",
       " 'rougher.calculation.sulfate_to_au_concentrate',\n",
       " 'rougher.calculation.floatbank10_sulfate_to_au_feed',\n",
       " 'rougher.calculation.floatbank11_sulfate_to_au_feed',\n",
       " 'rougher.output.concentrate_au',\n",
       " 'rougher.output.tail_au',\n",
       " 'primary_cleaner.output.concentrate_au',\n",
       " 'primary_cleaner.output.tail_au',\n",
       " 'secondary_cleaner.output.tail_au',\n",
       " 'final.output.concentrate_au',\n",
       " 'final.output.tail_au']"
      ]
     },
     "execution_count": 9,
     "metadata": {},
     "output_type": "execute_result"
    }
   ],
   "source": [
    "[col for col in df_train.columns if '_au' in col]"
   ]
  },
  {
   "cell_type": "markdown",
   "metadata": {},
   "source": [
    "Создадим rougher_recovery новый датасет с необходиммыми для расчета признаками флотации (rougher)."
   ]
  },
  {
   "cell_type": "code",
   "execution_count": 10,
   "metadata": {},
   "outputs": [
    {
     "data": {
      "text/html": [
       "<div>\n",
       "<style scoped>\n",
       "    .dataframe tbody tr th:only-of-type {\n",
       "        vertical-align: middle;\n",
       "    }\n",
       "\n",
       "    .dataframe tbody tr th {\n",
       "        vertical-align: top;\n",
       "    }\n",
       "\n",
       "    .dataframe thead th {\n",
       "        text-align: right;\n",
       "    }\n",
       "</style>\n",
       "<table border=\"1\" class=\"dataframe\">\n",
       "  <thead>\n",
       "    <tr style=\"text-align: right;\">\n",
       "      <th></th>\n",
       "      <th>rougher.input.feed_au</th>\n",
       "      <th>rougher.output.concentrate_au</th>\n",
       "      <th>rougher.output.tail_au</th>\n",
       "      <th>rougher.output.recovery</th>\n",
       "    </tr>\n",
       "  </thead>\n",
       "  <tbody>\n",
       "    <tr>\n",
       "      <th>0</th>\n",
       "      <td>6.486150</td>\n",
       "      <td>19.793808</td>\n",
       "      <td>1.170244</td>\n",
       "      <td>87.107763</td>\n",
       "    </tr>\n",
       "    <tr>\n",
       "      <th>1</th>\n",
       "      <td>6.478583</td>\n",
       "      <td>20.050975</td>\n",
       "      <td>1.184827</td>\n",
       "      <td>86.843261</td>\n",
       "    </tr>\n",
       "    <tr>\n",
       "      <th>2</th>\n",
       "      <td>6.362222</td>\n",
       "      <td>19.737170</td>\n",
       "      <td>1.162562</td>\n",
       "      <td>86.842308</td>\n",
       "    </tr>\n",
       "    <tr>\n",
       "      <th>3</th>\n",
       "      <td>6.118189</td>\n",
       "      <td>19.320810</td>\n",
       "      <td>1.079755</td>\n",
       "      <td>87.226430</td>\n",
       "    </tr>\n",
       "    <tr>\n",
       "      <th>4</th>\n",
       "      <td>5.663707</td>\n",
       "      <td>19.216101</td>\n",
       "      <td>1.012642</td>\n",
       "      <td>86.688794</td>\n",
       "    </tr>\n",
       "    <tr>\n",
       "      <th>...</th>\n",
       "      <td>...</td>\n",
       "      <td>...</td>\n",
       "      <td>...</td>\n",
       "      <td>...</td>\n",
       "    </tr>\n",
       "    <tr>\n",
       "      <th>14574</th>\n",
       "      <td>4.599524</td>\n",
       "      <td>18.162221</td>\n",
       "      <td>0.728133</td>\n",
       "      <td>87.684717</td>\n",
       "    </tr>\n",
       "    <tr>\n",
       "      <th>14575</th>\n",
       "      <td>4.658125</td>\n",
       "      <td>18.287758</td>\n",
       "      <td>0.564683</td>\n",
       "      <td>90.677361</td>\n",
       "    </tr>\n",
       "    <tr>\n",
       "      <th>14576</th>\n",
       "      <td>5.335862</td>\n",
       "      <td>18.603550</td>\n",
       "      <td>0.748633</td>\n",
       "      <td>89.574376</td>\n",
       "    </tr>\n",
       "    <tr>\n",
       "      <th>14577</th>\n",
       "      <td>4.838619</td>\n",
       "      <td>18.441436</td>\n",
       "      <td>0.771582</td>\n",
       "      <td>87.724007</td>\n",
       "    </tr>\n",
       "    <tr>\n",
       "      <th>14578</th>\n",
       "      <td>4.525061</td>\n",
       "      <td>15.111231</td>\n",
       "      <td>0.685059</td>\n",
       "      <td>88.890579</td>\n",
       "    </tr>\n",
       "  </tbody>\n",
       "</table>\n",
       "<p>14579 rows × 4 columns</p>\n",
       "</div>"
      ],
      "text/plain": [
       "       rougher.input.feed_au  rougher.output.concentrate_au  \\\n",
       "0                   6.486150                      19.793808   \n",
       "1                   6.478583                      20.050975   \n",
       "2                   6.362222                      19.737170   \n",
       "3                   6.118189                      19.320810   \n",
       "4                   5.663707                      19.216101   \n",
       "...                      ...                            ...   \n",
       "14574               4.599524                      18.162221   \n",
       "14575               4.658125                      18.287758   \n",
       "14576               5.335862                      18.603550   \n",
       "14577               4.838619                      18.441436   \n",
       "14578               4.525061                      15.111231   \n",
       "\n",
       "       rougher.output.tail_au  rougher.output.recovery  \n",
       "0                    1.170244                87.107763  \n",
       "1                    1.184827                86.843261  \n",
       "2                    1.162562                86.842308  \n",
       "3                    1.079755                87.226430  \n",
       "4                    1.012642                86.688794  \n",
       "...                       ...                      ...  \n",
       "14574                0.728133                87.684717  \n",
       "14575                0.564683                90.677361  \n",
       "14576                0.748633                89.574376  \n",
       "14577                0.771582                87.724007  \n",
       "14578                0.685059                88.890579  \n",
       "\n",
       "[14579 rows x 4 columns]"
      ]
     },
     "execution_count": 10,
     "metadata": {},
     "output_type": "execute_result"
    }
   ],
   "source": [
    "rougher_recovery = df_train[['rougher.input.feed_au',\n",
    "                            'rougher.output.concentrate_au',\n",
    "                            'rougher.output.tail_au',\n",
    "                            'rougher.output.recovery']]\n",
    "rougher_recovery"
   ]
  },
  {
   "cell_type": "markdown",
   "metadata": {},
   "source": [
    "Проверим на наличие пропусков"
   ]
  },
  {
   "cell_type": "code",
   "execution_count": 11,
   "metadata": {},
   "outputs": [
    {
     "data": {
      "text/plain": [
       "rougher.input.feed_au            0\n",
       "rougher.output.concentrate_au    0\n",
       "rougher.output.tail_au           0\n",
       "rougher.output.recovery          0\n",
       "dtype: int64"
      ]
     },
     "execution_count": 11,
     "metadata": {},
     "output_type": "execute_result"
    }
   ],
   "source": [
    "rougher_recovery.isna().sum()"
   ]
  },
  {
   "cell_type": "markdown",
   "metadata": {},
   "source": [
    "Произведем расчет эффективности обогащения флотации, результат сохраним в новом столбце calculated_recovery."
   ]
  },
  {
   "cell_type": "code",
   "execution_count": 12,
   "metadata": {},
   "outputs": [
    {
     "data": {
      "text/html": [
       "<div>\n",
       "<style scoped>\n",
       "    .dataframe tbody tr th:only-of-type {\n",
       "        vertical-align: middle;\n",
       "    }\n",
       "\n",
       "    .dataframe tbody tr th {\n",
       "        vertical-align: top;\n",
       "    }\n",
       "\n",
       "    .dataframe thead th {\n",
       "        text-align: right;\n",
       "    }\n",
       "</style>\n",
       "<table border=\"1\" class=\"dataframe\">\n",
       "  <thead>\n",
       "    <tr style=\"text-align: right;\">\n",
       "      <th></th>\n",
       "      <th>rougher.input.feed_au</th>\n",
       "      <th>rougher.output.concentrate_au</th>\n",
       "      <th>rougher.output.tail_au</th>\n",
       "      <th>rougher.output.recovery</th>\n",
       "      <th>calculated_recovery</th>\n",
       "    </tr>\n",
       "  </thead>\n",
       "  <tbody>\n",
       "    <tr>\n",
       "      <th>0</th>\n",
       "      <td>6.486150</td>\n",
       "      <td>19.793808</td>\n",
       "      <td>1.170244</td>\n",
       "      <td>87.107763</td>\n",
       "      <td>87.107763</td>\n",
       "    </tr>\n",
       "    <tr>\n",
       "      <th>1</th>\n",
       "      <td>6.478583</td>\n",
       "      <td>20.050975</td>\n",
       "      <td>1.184827</td>\n",
       "      <td>86.843261</td>\n",
       "      <td>86.843261</td>\n",
       "    </tr>\n",
       "    <tr>\n",
       "      <th>2</th>\n",
       "      <td>6.362222</td>\n",
       "      <td>19.737170</td>\n",
       "      <td>1.162562</td>\n",
       "      <td>86.842308</td>\n",
       "      <td>86.842308</td>\n",
       "    </tr>\n",
       "    <tr>\n",
       "      <th>3</th>\n",
       "      <td>6.118189</td>\n",
       "      <td>19.320810</td>\n",
       "      <td>1.079755</td>\n",
       "      <td>87.226430</td>\n",
       "      <td>87.226430</td>\n",
       "    </tr>\n",
       "    <tr>\n",
       "      <th>4</th>\n",
       "      <td>5.663707</td>\n",
       "      <td>19.216101</td>\n",
       "      <td>1.012642</td>\n",
       "      <td>86.688794</td>\n",
       "      <td>86.688794</td>\n",
       "    </tr>\n",
       "    <tr>\n",
       "      <th>...</th>\n",
       "      <td>...</td>\n",
       "      <td>...</td>\n",
       "      <td>...</td>\n",
       "      <td>...</td>\n",
       "      <td>...</td>\n",
       "    </tr>\n",
       "    <tr>\n",
       "      <th>14574</th>\n",
       "      <td>4.599524</td>\n",
       "      <td>18.162221</td>\n",
       "      <td>0.728133</td>\n",
       "      <td>87.684717</td>\n",
       "      <td>87.684717</td>\n",
       "    </tr>\n",
       "    <tr>\n",
       "      <th>14575</th>\n",
       "      <td>4.658125</td>\n",
       "      <td>18.287758</td>\n",
       "      <td>0.564683</td>\n",
       "      <td>90.677361</td>\n",
       "      <td>90.677361</td>\n",
       "    </tr>\n",
       "    <tr>\n",
       "      <th>14576</th>\n",
       "      <td>5.335862</td>\n",
       "      <td>18.603550</td>\n",
       "      <td>0.748633</td>\n",
       "      <td>89.574376</td>\n",
       "      <td>89.574376</td>\n",
       "    </tr>\n",
       "    <tr>\n",
       "      <th>14577</th>\n",
       "      <td>4.838619</td>\n",
       "      <td>18.441436</td>\n",
       "      <td>0.771582</td>\n",
       "      <td>87.724007</td>\n",
       "      <td>87.724007</td>\n",
       "    </tr>\n",
       "    <tr>\n",
       "      <th>14578</th>\n",
       "      <td>4.525061</td>\n",
       "      <td>15.111231</td>\n",
       "      <td>0.685059</td>\n",
       "      <td>88.890579</td>\n",
       "      <td>88.890579</td>\n",
       "    </tr>\n",
       "  </tbody>\n",
       "</table>\n",
       "<p>14579 rows × 5 columns</p>\n",
       "</div>"
      ],
      "text/plain": [
       "       rougher.input.feed_au  rougher.output.concentrate_au  \\\n",
       "0                   6.486150                      19.793808   \n",
       "1                   6.478583                      20.050975   \n",
       "2                   6.362222                      19.737170   \n",
       "3                   6.118189                      19.320810   \n",
       "4                   5.663707                      19.216101   \n",
       "...                      ...                            ...   \n",
       "14574               4.599524                      18.162221   \n",
       "14575               4.658125                      18.287758   \n",
       "14576               5.335862                      18.603550   \n",
       "14577               4.838619                      18.441436   \n",
       "14578               4.525061                      15.111231   \n",
       "\n",
       "       rougher.output.tail_au  rougher.output.recovery  calculated_recovery  \n",
       "0                    1.170244                87.107763            87.107763  \n",
       "1                    1.184827                86.843261            86.843261  \n",
       "2                    1.162562                86.842308            86.842308  \n",
       "3                    1.079755                87.226430            87.226430  \n",
       "4                    1.012642                86.688794            86.688794  \n",
       "...                       ...                      ...                  ...  \n",
       "14574                0.728133                87.684717            87.684717  \n",
       "14575                0.564683                90.677361            90.677361  \n",
       "14576                0.748633                89.574376            89.574376  \n",
       "14577                0.771582                87.724007            87.724007  \n",
       "14578                0.685059                88.890579            88.890579  \n",
       "\n",
       "[14579 rows x 5 columns]"
      ]
     },
     "execution_count": 12,
     "metadata": {},
     "output_type": "execute_result"
    }
   ],
   "source": [
    "c = rougher_recovery['rougher.output.concentrate_au']\n",
    "f = rougher_recovery['rougher.input.feed_au']\n",
    "t = rougher_recovery['rougher.output.tail_au']\n",
    "\n",
    "rougher_recovery = rougher_recovery.assign(calculated_recovery = ((c*(f-t))/(f*(c-t)))*100)\n",
    "rougher_recovery"
   ]
  },
  {
   "cell_type": "markdown",
   "metadata": {},
   "source": [
    "Используя функцию mean_absolute_error найдём среднюю абсолютную ошибку MAE между нашим расчетом и значением признака. "
   ]
  },
  {
   "cell_type": "code",
   "execution_count": 13,
   "metadata": {},
   "outputs": [
    {
     "name": "stdout",
     "output_type": "stream",
     "text": [
      "Средняя абсолютная ошибка равна 0.0\n"
     ]
    }
   ],
   "source": [
    "mae_recovery = mean_absolute_error(\n",
    "    rougher_recovery['rougher.output.recovery'], \n",
    "    rougher_recovery['calculated_recovery']\n",
    ").round(5)\n",
    "\n",
    "print(f'Средняя абсолютная ошибка равна {mae_recovery}')"
   ]
  },
  {
   "cell_type": "markdown",
   "metadata": {},
   "source": [
    "**Значения эффективности обогащения в представленном датасете рассчитаны правильно.**"
   ]
  },
  {
   "cell_type": "markdown",
   "metadata": {},
   "source": [
    "### Признаки недоступные в тестовой выборке"
   ]
  },
  {
   "cell_type": "markdown",
   "metadata": {},
   "source": [
    "Для вывода отсутствующих признаков вычтем из набора названий столбцов обучающего датасета набор тестового."
   ]
  },
  {
   "cell_type": "code",
   "execution_count": 14,
   "metadata": {},
   "outputs": [
    {
     "data": {
      "text/plain": [
       "{'final.output.concentrate_ag',\n",
       " 'final.output.concentrate_au',\n",
       " 'final.output.concentrate_pb',\n",
       " 'final.output.concentrate_sol',\n",
       " 'final.output.recovery',\n",
       " 'final.output.tail_ag',\n",
       " 'final.output.tail_au',\n",
       " 'final.output.tail_pb',\n",
       " 'final.output.tail_sol',\n",
       " 'primary_cleaner.output.concentrate_ag',\n",
       " 'primary_cleaner.output.concentrate_au',\n",
       " 'primary_cleaner.output.concentrate_pb',\n",
       " 'primary_cleaner.output.concentrate_sol',\n",
       " 'primary_cleaner.output.tail_ag',\n",
       " 'primary_cleaner.output.tail_au',\n",
       " 'primary_cleaner.output.tail_pb',\n",
       " 'primary_cleaner.output.tail_sol',\n",
       " 'rougher.calculation.au_pb_ratio',\n",
       " 'rougher.calculation.floatbank10_sulfate_to_au_feed',\n",
       " 'rougher.calculation.floatbank11_sulfate_to_au_feed',\n",
       " 'rougher.calculation.sulfate_to_au_concentrate',\n",
       " 'rougher.output.concentrate_ag',\n",
       " 'rougher.output.concentrate_au',\n",
       " 'rougher.output.concentrate_pb',\n",
       " 'rougher.output.concentrate_sol',\n",
       " 'rougher.output.recovery',\n",
       " 'rougher.output.tail_ag',\n",
       " 'rougher.output.tail_au',\n",
       " 'rougher.output.tail_pb',\n",
       " 'rougher.output.tail_sol',\n",
       " 'secondary_cleaner.output.tail_ag',\n",
       " 'secondary_cleaner.output.tail_au',\n",
       " 'secondary_cleaner.output.tail_pb',\n",
       " 'secondary_cleaner.output.tail_sol'}"
      ]
     },
     "execution_count": 14,
     "metadata": {},
     "output_type": "execute_result"
    }
   ],
   "source": [
    "set(dfs[1].columns.tolist()) - set(dfs[2].columns.tolist())"
   ]
  },
  {
   "cell_type": "markdown",
   "metadata": {},
   "source": [
    "**В тестовом наборе данных отстутствуют выходные (output) и расчетные (calculation) характеристики процессов обогащения.**  "
   ]
  },
  {
   "cell_type": "markdown",
   "metadata": {},
   "source": [
    "### Предобработка данных"
   ]
  },
  {
   "cell_type": "markdown",
   "metadata": {},
   "source": [
    "#### Формат значений столбца date"
   ]
  },
  {
   "cell_type": "markdown",
   "metadata": {},
   "source": [
    "Приведем значений столбцов date к соответствующему формату."
   ]
  },
  {
   "cell_type": "code",
   "execution_count": 15,
   "metadata": {},
   "outputs": [],
   "source": [
    "for df in dfs:\n",
    "    df['date'] = pd.to_datetime(df['date'], format='%Y-%m-%d %H:%M:%S')"
   ]
  },
  {
   "cell_type": "markdown",
   "metadata": {},
   "source": [
    "Проверим результат"
   ]
  },
  {
   "cell_type": "code",
   "execution_count": 16,
   "metadata": {},
   "outputs": [
    {
     "data": {
      "text/plain": [
       "[dtype('<M8[ns]'), dtype('<M8[ns]'), dtype('<M8[ns]')]"
      ]
     },
     "execution_count": 16,
     "metadata": {},
     "output_type": "execute_result"
    }
   ],
   "source": [
    "[col.date.dtype for col in dfs]"
   ]
  },
  {
   "cell_type": "code",
   "execution_count": 17,
   "metadata": {},
   "outputs": [
    {
     "data": {
      "text/plain": [
       "0   2016-01-15 00:00:00\n",
       "1   2016-01-15 01:00:00\n",
       "2   2016-01-15 02:00:00\n",
       "3   2016-01-15 03:00:00\n",
       "4   2016-01-15 04:00:00\n",
       "Name: date, dtype: datetime64[ns]"
      ]
     },
     "execution_count": 17,
     "metadata": {},
     "output_type": "execute_result"
    }
   ],
   "source": [
    "dfs[1]['date'].head()"
   ]
  },
  {
   "cell_type": "markdown",
   "metadata": {},
   "source": [
    "#### Пропуски"
   ]
  },
  {
   "cell_type": "markdown",
   "metadata": {},
   "source": [
    "Из описания проекта известно что соседние по дате параметры часто похожи. Заполним пропуски при помощи метода ffill(). Указав в параметрах axis=0, пропуски будут заполняться значением из предыдущей строки. "
   ]
  },
  {
   "cell_type": "code",
   "execution_count": 18,
   "metadata": {},
   "outputs": [],
   "source": [
    "df_train = df_train.ffill(axis = 0)"
   ]
  },
  {
   "cell_type": "code",
   "execution_count": 19,
   "metadata": {},
   "outputs": [],
   "source": [
    "df_test = df_test.ffill(axis = 0)"
   ]
  },
  {
   "cell_type": "code",
   "execution_count": 20,
   "metadata": {},
   "outputs": [],
   "source": [
    "df_full = df_full.ffill(axis = 0)"
   ]
  },
  {
   "cell_type": "code",
   "execution_count": 21,
   "metadata": {
    "scrolled": true
   },
   "outputs": [
    {
     "data": {
      "text/plain": [
       "date                                                  0\n",
       "rougher.input.feed_au                                 0\n",
       "rougher.input.feed_ag                                 0\n",
       "rougher.input.feed_pb                                 0\n",
       "rougher.input.feed_sol                                0\n",
       "rougher.input.feed_rate                               0\n",
       "rougher.input.feed_size                               0\n",
       "rougher.input.floatbank10_sulfate                     0\n",
       "rougher.input.floatbank10_xanthate                    0\n",
       "rougher.state.floatbank10_a_air                       0\n",
       "rougher.state.floatbank10_a_level                     0\n",
       "rougher.state.floatbank10_b_air                       0\n",
       "rougher.state.floatbank10_b_level                     0\n",
       "rougher.state.floatbank10_c_air                       0\n",
       "rougher.state.floatbank10_c_level                     0\n",
       "rougher.state.floatbank10_d_air                       0\n",
       "rougher.state.floatbank10_d_level                     0\n",
       "rougher.state.floatbank10_e_air                       0\n",
       "rougher.state.floatbank10_e_level                     0\n",
       "rougher.state.floatbank10_f_air                       0\n",
       "rougher.state.floatbank10_f_level                     0\n",
       "rougher.input.floatbank11_sulfate                     0\n",
       "rougher.input.floatbank11_xanthate                    0\n",
       "rougher.calculation.sulfate_to_au_concentrate         0\n",
       "rougher.calculation.floatbank10_sulfate_to_au_feed    0\n",
       "rougher.calculation.floatbank11_sulfate_to_au_feed    0\n",
       "rougher.calculation.au_pb_ratio                       0\n",
       "rougher.output.concentrate_au                         0\n",
       "rougher.output.concentrate_ag                         0\n",
       "rougher.output.concentrate_pb                         0\n",
       "rougher.output.concentrate_sol                        0\n",
       "rougher.output.recovery                               0\n",
       "rougher.output.tail_au                                0\n",
       "rougher.output.tail_ag                                0\n",
       "rougher.output.tail_pb                                0\n",
       "rougher.output.tail_sol                               0\n",
       "primary_cleaner.input.sulfate                         0\n",
       "primary_cleaner.input.depressant                      0\n",
       "primary_cleaner.input.feed_size                       0\n",
       "primary_cleaner.input.xanthate                        0\n",
       "primary_cleaner.state.floatbank8_a_air                0\n",
       "primary_cleaner.state.floatbank8_a_level              0\n",
       "primary_cleaner.state.floatbank8_b_air                0\n",
       "primary_cleaner.state.floatbank8_b_level              0\n",
       "primary_cleaner.state.floatbank8_c_air                0\n",
       "primary_cleaner.state.floatbank8_c_level              0\n",
       "primary_cleaner.state.floatbank8_d_air                0\n",
       "primary_cleaner.state.floatbank8_d_level              0\n",
       "primary_cleaner.output.concentrate_au                 0\n",
       "primary_cleaner.output.concentrate_ag                 0\n",
       "primary_cleaner.output.concentrate_pb                 0\n",
       "primary_cleaner.output.concentrate_sol                0\n",
       "primary_cleaner.output.tail_au                        0\n",
       "primary_cleaner.output.tail_ag                        0\n",
       "primary_cleaner.output.tail_pb                        0\n",
       "primary_cleaner.output.tail_sol                       0\n",
       "secondary_cleaner.state.floatbank2_a_air              0\n",
       "secondary_cleaner.state.floatbank2_a_level            0\n",
       "secondary_cleaner.state.floatbank2_b_air              0\n",
       "secondary_cleaner.state.floatbank2_b_level            0\n",
       "secondary_cleaner.state.floatbank3_a_air              0\n",
       "secondary_cleaner.state.floatbank3_a_level            0\n",
       "secondary_cleaner.state.floatbank3_b_air              0\n",
       "secondary_cleaner.state.floatbank3_b_level            0\n",
       "secondary_cleaner.state.floatbank4_a_air              0\n",
       "secondary_cleaner.state.floatbank4_a_level            0\n",
       "secondary_cleaner.state.floatbank4_b_air              0\n",
       "secondary_cleaner.state.floatbank4_b_level            0\n",
       "secondary_cleaner.state.floatbank5_a_air              0\n",
       "secondary_cleaner.state.floatbank5_a_level            0\n",
       "secondary_cleaner.state.floatbank5_b_air              0\n",
       "secondary_cleaner.state.floatbank5_b_level            0\n",
       "secondary_cleaner.state.floatbank6_a_air              0\n",
       "secondary_cleaner.state.floatbank6_a_level            0\n",
       "secondary_cleaner.output.tail_au                      0\n",
       "secondary_cleaner.output.tail_ag                      0\n",
       "secondary_cleaner.output.tail_pb                      0\n",
       "secondary_cleaner.output.tail_sol                     0\n",
       "final.output.concentrate_au                           0\n",
       "final.output.concentrate_ag                           0\n",
       "final.output.concentrate_pb                           0\n",
       "final.output.concentrate_sol                          0\n",
       "final.output.recovery                                 0\n",
       "final.output.tail_au                                  0\n",
       "final.output.tail_ag                                  0\n",
       "final.output.tail_pb                                  0\n",
       "final.output.tail_sol                                 0\n",
       "dtype: int64"
      ]
     },
     "execution_count": 21,
     "metadata": {},
     "output_type": "execute_result"
    }
   ],
   "source": [
    "df_train.isna().sum()"
   ]
  },
  {
   "cell_type": "code",
   "execution_count": 22,
   "metadata": {
    "scrolled": true
   },
   "outputs": [
    {
     "data": {
      "text/plain": [
       "date                                          0\n",
       "rougher.input.feed_au                         0\n",
       "rougher.input.feed_ag                         0\n",
       "rougher.input.feed_pb                         0\n",
       "rougher.input.feed_sol                        0\n",
       "rougher.input.feed_rate                       0\n",
       "rougher.input.feed_size                       0\n",
       "rougher.input.floatbank10_sulfate             0\n",
       "rougher.input.floatbank10_xanthate            0\n",
       "rougher.state.floatbank10_a_air               0\n",
       "rougher.state.floatbank10_a_level             0\n",
       "rougher.state.floatbank10_b_air               0\n",
       "rougher.state.floatbank10_b_level             0\n",
       "rougher.state.floatbank10_c_air               0\n",
       "rougher.state.floatbank10_c_level             0\n",
       "rougher.state.floatbank10_d_air               0\n",
       "rougher.state.floatbank10_d_level             0\n",
       "rougher.state.floatbank10_e_air               0\n",
       "rougher.state.floatbank10_e_level             0\n",
       "rougher.state.floatbank10_f_air               0\n",
       "rougher.state.floatbank10_f_level             0\n",
       "rougher.input.floatbank11_sulfate             0\n",
       "rougher.input.floatbank11_xanthate            0\n",
       "primary_cleaner.input.sulfate                 0\n",
       "primary_cleaner.input.depressant              0\n",
       "primary_cleaner.input.feed_size               0\n",
       "primary_cleaner.input.xanthate                0\n",
       "primary_cleaner.state.floatbank8_a_air        0\n",
       "primary_cleaner.state.floatbank8_a_level      0\n",
       "primary_cleaner.state.floatbank8_b_air        0\n",
       "primary_cleaner.state.floatbank8_b_level      0\n",
       "primary_cleaner.state.floatbank8_c_air        0\n",
       "primary_cleaner.state.floatbank8_c_level      0\n",
       "primary_cleaner.state.floatbank8_d_air        0\n",
       "primary_cleaner.state.floatbank8_d_level      0\n",
       "secondary_cleaner.state.floatbank2_a_air      0\n",
       "secondary_cleaner.state.floatbank2_a_level    0\n",
       "secondary_cleaner.state.floatbank2_b_air      0\n",
       "secondary_cleaner.state.floatbank2_b_level    0\n",
       "secondary_cleaner.state.floatbank3_a_air      0\n",
       "secondary_cleaner.state.floatbank3_a_level    0\n",
       "secondary_cleaner.state.floatbank3_b_air      0\n",
       "secondary_cleaner.state.floatbank3_b_level    0\n",
       "secondary_cleaner.state.floatbank4_a_air      0\n",
       "secondary_cleaner.state.floatbank4_a_level    0\n",
       "secondary_cleaner.state.floatbank4_b_air      0\n",
       "secondary_cleaner.state.floatbank4_b_level    0\n",
       "secondary_cleaner.state.floatbank5_a_air      0\n",
       "secondary_cleaner.state.floatbank5_a_level    0\n",
       "secondary_cleaner.state.floatbank5_b_air      0\n",
       "secondary_cleaner.state.floatbank5_b_level    0\n",
       "secondary_cleaner.state.floatbank6_a_air      0\n",
       "secondary_cleaner.state.floatbank6_a_level    0\n",
       "dtype: int64"
      ]
     },
     "execution_count": 22,
     "metadata": {},
     "output_type": "execute_result"
    }
   ],
   "source": [
    "df_test.isna().sum()"
   ]
  },
  {
   "cell_type": "code",
   "execution_count": 23,
   "metadata": {
    "scrolled": true
   },
   "outputs": [
    {
     "data": {
      "text/plain": [
       "date                                                  0\n",
       "rougher.input.feed_au                                 0\n",
       "rougher.input.feed_ag                                 0\n",
       "rougher.input.feed_pb                                 0\n",
       "rougher.input.feed_sol                                0\n",
       "rougher.input.feed_rate                               0\n",
       "rougher.input.feed_size                               0\n",
       "rougher.input.floatbank10_sulfate                     0\n",
       "rougher.input.floatbank10_xanthate                    0\n",
       "rougher.state.floatbank10_a_air                       0\n",
       "rougher.state.floatbank10_a_level                     0\n",
       "rougher.state.floatbank10_b_air                       0\n",
       "rougher.state.floatbank10_b_level                     0\n",
       "rougher.state.floatbank10_c_air                       0\n",
       "rougher.state.floatbank10_c_level                     0\n",
       "rougher.state.floatbank10_d_air                       0\n",
       "rougher.state.floatbank10_d_level                     0\n",
       "rougher.state.floatbank10_e_air                       0\n",
       "rougher.state.floatbank10_e_level                     0\n",
       "rougher.state.floatbank10_f_air                       0\n",
       "rougher.state.floatbank10_f_level                     0\n",
       "rougher.input.floatbank11_sulfate                     0\n",
       "rougher.input.floatbank11_xanthate                    0\n",
       "rougher.calculation.sulfate_to_au_concentrate         0\n",
       "rougher.calculation.floatbank10_sulfate_to_au_feed    0\n",
       "rougher.calculation.floatbank11_sulfate_to_au_feed    0\n",
       "rougher.calculation.au_pb_ratio                       0\n",
       "rougher.output.concentrate_au                         0\n",
       "rougher.output.concentrate_ag                         0\n",
       "rougher.output.concentrate_pb                         0\n",
       "rougher.output.concentrate_sol                        0\n",
       "rougher.output.recovery                               0\n",
       "rougher.output.tail_au                                0\n",
       "rougher.output.tail_ag                                0\n",
       "rougher.output.tail_pb                                0\n",
       "rougher.output.tail_sol                               0\n",
       "primary_cleaner.input.sulfate                         0\n",
       "primary_cleaner.input.depressant                      0\n",
       "primary_cleaner.input.feed_size                       0\n",
       "primary_cleaner.input.xanthate                        0\n",
       "primary_cleaner.state.floatbank8_a_air                0\n",
       "primary_cleaner.state.floatbank8_a_level              0\n",
       "primary_cleaner.state.floatbank8_b_air                0\n",
       "primary_cleaner.state.floatbank8_b_level              0\n",
       "primary_cleaner.state.floatbank8_c_air                0\n",
       "primary_cleaner.state.floatbank8_c_level              0\n",
       "primary_cleaner.state.floatbank8_d_air                0\n",
       "primary_cleaner.state.floatbank8_d_level              0\n",
       "primary_cleaner.output.concentrate_au                 0\n",
       "primary_cleaner.output.concentrate_ag                 0\n",
       "primary_cleaner.output.concentrate_pb                 0\n",
       "primary_cleaner.output.concentrate_sol                0\n",
       "primary_cleaner.output.tail_au                        0\n",
       "primary_cleaner.output.tail_ag                        0\n",
       "primary_cleaner.output.tail_pb                        0\n",
       "primary_cleaner.output.tail_sol                       0\n",
       "secondary_cleaner.state.floatbank2_a_air              0\n",
       "secondary_cleaner.state.floatbank2_a_level            0\n",
       "secondary_cleaner.state.floatbank2_b_air              0\n",
       "secondary_cleaner.state.floatbank2_b_level            0\n",
       "secondary_cleaner.state.floatbank3_a_air              0\n",
       "secondary_cleaner.state.floatbank3_a_level            0\n",
       "secondary_cleaner.state.floatbank3_b_air              0\n",
       "secondary_cleaner.state.floatbank3_b_level            0\n",
       "secondary_cleaner.state.floatbank4_a_air              0\n",
       "secondary_cleaner.state.floatbank4_a_level            0\n",
       "secondary_cleaner.state.floatbank4_b_air              0\n",
       "secondary_cleaner.state.floatbank4_b_level            0\n",
       "secondary_cleaner.state.floatbank5_a_air              0\n",
       "secondary_cleaner.state.floatbank5_a_level            0\n",
       "secondary_cleaner.state.floatbank5_b_air              0\n",
       "secondary_cleaner.state.floatbank5_b_level            0\n",
       "secondary_cleaner.state.floatbank6_a_air              0\n",
       "secondary_cleaner.state.floatbank6_a_level            0\n",
       "secondary_cleaner.output.tail_au                      0\n",
       "secondary_cleaner.output.tail_ag                      0\n",
       "secondary_cleaner.output.tail_pb                      0\n",
       "secondary_cleaner.output.tail_sol                     0\n",
       "final.output.concentrate_au                           0\n",
       "final.output.concentrate_ag                           0\n",
       "final.output.concentrate_pb                           0\n",
       "final.output.concentrate_sol                          0\n",
       "final.output.recovery                                 0\n",
       "final.output.tail_au                                  0\n",
       "final.output.tail_ag                                  0\n",
       "final.output.tail_pb                                  0\n",
       "final.output.tail_sol                                 0\n",
       "dtype: int64"
      ]
     },
     "execution_count": 23,
     "metadata": {},
     "output_type": "execute_result"
    }
   ],
   "source": [
    "df_full.isna().sum()"
   ]
  },
  {
   "cell_type": "markdown",
   "metadata": {},
   "source": [
    "**Датасеты открыты и сохраненны. Дубликаты отсутствуют. Пропуски заполнены соседними значениями. Произведена проверка эффективности обогащения в тернировочном наборе данных, значение верное. В тестовом наборе данных отстутствуют значения выходных (output) и расчетных (calculation) характеристик процессов обогащения.**"
   ]
  },
  {
   "cell_type": "markdown",
   "metadata": {},
   "source": [
    "## Анализ данных"
   ]
  },
  {
   "cell_type": "markdown",
   "metadata": {},
   "source": [
    "### Концентрация металлов (Au, Ag, Pb) на различных этапах очистки"
   ]
  },
  {
   "cell_type": "markdown",
   "metadata": {},
   "source": [
    "Напишем функцию graph_metal(), которая по признакам концентрации металла построит гистограмму"
   ]
  },
  {
   "cell_type": "code",
   "execution_count": 24,
   "metadata": {},
   "outputs": [],
   "source": [
    "def graph_metal(feed, rougher, primary_cl, secondary_cl, metal):\n",
    "    \n",
    "    plt.figure(figsize=(12, 6))\n",
    "    \n",
    "    plt.hist(feed, bins=200, label='rougher.input', density=True, facecolor='g', alpha=0.55)\n",
    "    plt.hist(rougher, bins=200, label='rougher.output', density=True, facecolor='r', alpha=0.55)\n",
    "    plt.hist(primary_cl, bins=200, label='primary_cleaner.output', density=True, facecolor='b', alpha=0.55)\n",
    "    plt.hist(secondary_cl, bins=200, label='final.output', density=True, facecolor='y', alpha=0.55)\n",
    "    \n",
    "    plt.xlabel('Концентрация')\n",
    "    plt.ylabel('Количество')\n",
    "    plt.title(f'Концентрация {metal} на различных этапах очистки')\n",
    "    \n",
    "    plt.legend()\n",
    "    plt.grid(True)\n",
    "    \n",
    "    plt.show()"
   ]
  },
  {
   "cell_type": "markdown",
   "metadata": {},
   "source": [
    "#### Au"
   ]
  },
  {
   "cell_type": "code",
   "execution_count": 25,
   "metadata": {},
   "outputs": [
    {
     "data": {
      "image/png": "[encoded data removed]",
      "text/plain": [
       "<Figure size 1200x600 with 1 Axes>"
      ]
     },
     "metadata": {},
     "output_type": "display_data"
    }
   ],
   "source": [
    "graph_metal(df_full['rougher.input.feed_au'], \n",
    "            df_full['rougher.output.concentrate_au'], \n",
    "            df_full['primary_cleaner.output.concentrate_au'], \n",
    "            df_full['final.output.concentrate_au'],\n",
    "           'Au')"
   ]
  },
  {
   "cell_type": "markdown",
   "metadata": {},
   "source": [
    "Наблюдается увеличение концентрации золото с каждым последующим этапом очистки."
   ]
  },
  {
   "cell_type": "markdown",
   "metadata": {},
   "source": [
    "#### Ag"
   ]
  },
  {
   "cell_type": "code",
   "execution_count": 26,
   "metadata": {},
   "outputs": [
    {
     "data": {
      "image/png": "[encoded data removed]",
      "text/plain": [
       "<Figure size 1200x600 with 1 Axes>"
      ]
     },
     "metadata": {},
     "output_type": "display_data"
    }
   ],
   "source": [
    "graph_metal(df_full['rougher.input.feed_ag'], \n",
    "            df_full['rougher.output.concentrate_ag'], \n",
    "            df_full['primary_cleaner.output.concentrate_ag'], \n",
    "            df_full['final.output.concentrate_ag'], \n",
    "            'Ag')"
   ]
  },
  {
   "cell_type": "markdown",
   "metadata": {},
   "source": [
    "На этапе флотации наблюдается увеличение концентрации серебра, далее две последующих очистки приводят к снижению содержания серебра."
   ]
  },
  {
   "cell_type": "markdown",
   "metadata": {},
   "source": [
    "#### Pb"
   ]
  },
  {
   "cell_type": "code",
   "execution_count": 27,
   "metadata": {},
   "outputs": [
    {
     "data": {
      "image/png": "[encoded data removed]",
      "text/plain": [
       "<Figure size 1200x600 with 1 Axes>"
      ]
     },
     "metadata": {},
     "output_type": "display_data"
    }
   ],
   "source": [
    "graph_metal(df_full['rougher.input.feed_pb'], \n",
    "            df_full['rougher.output.concentrate_pb'], \n",
    "            df_full['primary_cleaner.output.concentrate_pb'], \n",
    "            df_full['final.output.concentrate_pb'],\n",
    "            'Pb')"
   ]
  },
  {
   "cell_type": "markdown",
   "metadata": {},
   "source": [
    "Концентрация свинца увеличивается с каждым этапам очистки."
   ]
  },
  {
   "cell_type": "markdown",
   "metadata": {},
   "source": [
    "**Видно, что золото растёт в концентрации - это здорово!) А серебро падает - ведь наша цель - золото, верно?) А свинец - это побочный элемент химических реакций, по этой причине немного и увеличивается его концентрация.**"
   ]
  },
  {
   "cell_type": "markdown",
   "metadata": {},
   "source": [
    "### Cуммарная концентрация всех веществ на разных стадиях: в сырье, в черновом и финальном концентратах"
   ]
  },
  {
   "cell_type": "code",
   "execution_count": 28,
   "metadata": {},
   "outputs": [
    {
     "data": {
      "image/png": "[encoded data removed]",
      "text/plain": [
       "<Figure size 1200x600 with 1 Axes>"
      ]
     },
     "metadata": {},
     "output_type": "display_data"
    }
   ],
   "source": [
    "graph_metal(df_full[['rougher.input.feed_au', \n",
    "                     'rougher.input.feed_ag',\n",
    "                     'rougher.input.feed_pb',\n",
    "                     'rougher.input.feed_sol']].sum(axis=1), \n",
    "            df_full[['rougher.output.concentrate_au',\n",
    "                     'rougher.output.concentrate_ag',\n",
    "                     'rougher.output.concentrate_pb',\n",
    "                     'rougher.output.concentrate_sol']].sum(axis=1), \n",
    "            df_full[['primary_cleaner.output.concentrate_au',\n",
    "                     'primary_cleaner.output.concentrate_ag',\n",
    "                     'primary_cleaner.output.concentrate_pb',\n",
    "                     'primary_cleaner.output.concentrate_sol']].sum(axis=1), \n",
    "            df_full[['final.output.concentrate_au',\n",
    "                     'final.output.concentrate_ag',\n",
    "                     'final.output.concentrate_pb',\n",
    "                     'final.output.concentrate_sol']].sum(axis=1), 'всех металлов')"
   ]
  },
  {
   "cell_type": "markdown",
   "metadata": {},
   "source": [
    "На гистограммах распределений суммарных концентраций имеются аномалии, и эти аномалии важно удалить по всем типам суммарных концентраций на обучающей выборке. Ведь отдельно по каждому веществу они могут быть (не всегда же есть крупинки золота в руде), а вот суммарно - вряд ли (в руде хоть что-то но будет). А если мы имеем аномалии, значит большая вероятность неточности в измерениях. "
   ]
  },
  {
   "cell_type": "code",
   "execution_count": 29,
   "metadata": {},
   "outputs": [
    {
     "data": {
      "text/plain": [
       "(14579, 87)"
      ]
     },
     "execution_count": 29,
     "metadata": {},
     "output_type": "execute_result"
    }
   ],
   "source": [
    "df_train.shape"
   ]
  },
  {
   "cell_type": "markdown",
   "metadata": {},
   "source": [
    "Удалим в тренировочном датасете строки в которых суммарная концентрация металлов меньше 1. "
   ]
  },
  {
   "cell_type": "code",
   "execution_count": 30,
   "metadata": {},
   "outputs": [],
   "source": [
    "for i in ['rougher.input.feed_',\n",
    "          'rougher.output.concentrate_',\n",
    "          'primary_cleaner.output.concentrate_',\n",
    "          'final.output.concentrate_']:\n",
    "    df_train = df_train.loc[df_train[[i + 'au', i + 'ag', i + 'pb', i + 'sol']].sum(axis=1) > 1]"
   ]
  },
  {
   "cell_type": "code",
   "execution_count": 31,
   "metadata": {},
   "outputs": [
    {
     "data": {
      "text/plain": [
       "(13883, 87)"
      ]
     },
     "execution_count": 31,
     "metadata": {},
     "output_type": "execute_result"
    }
   ],
   "source": [
    "df_train.shape"
   ]
  },
  {
   "cell_type": "code",
   "execution_count": 32,
   "metadata": {},
   "outputs": [
    {
     "data": {
      "image/png": "[encoded data removed]",
      "text/plain": [
       "<Figure size 1200x600 with 1 Axes>"
      ]
     },
     "metadata": {},
     "output_type": "display_data"
    }
   ],
   "source": [
    "graph_metal(df_train[['rougher.input.feed_au', \n",
    "                      'rougher.input.feed_ag',\n",
    "                      'rougher.input.feed_pb',\n",
    "                      'rougher.input.feed_sol']].sum(axis=1), \n",
    "            df_train[['rougher.output.concentrate_au',\n",
    "                      'rougher.output.concentrate_ag',\n",
    "                      'rougher.output.concentrate_pb',\n",
    "                      'rougher.output.concentrate_sol']].sum(axis=1), \n",
    "            df_train[['primary_cleaner.output.concentrate_au',\n",
    "                      'primary_cleaner.output.concentrate_ag',\n",
    "                      'primary_cleaner.output.concentrate_pb',\n",
    "                      'primary_cleaner.output.concentrate_sol']].sum(axis=1), \n",
    "            df_train[['final.output.concentrate_au',\n",
    "                      'final.output.concentrate_ag',\n",
    "                      'final.output.concentrate_pb',\n",
    "                      'final.output.concentrate_sol']].sum(axis=1), 'всех металлов тренировочной выборки')"
   ]
  },
  {
   "cell_type": "markdown",
   "metadata": {},
   "source": [
    "### Распределение размеров гранул сырья на обучающей и тестовой выборках"
   ]
  },
  {
   "cell_type": "markdown",
   "metadata": {},
   "source": [
    "При помощи графика плотности, используя метод sns.kdeplot, сравним распределение размеров исходного сырья на обучающей и тестовой выборке"
   ]
  },
  {
   "cell_type": "code",
   "execution_count": 33,
   "metadata": {},
   "outputs": [
    {
     "data": {
      "image/png": "[encoded data removed]",
      "text/plain": [
       "<Figure size 640x480 with 1 Axes>"
      ]
     },
     "metadata": {},
     "output_type": "display_data"
    }
   ],
   "source": [
    "for i in ['df_test', 'df_train']:\n",
    "    sns.kdeplot(locals().get(i)['rougher.input.feed_size'], label=i[3:], fill=True, alpha=.2, linewidth=1)\n",
    "plt.legend()\n",
    "plt.title('Распределение размеров гранул сырья в обучающей и тестововой выборках') \n",
    "plt.ylabel('Доля') \n",
    "plt.xlabel('Размер гранул')\n",
    "plt.grid();"
   ]
  },
  {
   "cell_type": "markdown",
   "metadata": {},
   "source": [
    "Распределение размеров гранул сырья в тестовой и обучающей выборке совпадают.Также наблюдается большое количество выбросов."
   ]
  },
  {
   "cell_type": "markdown",
   "metadata": {},
   "source": [
    "**Гистограммы распределения показывают рост концентрации золота на каждом этапе очистки. Сребро и свинец также меняют концентрацию, являются побочным продуктом, главная цель - золото. На гистограммах суммарной концентрации веществ обнаружены нулевые значения, что для концентрации отдельно каждого элемента возможно, но для суммарного вряд ли. Данные с суммарной концентрацией равной нулю удалены в тренировчном датасете. Размер гранул сырья в обучающем и тестовом наборе данных совпадает.**  "
   ]
  },
  {
   "cell_type": "markdown",
   "metadata": {},
   "source": [
    "## Модель"
   ]
  },
  {
   "cell_type": "markdown",
   "metadata": {},
   "source": [
    "### Функция для вычисления итоговой sMAPE"
   ]
  },
  {
   "cell_type": "markdown",
   "metadata": {},
   "source": [
    "Напишем функцию smape_1() для вычесления sMAPE после флотации и второй очистки и функцию smape_total для итоговой sMAPE."
   ]
  },
  {
   "cell_type": "markdown",
   "metadata": {},
   "source": [
    "![Image.png](https://pictures.s3.yandex.net/resources/smape_1576239058.jpg)"
   ]
  },
  {
   "cell_type": "markdown",
   "metadata": {},
   "source": [
    "![Image.png](https://pictures.s3.yandex.net/resources/_smape_1576239054.jpg)"
   ]
  },
  {
   "cell_type": "code",
   "execution_count": 34,
   "metadata": {},
   "outputs": [],
   "source": [
    "def smape_1(target, predict):\n",
    "    smape = abs(target - predict) * 2 / (abs(target) + abs(predict))\n",
    "    return smape.mean() * 100\n",
    "\n",
    "def smape_total(rougher, final):\n",
    "    return rougher * 0.25 + final * 0.75"
   ]
  },
  {
   "cell_type": "markdown",
   "metadata": {},
   "source": [
    "### Подбор модели."
   ]
  },
  {
   "cell_type": "markdown",
   "metadata": {},
   "source": [
    "#### Выборки Test и Train"
   ]
  },
  {
   "cell_type": "markdown",
   "metadata": {},
   "source": [
    "Удалим в тренировочном датасете признаки отсутствующие в тестовом"
   ]
  },
  {
   "cell_type": "code",
   "execution_count": 35,
   "metadata": {},
   "outputs": [],
   "source": [
    "df_train = df_train.drop(['final.output.concentrate_ag',\n",
    "                          'final.output.concentrate_au',\n",
    "                          'final.output.concentrate_pb',\n",
    "                          'final.output.concentrate_sol',\n",
    "                          'final.output.tail_ag',\n",
    "                          'final.output.tail_au',\n",
    "                          'final.output.tail_pb',\n",
    "                          'final.output.tail_sol',\n",
    "                          'primary_cleaner.output.concentrate_ag',\n",
    "                          'primary_cleaner.output.concentrate_au',\n",
    "                          'primary_cleaner.output.concentrate_pb',\n",
    "                          'primary_cleaner.output.concentrate_sol',\n",
    "                          'primary_cleaner.output.tail_ag',\n",
    "                          'primary_cleaner.output.tail_au',\n",
    "                          'primary_cleaner.output.tail_pb',\n",
    "                          'primary_cleaner.output.tail_sol',\n",
    "                          'rougher.calculation.au_pb_ratio',\n",
    "                          'rougher.calculation.floatbank10_sulfate_to_au_feed',\n",
    "                          'rougher.calculation.floatbank11_sulfate_to_au_feed',\n",
    "                          'rougher.calculation.sulfate_to_au_concentrate',\n",
    "                          'rougher.output.concentrate_ag',\n",
    "                          'rougher.output.concentrate_au',\n",
    "                          'rougher.output.concentrate_pb',\n",
    "                          'rougher.output.concentrate_sol',\n",
    "                          'rougher.output.tail_ag',\n",
    "                          'rougher.output.tail_au',\n",
    "                          'rougher.output.tail_pb',\n",
    "                          'rougher.output.tail_sol',\n",
    "                          'secondary_cleaner.output.tail_ag',\n",
    "                          'secondary_cleaner.output.tail_au',\n",
    "                          'secondary_cleaner.output.tail_pb',\n",
    "                          'secondary_cleaner.output.tail_sol'], axis=1)"
   ]
  },
  {
   "cell_type": "code",
   "execution_count": 36,
   "metadata": {},
   "outputs": [
    {
     "data": {
      "text/plain": [
       "(13883, 55)"
      ]
     },
     "execution_count": 36,
     "metadata": {},
     "output_type": "execute_result"
    }
   ],
   "source": [
    "df_train.shape"
   ]
  },
  {
   "cell_type": "markdown",
   "metadata": {},
   "source": [
    "Выделим целевой признак в отдельные датасеты."
   ]
  },
  {
   "cell_type": "code",
   "execution_count": 37,
   "metadata": {
    "scrolled": true
   },
   "outputs": [
    {
     "data": {
      "text/plain": [
       "Index(['date', 'rougher.input.feed_au', 'rougher.input.feed_ag',\n",
       "       'rougher.input.feed_pb', 'rougher.input.feed_sol',\n",
       "       'rougher.input.feed_rate', 'rougher.input.feed_size',\n",
       "       'rougher.input.floatbank10_sulfate',\n",
       "       'rougher.input.floatbank10_xanthate', 'rougher.state.floatbank10_a_air',\n",
       "       'rougher.state.floatbank10_a_level', 'rougher.state.floatbank10_b_air',\n",
       "       'rougher.state.floatbank10_b_level', 'rougher.state.floatbank10_c_air',\n",
       "       'rougher.state.floatbank10_c_level', 'rougher.state.floatbank10_d_air',\n",
       "       'rougher.state.floatbank10_d_level', 'rougher.state.floatbank10_e_air',\n",
       "       'rougher.state.floatbank10_e_level', 'rougher.state.floatbank10_f_air',\n",
       "       'rougher.state.floatbank10_f_level',\n",
       "       'rougher.input.floatbank11_sulfate',\n",
       "       'rougher.input.floatbank11_xanthate', 'rougher.output.recovery',\n",
       "       'primary_cleaner.input.sulfate', 'primary_cleaner.input.depressant',\n",
       "       'primary_cleaner.input.feed_size', 'primary_cleaner.input.xanthate',\n",
       "       'primary_cleaner.state.floatbank8_a_air',\n",
       "       'primary_cleaner.state.floatbank8_a_level',\n",
       "       'primary_cleaner.state.floatbank8_b_air',\n",
       "       'primary_cleaner.state.floatbank8_b_level',\n",
       "       'primary_cleaner.state.floatbank8_c_air',\n",
       "       'primary_cleaner.state.floatbank8_c_level',\n",
       "       'primary_cleaner.state.floatbank8_d_air',\n",
       "       'primary_cleaner.state.floatbank8_d_level',\n",
       "       'secondary_cleaner.state.floatbank2_a_air',\n",
       "       'secondary_cleaner.state.floatbank2_a_level',\n",
       "       'secondary_cleaner.state.floatbank2_b_air',\n",
       "       'secondary_cleaner.state.floatbank2_b_level',\n",
       "       'secondary_cleaner.state.floatbank3_a_air',\n",
       "       'secondary_cleaner.state.floatbank3_a_level',\n",
       "       'secondary_cleaner.state.floatbank3_b_air',\n",
       "       'secondary_cleaner.state.floatbank3_b_level',\n",
       "       'secondary_cleaner.state.floatbank4_a_air',\n",
       "       'secondary_cleaner.state.floatbank4_a_level',\n",
       "       'secondary_cleaner.state.floatbank4_b_air',\n",
       "       'secondary_cleaner.state.floatbank4_b_level',\n",
       "       'secondary_cleaner.state.floatbank5_a_air',\n",
       "       'secondary_cleaner.state.floatbank5_a_level',\n",
       "       'secondary_cleaner.state.floatbank5_b_air',\n",
       "       'secondary_cleaner.state.floatbank5_b_level',\n",
       "       'secondary_cleaner.state.floatbank6_a_air',\n",
       "       'secondary_cleaner.state.floatbank6_a_level', 'final.output.recovery'],\n",
       "      dtype='object')"
      ]
     },
     "execution_count": 37,
     "metadata": {},
     "output_type": "execute_result"
    }
   ],
   "source": [
    "df_train.columns"
   ]
  },
  {
   "cell_type": "code",
   "execution_count": 38,
   "metadata": {},
   "outputs": [],
   "source": [
    "features_rougher = [col for col in df_train.columns if 'rougher' in col and 'recovery' not in col]"
   ]
  },
  {
   "cell_type": "markdown",
   "metadata": {},
   "source": [
    "Обучающие выборки"
   ]
  },
  {
   "cell_type": "code",
   "execution_count": 39,
   "metadata": {},
   "outputs": [
    {
     "data": {
      "text/plain": [
       "[(13883, 22), (13883,)]"
      ]
     },
     "execution_count": 39,
     "metadata": {},
     "output_type": "execute_result"
    }
   ],
   "source": [
    "X_train_rougher = df_train[features_rougher]\n",
    "y_train_rougher = df_train['rougher.output.recovery']\n",
    "[i.shape for i in (X_train_rougher, y_train_rougher)]"
   ]
  },
  {
   "cell_type": "code",
   "execution_count": 40,
   "metadata": {},
   "outputs": [],
   "source": [
    "features_final = [col for col in df_train.columns if 'date' not in col and 'recovery' not in col]"
   ]
  },
  {
   "cell_type": "code",
   "execution_count": 41,
   "metadata": {},
   "outputs": [
    {
     "data": {
      "text/plain": [
       "[(13883, 52), (13883,)]"
      ]
     },
     "execution_count": 41,
     "metadata": {},
     "output_type": "execute_result"
    }
   ],
   "source": [
    "X_train_final = df_train[features_final]\n",
    "y_train_final = df_train['final.output.recovery']\n",
    "[i.shape for i in (X_train_final, y_train_final)]"
   ]
  },
  {
   "cell_type": "markdown",
   "metadata": {},
   "source": [
    "Тестовая выборка"
   ]
  },
  {
   "cell_type": "code",
   "execution_count": 42,
   "metadata": {
    "scrolled": true
   },
   "outputs": [
    {
     "data": {
      "text/plain": [
       "Index(['date', 'rougher.input.feed_au', 'rougher.input.feed_ag',\n",
       "       'rougher.input.feed_pb', 'rougher.input.feed_sol',\n",
       "       'rougher.input.feed_rate', 'rougher.input.feed_size',\n",
       "       'rougher.input.floatbank10_sulfate',\n",
       "       'rougher.input.floatbank10_xanthate', 'rougher.state.floatbank10_a_air',\n",
       "       'rougher.state.floatbank10_a_level', 'rougher.state.floatbank10_b_air',\n",
       "       'rougher.state.floatbank10_b_level', 'rougher.state.floatbank10_c_air',\n",
       "       'rougher.state.floatbank10_c_level', 'rougher.state.floatbank10_d_air',\n",
       "       'rougher.state.floatbank10_d_level', 'rougher.state.floatbank10_e_air',\n",
       "       'rougher.state.floatbank10_e_level', 'rougher.state.floatbank10_f_air',\n",
       "       'rougher.state.floatbank10_f_level',\n",
       "       'rougher.input.floatbank11_sulfate',\n",
       "       'rougher.input.floatbank11_xanthate', 'primary_cleaner.input.sulfate',\n",
       "       'primary_cleaner.input.depressant', 'primary_cleaner.input.feed_size',\n",
       "       'primary_cleaner.input.xanthate',\n",
       "       'primary_cleaner.state.floatbank8_a_air',\n",
       "       'primary_cleaner.state.floatbank8_a_level',\n",
       "       'primary_cleaner.state.floatbank8_b_air',\n",
       "       'primary_cleaner.state.floatbank8_b_level',\n",
       "       'primary_cleaner.state.floatbank8_c_air',\n",
       "       'primary_cleaner.state.floatbank8_c_level',\n",
       "       'primary_cleaner.state.floatbank8_d_air',\n",
       "       'primary_cleaner.state.floatbank8_d_level',\n",
       "       'secondary_cleaner.state.floatbank2_a_air',\n",
       "       'secondary_cleaner.state.floatbank2_a_level',\n",
       "       'secondary_cleaner.state.floatbank2_b_air',\n",
       "       'secondary_cleaner.state.floatbank2_b_level',\n",
       "       'secondary_cleaner.state.floatbank3_a_air',\n",
       "       'secondary_cleaner.state.floatbank3_a_level',\n",
       "       'secondary_cleaner.state.floatbank3_b_air',\n",
       "       'secondary_cleaner.state.floatbank3_b_level',\n",
       "       'secondary_cleaner.state.floatbank4_a_air',\n",
       "       'secondary_cleaner.state.floatbank4_a_level',\n",
       "       'secondary_cleaner.state.floatbank4_b_air',\n",
       "       'secondary_cleaner.state.floatbank4_b_level',\n",
       "       'secondary_cleaner.state.floatbank5_a_air',\n",
       "       'secondary_cleaner.state.floatbank5_a_level',\n",
       "       'secondary_cleaner.state.floatbank5_b_air',\n",
       "       'secondary_cleaner.state.floatbank5_b_level',\n",
       "       'secondary_cleaner.state.floatbank6_a_air',\n",
       "       'secondary_cleaner.state.floatbank6_a_level'],\n",
       "      dtype='object')"
      ]
     },
     "execution_count": 42,
     "metadata": {},
     "output_type": "execute_result"
    }
   ],
   "source": [
    "df_test.columns"
   ]
  },
  {
   "cell_type": "code",
   "execution_count": 43,
   "metadata": {
    "scrolled": true
   },
   "outputs": [
    {
     "data": {
      "text/plain": [
       "Index(['date', 'rougher.input.feed_au', 'rougher.input.feed_ag',\n",
       "       'rougher.input.feed_pb', 'rougher.input.feed_sol',\n",
       "       'rougher.input.feed_rate', 'rougher.input.feed_size',\n",
       "       'rougher.input.floatbank10_sulfate',\n",
       "       'rougher.input.floatbank10_xanthate', 'rougher.state.floatbank10_a_air',\n",
       "       'rougher.state.floatbank10_a_level', 'rougher.state.floatbank10_b_air',\n",
       "       'rougher.state.floatbank10_b_level', 'rougher.state.floatbank10_c_air',\n",
       "       'rougher.state.floatbank10_c_level', 'rougher.state.floatbank10_d_air',\n",
       "       'rougher.state.floatbank10_d_level', 'rougher.state.floatbank10_e_air',\n",
       "       'rougher.state.floatbank10_e_level', 'rougher.state.floatbank10_f_air',\n",
       "       'rougher.state.floatbank10_f_level',\n",
       "       'rougher.input.floatbank11_sulfate',\n",
       "       'rougher.input.floatbank11_xanthate', 'primary_cleaner.input.sulfate',\n",
       "       'primary_cleaner.input.depressant', 'primary_cleaner.input.feed_size',\n",
       "       'primary_cleaner.input.xanthate',\n",
       "       'primary_cleaner.state.floatbank8_a_air',\n",
       "       'primary_cleaner.state.floatbank8_a_level',\n",
       "       'primary_cleaner.state.floatbank8_b_air',\n",
       "       'primary_cleaner.state.floatbank8_b_level',\n",
       "       'primary_cleaner.state.floatbank8_c_air',\n",
       "       'primary_cleaner.state.floatbank8_c_level',\n",
       "       'primary_cleaner.state.floatbank8_d_air',\n",
       "       'primary_cleaner.state.floatbank8_d_level',\n",
       "       'secondary_cleaner.state.floatbank2_a_air',\n",
       "       'secondary_cleaner.state.floatbank2_a_level',\n",
       "       'secondary_cleaner.state.floatbank2_b_air',\n",
       "       'secondary_cleaner.state.floatbank2_b_level',\n",
       "       'secondary_cleaner.state.floatbank3_a_air',\n",
       "       'secondary_cleaner.state.floatbank3_a_level',\n",
       "       'secondary_cleaner.state.floatbank3_b_air',\n",
       "       'secondary_cleaner.state.floatbank3_b_level',\n",
       "       'secondary_cleaner.state.floatbank4_a_air',\n",
       "       'secondary_cleaner.state.floatbank4_a_level',\n",
       "       'secondary_cleaner.state.floatbank4_b_air',\n",
       "       'secondary_cleaner.state.floatbank4_b_level',\n",
       "       'secondary_cleaner.state.floatbank5_a_air',\n",
       "       'secondary_cleaner.state.floatbank5_a_level',\n",
       "       'secondary_cleaner.state.floatbank5_b_air',\n",
       "       'secondary_cleaner.state.floatbank5_b_level',\n",
       "       'secondary_cleaner.state.floatbank6_a_air',\n",
       "       'secondary_cleaner.state.floatbank6_a_level',\n",
       "       'rougher.output.recovery'],\n",
       "      dtype='object')"
      ]
     },
     "execution_count": 43,
     "metadata": {},
     "output_type": "execute_result"
    }
   ],
   "source": [
    "df_test = df_test.merge(df_full[['date', 'rougher.output.recovery']], on='date')\n",
    "df_test.columns"
   ]
  },
  {
   "cell_type": "code",
   "execution_count": 44,
   "metadata": {},
   "outputs": [],
   "source": [
    "df_test = df_test.merge(df_full[['date', 'final.output.recovery']], on='date')"
   ]
  },
  {
   "cell_type": "code",
   "execution_count": 45,
   "metadata": {},
   "outputs": [
    {
     "data": {
      "text/html": [
       "<div>\n",
       "<style scoped>\n",
       "    .dataframe tbody tr th:only-of-type {\n",
       "        vertical-align: middle;\n",
       "    }\n",
       "\n",
       "    .dataframe tbody tr th {\n",
       "        vertical-align: top;\n",
       "    }\n",
       "\n",
       "    .dataframe thead th {\n",
       "        text-align: right;\n",
       "    }\n",
       "</style>\n",
       "<table border=\"1\" class=\"dataframe\">\n",
       "  <thead>\n",
       "    <tr style=\"text-align: right;\">\n",
       "      <th></th>\n",
       "      <th>date</th>\n",
       "      <th>rougher.input.feed_au</th>\n",
       "      <th>rougher.input.feed_ag</th>\n",
       "      <th>rougher.input.feed_pb</th>\n",
       "      <th>rougher.input.feed_sol</th>\n",
       "      <th>rougher.input.feed_rate</th>\n",
       "      <th>rougher.input.feed_size</th>\n",
       "      <th>rougher.input.floatbank10_sulfate</th>\n",
       "      <th>rougher.input.floatbank10_xanthate</th>\n",
       "      <th>rougher.state.floatbank10_a_air</th>\n",
       "      <th>rougher.state.floatbank10_a_level</th>\n",
       "      <th>rougher.state.floatbank10_b_air</th>\n",
       "      <th>rougher.state.floatbank10_b_level</th>\n",
       "      <th>rougher.state.floatbank10_c_air</th>\n",
       "      <th>rougher.state.floatbank10_c_level</th>\n",
       "      <th>rougher.state.floatbank10_d_air</th>\n",
       "      <th>rougher.state.floatbank10_d_level</th>\n",
       "      <th>rougher.state.floatbank10_e_air</th>\n",
       "      <th>rougher.state.floatbank10_e_level</th>\n",
       "      <th>rougher.state.floatbank10_f_air</th>\n",
       "      <th>rougher.state.floatbank10_f_level</th>\n",
       "      <th>rougher.input.floatbank11_sulfate</th>\n",
       "      <th>rougher.input.floatbank11_xanthate</th>\n",
       "      <th>primary_cleaner.input.sulfate</th>\n",
       "      <th>primary_cleaner.input.depressant</th>\n",
       "      <th>primary_cleaner.input.feed_size</th>\n",
       "      <th>primary_cleaner.input.xanthate</th>\n",
       "      <th>primary_cleaner.state.floatbank8_a_air</th>\n",
       "      <th>primary_cleaner.state.floatbank8_a_level</th>\n",
       "      <th>primary_cleaner.state.floatbank8_b_air</th>\n",
       "      <th>primary_cleaner.state.floatbank8_b_level</th>\n",
       "      <th>primary_cleaner.state.floatbank8_c_air</th>\n",
       "      <th>primary_cleaner.state.floatbank8_c_level</th>\n",
       "      <th>primary_cleaner.state.floatbank8_d_air</th>\n",
       "      <th>primary_cleaner.state.floatbank8_d_level</th>\n",
       "      <th>secondary_cleaner.state.floatbank2_a_air</th>\n",
       "      <th>secondary_cleaner.state.floatbank2_a_level</th>\n",
       "      <th>secondary_cleaner.state.floatbank2_b_air</th>\n",
       "      <th>secondary_cleaner.state.floatbank2_b_level</th>\n",
       "      <th>secondary_cleaner.state.floatbank3_a_air</th>\n",
       "      <th>secondary_cleaner.state.floatbank3_a_level</th>\n",
       "      <th>secondary_cleaner.state.floatbank3_b_air</th>\n",
       "      <th>secondary_cleaner.state.floatbank3_b_level</th>\n",
       "      <th>secondary_cleaner.state.floatbank4_a_air</th>\n",
       "      <th>secondary_cleaner.state.floatbank4_a_level</th>\n",
       "      <th>secondary_cleaner.state.floatbank4_b_air</th>\n",
       "      <th>secondary_cleaner.state.floatbank4_b_level</th>\n",
       "      <th>secondary_cleaner.state.floatbank5_a_air</th>\n",
       "      <th>secondary_cleaner.state.floatbank5_a_level</th>\n",
       "      <th>secondary_cleaner.state.floatbank5_b_air</th>\n",
       "      <th>secondary_cleaner.state.floatbank5_b_level</th>\n",
       "      <th>secondary_cleaner.state.floatbank6_a_air</th>\n",
       "      <th>secondary_cleaner.state.floatbank6_a_level</th>\n",
       "      <th>rougher.output.recovery</th>\n",
       "      <th>final.output.recovery</th>\n",
       "    </tr>\n",
       "  </thead>\n",
       "  <tbody>\n",
       "    <tr>\n",
       "      <th>0</th>\n",
       "      <td>2017-12-09 14:59:59</td>\n",
       "      <td>4.365491</td>\n",
       "      <td>6.158718</td>\n",
       "      <td>3.875727</td>\n",
       "      <td>39.135119</td>\n",
       "      <td>555.820208</td>\n",
       "      <td>94.544358</td>\n",
       "      <td>6.146982</td>\n",
       "      <td>9.308612</td>\n",
       "      <td>1196.238112</td>\n",
       "      <td>-299.862743</td>\n",
       "      <td>1147.248241</td>\n",
       "      <td>-500.363165</td>\n",
       "      <td>1047.279065</td>\n",
       "      <td>-500.354091</td>\n",
       "      <td>948.756608</td>\n",
       "      <td>-498.439416</td>\n",
       "      <td>849.441918</td>\n",
       "      <td>-499.255503</td>\n",
       "      <td>850.112246</td>\n",
       "      <td>-499.407112</td>\n",
       "      <td>6.168939</td>\n",
       "      <td>9.309852</td>\n",
       "      <td>95.248427</td>\n",
       "      <td>8.078957</td>\n",
       "      <td>6.500000</td>\n",
       "      <td>1.283045</td>\n",
       "      <td>1648.759906</td>\n",
       "      <td>-399.862053</td>\n",
       "      <td>1650.135395</td>\n",
       "      <td>-399.957321</td>\n",
       "      <td>1648.831890</td>\n",
       "      <td>-400.586116</td>\n",
       "      <td>1649.464582</td>\n",
       "      <td>-400.673303</td>\n",
       "      <td>34.940919</td>\n",
       "      <td>-500.150510</td>\n",
       "      <td>30.031867</td>\n",
       "      <td>-500.328335</td>\n",
       "      <td>26.033990</td>\n",
       "      <td>-500.147792</td>\n",
       "      <td>22.952306</td>\n",
       "      <td>-500.037678</td>\n",
       "      <td>23.018622</td>\n",
       "      <td>-500.492702</td>\n",
       "      <td>20.020205</td>\n",
       "      <td>-500.220296</td>\n",
       "      <td>17.963512</td>\n",
       "      <td>-499.939490</td>\n",
       "      <td>12.990306</td>\n",
       "      <td>-500.080993</td>\n",
       "      <td>19.990336</td>\n",
       "      <td>-499.191575</td>\n",
       "      <td>89.514960</td>\n",
       "      <td>70.281454</td>\n",
       "    </tr>\n",
       "    <tr>\n",
       "      <th>1</th>\n",
       "      <td>2017-12-09 15:59:59</td>\n",
       "      <td>4.362781</td>\n",
       "      <td>6.048130</td>\n",
       "      <td>3.902537</td>\n",
       "      <td>39.713906</td>\n",
       "      <td>544.731687</td>\n",
       "      <td>123.742430</td>\n",
       "      <td>6.210119</td>\n",
       "      <td>9.297709</td>\n",
       "      <td>1201.904177</td>\n",
       "      <td>-299.907308</td>\n",
       "      <td>1154.087804</td>\n",
       "      <td>-500.036580</td>\n",
       "      <td>1054.009756</td>\n",
       "      <td>-500.237335</td>\n",
       "      <td>944.138793</td>\n",
       "      <td>-496.866953</td>\n",
       "      <td>851.589767</td>\n",
       "      <td>-499.040466</td>\n",
       "      <td>851.345606</td>\n",
       "      <td>-499.122561</td>\n",
       "      <td>6.209517</td>\n",
       "      <td>9.297194</td>\n",
       "      <td>98.880538</td>\n",
       "      <td>7.984164</td>\n",
       "      <td>6.500000</td>\n",
       "      <td>1.241969</td>\n",
       "      <td>1646.547763</td>\n",
       "      <td>-398.977083</td>\n",
       "      <td>1648.212240</td>\n",
       "      <td>-400.383265</td>\n",
       "      <td>1648.917387</td>\n",
       "      <td>-399.521344</td>\n",
       "      <td>1651.498591</td>\n",
       "      <td>-399.745329</td>\n",
       "      <td>34.980742</td>\n",
       "      <td>-498.131002</td>\n",
       "      <td>29.968453</td>\n",
       "      <td>-586.013330</td>\n",
       "      <td>25.971737</td>\n",
       "      <td>-499.608392</td>\n",
       "      <td>22.958448</td>\n",
       "      <td>-499.821308</td>\n",
       "      <td>23.024963</td>\n",
       "      <td>-501.153409</td>\n",
       "      <td>20.054122</td>\n",
       "      <td>-500.314711</td>\n",
       "      <td>17.979515</td>\n",
       "      <td>-499.272871</td>\n",
       "      <td>12.992404</td>\n",
       "      <td>-499.976268</td>\n",
       "      <td>20.013986</td>\n",
       "      <td>-500.625471</td>\n",
       "      <td>89.858126</td>\n",
       "      <td>65.523246</td>\n",
       "    </tr>\n",
       "    <tr>\n",
       "      <th>2</th>\n",
       "      <td>2017-12-09 16:59:59</td>\n",
       "      <td>5.081681</td>\n",
       "      <td>6.082745</td>\n",
       "      <td>4.564078</td>\n",
       "      <td>37.208683</td>\n",
       "      <td>558.155110</td>\n",
       "      <td>82.610855</td>\n",
       "      <td>7.363824</td>\n",
       "      <td>9.003562</td>\n",
       "      <td>1200.826926</td>\n",
       "      <td>-300.124116</td>\n",
       "      <td>1150.754676</td>\n",
       "      <td>-499.986009</td>\n",
       "      <td>1049.182824</td>\n",
       "      <td>-500.014696</td>\n",
       "      <td>948.085464</td>\n",
       "      <td>-499.997003</td>\n",
       "      <td>850.170086</td>\n",
       "      <td>-500.270334</td>\n",
       "      <td>849.557905</td>\n",
       "      <td>-500.198702</td>\n",
       "      <td>7.358308</td>\n",
       "      <td>9.000624</td>\n",
       "      <td>119.497545</td>\n",
       "      <td>8.003752</td>\n",
       "      <td>6.500000</td>\n",
       "      <td>1.259741</td>\n",
       "      <td>1647.368779</td>\n",
       "      <td>-399.788506</td>\n",
       "      <td>1648.395206</td>\n",
       "      <td>-400.166490</td>\n",
       "      <td>1648.953828</td>\n",
       "      <td>-400.468641</td>\n",
       "      <td>1649.821569</td>\n",
       "      <td>-400.071884</td>\n",
       "      <td>34.952967</td>\n",
       "      <td>-501.204647</td>\n",
       "      <td>29.927025</td>\n",
       "      <td>-500.106628</td>\n",
       "      <td>25.978253</td>\n",
       "      <td>-499.890060</td>\n",
       "      <td>23.004376</td>\n",
       "      <td>-500.014529</td>\n",
       "      <td>22.993827</td>\n",
       "      <td>-501.559663</td>\n",
       "      <td>20.029144</td>\n",
       "      <td>-500.000662</td>\n",
       "      <td>18.012723</td>\n",
       "      <td>-500.024764</td>\n",
       "      <td>13.016445</td>\n",
       "      <td>-500.058432</td>\n",
       "      <td>19.973767</td>\n",
       "      <td>-501.394155</td>\n",
       "      <td>91.816623</td>\n",
       "      <td>74.817644</td>\n",
       "    </tr>\n",
       "    <tr>\n",
       "      <th>3</th>\n",
       "      <td>2017-12-09 17:59:59</td>\n",
       "      <td>5.145949</td>\n",
       "      <td>6.084374</td>\n",
       "      <td>4.768124</td>\n",
       "      <td>36.808874</td>\n",
       "      <td>539.713765</td>\n",
       "      <td>77.984784</td>\n",
       "      <td>6.927072</td>\n",
       "      <td>8.955597</td>\n",
       "      <td>1199.292489</td>\n",
       "      <td>-299.778385</td>\n",
       "      <td>1152.512559</td>\n",
       "      <td>-500.338106</td>\n",
       "      <td>1052.601592</td>\n",
       "      <td>-499.695075</td>\n",
       "      <td>955.171539</td>\n",
       "      <td>-500.294989</td>\n",
       "      <td>851.957342</td>\n",
       "      <td>-499.779541</td>\n",
       "      <td>850.765662</td>\n",
       "      <td>-501.030559</td>\n",
       "      <td>6.929364</td>\n",
       "      <td>8.920717</td>\n",
       "      <td>108.080163</td>\n",
       "      <td>7.970121</td>\n",
       "      <td>6.660000</td>\n",
       "      <td>0.774909</td>\n",
       "      <td>1652.660845</td>\n",
       "      <td>-399.702218</td>\n",
       "      <td>1651.203128</td>\n",
       "      <td>-400.291472</td>\n",
       "      <td>1651.924848</td>\n",
       "      <td>-398.058033</td>\n",
       "      <td>1650.782696</td>\n",
       "      <td>-399.597977</td>\n",
       "      <td>35.038256</td>\n",
       "      <td>-500.102649</td>\n",
       "      <td>30.066959</td>\n",
       "      <td>-500.211499</td>\n",
       "      <td>26.013515</td>\n",
       "      <td>-500.054597</td>\n",
       "      <td>22.988928</td>\n",
       "      <td>-499.981410</td>\n",
       "      <td>23.032807</td>\n",
       "      <td>-501.287889</td>\n",
       "      <td>19.977466</td>\n",
       "      <td>-500.159903</td>\n",
       "      <td>17.980463</td>\n",
       "      <td>-500.504602</td>\n",
       "      <td>12.949071</td>\n",
       "      <td>-500.009937</td>\n",
       "      <td>20.010332</td>\n",
       "      <td>-508.337973</td>\n",
       "      <td>88.478959</td>\n",
       "      <td>63.082720</td>\n",
       "    </tr>\n",
       "    <tr>\n",
       "      <th>4</th>\n",
       "      <td>2017-12-09 18:59:59</td>\n",
       "      <td>5.735249</td>\n",
       "      <td>6.165220</td>\n",
       "      <td>4.512346</td>\n",
       "      <td>37.810642</td>\n",
       "      <td>558.713584</td>\n",
       "      <td>86.434874</td>\n",
       "      <td>7.823471</td>\n",
       "      <td>7.490356</td>\n",
       "      <td>1198.005449</td>\n",
       "      <td>-300.283401</td>\n",
       "      <td>1099.481500</td>\n",
       "      <td>-499.702465</td>\n",
       "      <td>999.539264</td>\n",
       "      <td>-499.306051</td>\n",
       "      <td>889.445596</td>\n",
       "      <td>-498.118617</td>\n",
       "      <td>800.533525</td>\n",
       "      <td>-499.765068</td>\n",
       "      <td>800.510356</td>\n",
       "      <td>-497.289533</td>\n",
       "      <td>7.824875</td>\n",
       "      <td>7.500678</td>\n",
       "      <td>117.750648</td>\n",
       "      <td>6.954311</td>\n",
       "      <td>6.426667</td>\n",
       "      <td>0.731271</td>\n",
       "      <td>1649.411497</td>\n",
       "      <td>-399.853156</td>\n",
       "      <td>1648.917211</td>\n",
       "      <td>-400.321866</td>\n",
       "      <td>1649.117753</td>\n",
       "      <td>-399.645348</td>\n",
       "      <td>1650.398209</td>\n",
       "      <td>-400.654533</td>\n",
       "      <td>34.894598</td>\n",
       "      <td>-498.444587</td>\n",
       "      <td>30.020745</td>\n",
       "      <td>-533.831343</td>\n",
       "      <td>26.022094</td>\n",
       "      <td>-499.725484</td>\n",
       "      <td>22.992992</td>\n",
       "      <td>-499.891405</td>\n",
       "      <td>23.001911</td>\n",
       "      <td>-499.947838</td>\n",
       "      <td>20.023735</td>\n",
       "      <td>-499.713680</td>\n",
       "      <td>17.990955</td>\n",
       "      <td>-500.334769</td>\n",
       "      <td>13.007523</td>\n",
       "      <td>-499.968459</td>\n",
       "      <td>19.995999</td>\n",
       "      <td>-499.788805</td>\n",
       "      <td>89.230316</td>\n",
       "      <td>74.463380</td>\n",
       "    </tr>\n",
       "  </tbody>\n",
       "</table>\n",
       "</div>"
      ],
      "text/plain": [
       "                 date  rougher.input.feed_au  rougher.input.feed_ag  \\\n",
       "0 2017-12-09 14:59:59               4.365491               6.158718   \n",
       "1 2017-12-09 15:59:59               4.362781               6.048130   \n",
       "2 2017-12-09 16:59:59               5.081681               6.082745   \n",
       "3 2017-12-09 17:59:59               5.145949               6.084374   \n",
       "4 2017-12-09 18:59:59               5.735249               6.165220   \n",
       "\n",
       "   rougher.input.feed_pb  rougher.input.feed_sol  rougher.input.feed_rate  \\\n",
       "0               3.875727               39.135119               555.820208   \n",
       "1               3.902537               39.713906               544.731687   \n",
       "2               4.564078               37.208683               558.155110   \n",
       "3               4.768124               36.808874               539.713765   \n",
       "4               4.512346               37.810642               558.713584   \n",
       "\n",
       "   rougher.input.feed_size  rougher.input.floatbank10_sulfate  \\\n",
       "0                94.544358                           6.146982   \n",
       "1               123.742430                           6.210119   \n",
       "2                82.610855                           7.363824   \n",
       "3                77.984784                           6.927072   \n",
       "4                86.434874                           7.823471   \n",
       "\n",
       "   rougher.input.floatbank10_xanthate  rougher.state.floatbank10_a_air  \\\n",
       "0                            9.308612                      1196.238112   \n",
       "1                            9.297709                      1201.904177   \n",
       "2                            9.003562                      1200.826926   \n",
       "3                            8.955597                      1199.292489   \n",
       "4                            7.490356                      1198.005449   \n",
       "\n",
       "   rougher.state.floatbank10_a_level  rougher.state.floatbank10_b_air  \\\n",
       "0                        -299.862743                      1147.248241   \n",
       "1                        -299.907308                      1154.087804   \n",
       "2                        -300.124116                      1150.754676   \n",
       "3                        -299.778385                      1152.512559   \n",
       "4                        -300.283401                      1099.481500   \n",
       "\n",
       "   rougher.state.floatbank10_b_level  rougher.state.floatbank10_c_air  \\\n",
       "0                        -500.363165                      1047.279065   \n",
       "1                        -500.036580                      1054.009756   \n",
       "2                        -499.986009                      1049.182824   \n",
       "3                        -500.338106                      1052.601592   \n",
       "4                        -499.702465                       999.539264   \n",
       "\n",
       "   rougher.state.floatbank10_c_level  rougher.state.floatbank10_d_air  \\\n",
       "0                        -500.354091                       948.756608   \n",
       "1                        -500.237335                       944.138793   \n",
       "2                        -500.014696                       948.085464   \n",
       "3                        -499.695075                       955.171539   \n",
       "4                        -499.306051                       889.445596   \n",
       "\n",
       "   rougher.state.floatbank10_d_level  rougher.state.floatbank10_e_air  \\\n",
       "0                        -498.439416                       849.441918   \n",
       "1                        -496.866953                       851.589767   \n",
       "2                        -499.997003                       850.170086   \n",
       "3                        -500.294989                       851.957342   \n",
       "4                        -498.118617                       800.533525   \n",
       "\n",
       "   rougher.state.floatbank10_e_level  rougher.state.floatbank10_f_air  \\\n",
       "0                        -499.255503                       850.112246   \n",
       "1                        -499.040466                       851.345606   \n",
       "2                        -500.270334                       849.557905   \n",
       "3                        -499.779541                       850.765662   \n",
       "4                        -499.765068                       800.510356   \n",
       "\n",
       "   rougher.state.floatbank10_f_level  rougher.input.floatbank11_sulfate  \\\n",
       "0                        -499.407112                           6.168939   \n",
       "1                        -499.122561                           6.209517   \n",
       "2                        -500.198702                           7.358308   \n",
       "3                        -501.030559                           6.929364   \n",
       "4                        -497.289533                           7.824875   \n",
       "\n",
       "   rougher.input.floatbank11_xanthate  primary_cleaner.input.sulfate  \\\n",
       "0                            9.309852                      95.248427   \n",
       "1                            9.297194                      98.880538   \n",
       "2                            9.000624                     119.497545   \n",
       "3                            8.920717                     108.080163   \n",
       "4                            7.500678                     117.750648   \n",
       "\n",
       "   primary_cleaner.input.depressant  primary_cleaner.input.feed_size  \\\n",
       "0                          8.078957                         6.500000   \n",
       "1                          7.984164                         6.500000   \n",
       "2                          8.003752                         6.500000   \n",
       "3                          7.970121                         6.660000   \n",
       "4                          6.954311                         6.426667   \n",
       "\n",
       "   primary_cleaner.input.xanthate  primary_cleaner.state.floatbank8_a_air  \\\n",
       "0                        1.283045                             1648.759906   \n",
       "1                        1.241969                             1646.547763   \n",
       "2                        1.259741                             1647.368779   \n",
       "3                        0.774909                             1652.660845   \n",
       "4                        0.731271                             1649.411497   \n",
       "\n",
       "   primary_cleaner.state.floatbank8_a_level  \\\n",
       "0                               -399.862053   \n",
       "1                               -398.977083   \n",
       "2                               -399.788506   \n",
       "3                               -399.702218   \n",
       "4                               -399.853156   \n",
       "\n",
       "   primary_cleaner.state.floatbank8_b_air  \\\n",
       "0                             1650.135395   \n",
       "1                             1648.212240   \n",
       "2                             1648.395206   \n",
       "3                             1651.203128   \n",
       "4                             1648.917211   \n",
       "\n",
       "   primary_cleaner.state.floatbank8_b_level  \\\n",
       "0                               -399.957321   \n",
       "1                               -400.383265   \n",
       "2                               -400.166490   \n",
       "3                               -400.291472   \n",
       "4                               -400.321866   \n",
       "\n",
       "   primary_cleaner.state.floatbank8_c_air  \\\n",
       "0                             1648.831890   \n",
       "1                             1648.917387   \n",
       "2                             1648.953828   \n",
       "3                             1651.924848   \n",
       "4                             1649.117753   \n",
       "\n",
       "   primary_cleaner.state.floatbank8_c_level  \\\n",
       "0                               -400.586116   \n",
       "1                               -399.521344   \n",
       "2                               -400.468641   \n",
       "3                               -398.058033   \n",
       "4                               -399.645348   \n",
       "\n",
       "   primary_cleaner.state.floatbank8_d_air  \\\n",
       "0                             1649.464582   \n",
       "1                             1651.498591   \n",
       "2                             1649.821569   \n",
       "3                             1650.782696   \n",
       "4                             1650.398209   \n",
       "\n",
       "   primary_cleaner.state.floatbank8_d_level  \\\n",
       "0                               -400.673303   \n",
       "1                               -399.745329   \n",
       "2                               -400.071884   \n",
       "3                               -399.597977   \n",
       "4                               -400.654533   \n",
       "\n",
       "   secondary_cleaner.state.floatbank2_a_air  \\\n",
       "0                                 34.940919   \n",
       "1                                 34.980742   \n",
       "2                                 34.952967   \n",
       "3                                 35.038256   \n",
       "4                                 34.894598   \n",
       "\n",
       "   secondary_cleaner.state.floatbank2_a_level  \\\n",
       "0                                 -500.150510   \n",
       "1                                 -498.131002   \n",
       "2                                 -501.204647   \n",
       "3                                 -500.102649   \n",
       "4                                 -498.444587   \n",
       "\n",
       "   secondary_cleaner.state.floatbank2_b_air  \\\n",
       "0                                 30.031867   \n",
       "1                                 29.968453   \n",
       "2                                 29.927025   \n",
       "3                                 30.066959   \n",
       "4                                 30.020745   \n",
       "\n",
       "   secondary_cleaner.state.floatbank2_b_level  \\\n",
       "0                                 -500.328335   \n",
       "1                                 -586.013330   \n",
       "2                                 -500.106628   \n",
       "3                                 -500.211499   \n",
       "4                                 -533.831343   \n",
       "\n",
       "   secondary_cleaner.state.floatbank3_a_air  \\\n",
       "0                                 26.033990   \n",
       "1                                 25.971737   \n",
       "2                                 25.978253   \n",
       "3                                 26.013515   \n",
       "4                                 26.022094   \n",
       "\n",
       "   secondary_cleaner.state.floatbank3_a_level  \\\n",
       "0                                 -500.147792   \n",
       "1                                 -499.608392   \n",
       "2                                 -499.890060   \n",
       "3                                 -500.054597   \n",
       "4                                 -499.725484   \n",
       "\n",
       "   secondary_cleaner.state.floatbank3_b_air  \\\n",
       "0                                 22.952306   \n",
       "1                                 22.958448   \n",
       "2                                 23.004376   \n",
       "3                                 22.988928   \n",
       "4                                 22.992992   \n",
       "\n",
       "   secondary_cleaner.state.floatbank3_b_level  \\\n",
       "0                                 -500.037678   \n",
       "1                                 -499.821308   \n",
       "2                                 -500.014529   \n",
       "3                                 -499.981410   \n",
       "4                                 -499.891405   \n",
       "\n",
       "   secondary_cleaner.state.floatbank4_a_air  \\\n",
       "0                                 23.018622   \n",
       "1                                 23.024963   \n",
       "2                                 22.993827   \n",
       "3                                 23.032807   \n",
       "4                                 23.001911   \n",
       "\n",
       "   secondary_cleaner.state.floatbank4_a_level  \\\n",
       "0                                 -500.492702   \n",
       "1                                 -501.153409   \n",
       "2                                 -501.559663   \n",
       "3                                 -501.287889   \n",
       "4                                 -499.947838   \n",
       "\n",
       "   secondary_cleaner.state.floatbank4_b_air  \\\n",
       "0                                 20.020205   \n",
       "1                                 20.054122   \n",
       "2                                 20.029144   \n",
       "3                                 19.977466   \n",
       "4                                 20.023735   \n",
       "\n",
       "   secondary_cleaner.state.floatbank4_b_level  \\\n",
       "0                                 -500.220296   \n",
       "1                                 -500.314711   \n",
       "2                                 -500.000662   \n",
       "3                                 -500.159903   \n",
       "4                                 -499.713680   \n",
       "\n",
       "   secondary_cleaner.state.floatbank5_a_air  \\\n",
       "0                                 17.963512   \n",
       "1                                 17.979515   \n",
       "2                                 18.012723   \n",
       "3                                 17.980463   \n",
       "4                                 17.990955   \n",
       "\n",
       "   secondary_cleaner.state.floatbank5_a_level  \\\n",
       "0                                 -499.939490   \n",
       "1                                 -499.272871   \n",
       "2                                 -500.024764   \n",
       "3                                 -500.504602   \n",
       "4                                 -500.334769   \n",
       "\n",
       "   secondary_cleaner.state.floatbank5_b_air  \\\n",
       "0                                 12.990306   \n",
       "1                                 12.992404   \n",
       "2                                 13.016445   \n",
       "3                                 12.949071   \n",
       "4                                 13.007523   \n",
       "\n",
       "   secondary_cleaner.state.floatbank5_b_level  \\\n",
       "0                                 -500.080993   \n",
       "1                                 -499.976268   \n",
       "2                                 -500.058432   \n",
       "3                                 -500.009937   \n",
       "4                                 -499.968459   \n",
       "\n",
       "   secondary_cleaner.state.floatbank6_a_air  \\\n",
       "0                                 19.990336   \n",
       "1                                 20.013986   \n",
       "2                                 19.973767   \n",
       "3                                 20.010332   \n",
       "4                                 19.995999   \n",
       "\n",
       "   secondary_cleaner.state.floatbank6_a_level  rougher.output.recovery  \\\n",
       "0                                 -499.191575                89.514960   \n",
       "1                                 -500.625471                89.858126   \n",
       "2                                 -501.394155                91.816623   \n",
       "3                                 -508.337973                88.478959   \n",
       "4                                 -499.788805                89.230316   \n",
       "\n",
       "   final.output.recovery  \n",
       "0              70.281454  \n",
       "1              65.523246  \n",
       "2              74.817644  \n",
       "3              63.082720  \n",
       "4              74.463380  "
      ]
     },
     "execution_count": 45,
     "metadata": {},
     "output_type": "execute_result"
    }
   ],
   "source": [
    "df_test.head()"
   ]
  },
  {
   "cell_type": "code",
   "execution_count": 46,
   "metadata": {},
   "outputs": [
    {
     "data": {
      "text/plain": [
       "[(4860, 22), (4860,)]"
      ]
     },
     "execution_count": 46,
     "metadata": {},
     "output_type": "execute_result"
    }
   ],
   "source": [
    "X_test_rougher = df_test[features_rougher]\n",
    "y_test_rougher = df_test['rougher.output.recovery']\n",
    "[i.shape for i in (X_test_rougher, y_test_rougher)]"
   ]
  },
  {
   "cell_type": "code",
   "execution_count": 47,
   "metadata": {},
   "outputs": [
    {
     "data": {
      "text/plain": [
       "[(4860, 52), (4860,)]"
      ]
     },
     "execution_count": 47,
     "metadata": {},
     "output_type": "execute_result"
    }
   ],
   "source": [
    "X_test_final = df_test[features_final]\n",
    "y_test_final = df_test['final.output.recovery']\n",
    "[i.shape for i in (X_test_final, y_test_final)]"
   ]
  },
  {
   "cell_type": "markdown",
   "metadata": {},
   "source": [
    "**Обучающие и тестовые выборки готовы. Обучим три модели регрессии: Дерево решений, Случайный лес, Линейную регерссию. Для обучения используем GridSearchCV. Данный инструмент предусматривает обучение моделей кросс-валидацией, параметр cv. Для оценки метрики воспользуемся методом make_scorer, в параметры которой передадим функцию smape_1.**"
   ]
  },
  {
   "cell_type": "markdown",
   "metadata": {},
   "source": [
    "Для наглядности результатов моделей создадим словарь result, в котором будем сохранять результаты моделей. "
   ]
  },
  {
   "cell_type": "code",
   "execution_count": 48,
   "metadata": {},
   "outputs": [],
   "source": [
    "result = {}"
   ]
  },
  {
   "cell_type": "markdown",
   "metadata": {},
   "source": [
    "#### DecisionTree Regressor"
   ]
  },
  {
   "cell_type": "code",
   "execution_count": 49,
   "metadata": {},
   "outputs": [
    {
     "data": {
      "text/plain": [
       "{'ccp_alpha': 0.0,\n",
       " 'criterion': 'mse',\n",
       " 'max_depth': None,\n",
       " 'max_features': None,\n",
       " 'max_leaf_nodes': None,\n",
       " 'min_impurity_decrease': 0.0,\n",
       " 'min_impurity_split': None,\n",
       " 'min_samples_leaf': 1,\n",
       " 'min_samples_split': 2,\n",
       " 'min_weight_fraction_leaf': 0.0,\n",
       " 'random_state': None,\n",
       " 'splitter': 'best'}"
      ]
     },
     "execution_count": 49,
     "metadata": {},
     "output_type": "execute_result"
    }
   ],
   "source": [
    "DecisionTreeRegressor().get_params()"
   ]
  },
  {
   "cell_type": "code",
   "execution_count": 50,
   "metadata": {},
   "outputs": [],
   "source": [
    "params = {'max_depth': [i for i in range(3, 10)], \n",
    "          'min_samples_leaf': [i for i in range(2, 11, 2)], \n",
    "          'max_leaf_nodes': [i for i in range(100, 501, 100)]}"
   ]
  },
  {
   "cell_type": "code",
   "execution_count": 51,
   "metadata": {},
   "outputs": [],
   "source": [
    "dtr = DecisionTreeRegressor(random_state=RANDOM)"
   ]
  },
  {
   "cell_type": "code",
   "execution_count": 52,
   "metadata": {},
   "outputs": [],
   "source": [
    "scorer = make_scorer(smape_1, greater_is_better=False)"
   ]
  },
  {
   "cell_type": "code",
   "execution_count": 53,
   "metadata": {},
   "outputs": [],
   "source": [
    "gsv_dtr = GridSearchCV(estimator=dtr, \n",
    "                       param_grid=params, \n",
    "                       scoring=scorer,\n",
    "                       cv=10,\n",
    "                       n_jobs=-1)"
   ]
  },
  {
   "cell_type": "markdown",
   "metadata": {},
   "source": [
    "##### Rougher"
   ]
  },
  {
   "cell_type": "code",
   "execution_count": 54,
   "metadata": {},
   "outputs": [
    {
     "name": "stdout",
     "output_type": "stream",
     "text": [
      "CPU times: user 4.27 s, sys: 473 ms, total: 4.74 s\n",
      "Wall time: 1min 10s\n"
     ]
    },
    {
     "data": {
      "text/plain": [
       "GridSearchCV(cv=10, estimator=DecisionTreeRegressor(random_state=12345),\n",
       "             n_jobs=-1,\n",
       "             param_grid={'max_depth': [3, 4, 5, 6, 7, 8, 9],\n",
       "                         'max_leaf_nodes': [100, 200, 300, 400, 500],\n",
       "                         'min_samples_leaf': [2, 4, 6, 8, 10]},\n",
       "             scoring=make_scorer(smape_1, greater_is_better=False))"
      ]
     },
     "execution_count": 54,
     "metadata": {},
     "output_type": "execute_result"
    }
   ],
   "source": [
    "%%time\n",
    "\n",
    "gsv_dtr.fit(X_train_rougher, y_train_rougher)"
   ]
  },
  {
   "cell_type": "markdown",
   "metadata": {},
   "source": [
    "Лучшие параметры:"
   ]
  },
  {
   "cell_type": "code",
   "execution_count": 55,
   "metadata": {},
   "outputs": [
    {
     "data": {
      "text/plain": [
       "{'max_depth': 5, 'max_leaf_nodes': 100, 'min_samples_leaf': 10}"
      ]
     },
     "execution_count": 55,
     "metadata": {},
     "output_type": "execute_result"
    }
   ],
   "source": [
    "gsv_dtr.best_params_"
   ]
  },
  {
   "cell_type": "markdown",
   "metadata": {},
   "source": [
    "Лучшее значение sMAPE rougher:"
   ]
  },
  {
   "cell_type": "code",
   "execution_count": 56,
   "metadata": {},
   "outputs": [
    {
     "data": {
      "text/plain": [
       "-6.0007526585824085"
      ]
     },
     "execution_count": 56,
     "metadata": {},
     "output_type": "execute_result"
    }
   ],
   "source": [
    "gsv_dtr_rougher = gsv_dtr.best_score_\n",
    "gsv_dtr_rougher"
   ]
  },
  {
   "cell_type": "code",
   "execution_count": 57,
   "metadata": {},
   "outputs": [
    {
     "data": {
      "text/plain": [
       "DecisionTreeRegressor(max_depth=5, max_leaf_nodes=100, min_samples_leaf=10,\n",
       "                      random_state=12345)"
      ]
     },
     "execution_count": 57,
     "metadata": {},
     "output_type": "execute_result"
    }
   ],
   "source": [
    "# Лучшая модель\n",
    "best_dtr_rougher = gsv_dtr.best_estimator_\n",
    "best_dtr_rougher"
   ]
  },
  {
   "cell_type": "markdown",
   "metadata": {},
   "source": [
    "##### Final"
   ]
  },
  {
   "cell_type": "code",
   "execution_count": 58,
   "metadata": {
    "scrolled": true
   },
   "outputs": [
    {
     "name": "stdout",
     "output_type": "stream",
     "text": [
      "CPU times: user 5.5 s, sys: 499 ms, total: 6 s\n",
      "Wall time: 3min 12s\n"
     ]
    },
    {
     "data": {
      "text/plain": [
       "GridSearchCV(cv=10, estimator=DecisionTreeRegressor(random_state=12345),\n",
       "             n_jobs=-1,\n",
       "             param_grid={'max_depth': [3, 4, 5, 6, 7, 8, 9],\n",
       "                         'max_leaf_nodes': [100, 200, 300, 400, 500],\n",
       "                         'min_samples_leaf': [2, 4, 6, 8, 10]},\n",
       "             scoring=make_scorer(smape_1, greater_is_better=False))"
      ]
     },
     "execution_count": 58,
     "metadata": {},
     "output_type": "execute_result"
    }
   ],
   "source": [
    "%%time\n",
    "\n",
    "gsv_dtr.fit(X_train_final, y_train_final)"
   ]
  },
  {
   "cell_type": "markdown",
   "metadata": {},
   "source": [
    "Лучшие параметры, значение sMAPE final"
   ]
  },
  {
   "cell_type": "code",
   "execution_count": 59,
   "metadata": {},
   "outputs": [
    {
     "data": {
      "text/plain": [
       "{'max_depth': 4, 'max_leaf_nodes': 100, 'min_samples_leaf': 2}"
      ]
     },
     "execution_count": 59,
     "metadata": {},
     "output_type": "execute_result"
    }
   ],
   "source": [
    "gsv_dtr.best_params_"
   ]
  },
  {
   "cell_type": "code",
   "execution_count": 63,
   "metadata": {},
   "outputs": [
    {
     "data": {
      "text/plain": [
       "-9.54236787177381"
      ]
     },
     "execution_count": 63,
     "metadata": {},
     "output_type": "execute_result"
    }
   ],
   "source": [
    "gsv_dtr_final = gsv_dtr.best_score_\n",
    "gsv_dtr_final"
   ]
  },
  {
   "cell_type": "code",
   "execution_count": 61,
   "metadata": {},
   "outputs": [
    {
     "data": {
      "text/plain": [
       "DecisionTreeRegressor(max_depth=4, max_leaf_nodes=100, min_samples_leaf=2,\n",
       "                      random_state=12345)"
      ]
     },
     "execution_count": 61,
     "metadata": {},
     "output_type": "execute_result"
    }
   ],
   "source": [
    "# Лучшая модель\n",
    "best_dtr_final = gsv_dtr.best_estimator_\n",
    "best_dtr_final"
   ]
  },
  {
   "cell_type": "code",
   "execution_count": 62,
   "metadata": {},
   "outputs": [],
   "source": [
    "result['dtr'] = [gsv_dtr_rougher.round(3), gsv_dtr_final.round(3)]"
   ]
  },
  {
   "cell_type": "markdown",
   "metadata": {},
   "source": [
    "#### RandomForestRegressor"
   ]
  },
  {
   "cell_type": "code",
   "execution_count": 64,
   "metadata": {},
   "outputs": [
    {
     "data": {
      "text/plain": [
       "{'bootstrap': True,\n",
       " 'ccp_alpha': 0.0,\n",
       " 'criterion': 'mse',\n",
       " 'max_depth': None,\n",
       " 'max_features': 'auto',\n",
       " 'max_leaf_nodes': None,\n",
       " 'max_samples': None,\n",
       " 'min_impurity_decrease': 0.0,\n",
       " 'min_impurity_split': None,\n",
       " 'min_samples_leaf': 1,\n",
       " 'min_samples_split': 2,\n",
       " 'min_weight_fraction_leaf': 0.0,\n",
       " 'n_estimators': 100,\n",
       " 'n_jobs': None,\n",
       " 'oob_score': False,\n",
       " 'random_state': None,\n",
       " 'verbose': 0,\n",
       " 'warm_start': False}"
      ]
     },
     "execution_count": 64,
     "metadata": {},
     "output_type": "execute_result"
    }
   ],
   "source": [
    "RandomForestRegressor().get_params()"
   ]
  },
  {
   "cell_type": "code",
   "execution_count": 65,
   "metadata": {},
   "outputs": [],
   "source": [
    "params_rfr = {'max_depth': [1, 2, 3, 4],\n",
    "              'max_features': [1, 2],\n",
    "              'min_samples_leaf': [1, 3, 9, 27],\n",
    "              'min_samples_split': [2, 4, 8, 16],\n",
    "              'n_estimators': [10, 25, 50, 100]}"
   ]
  },
  {
   "cell_type": "code",
   "execution_count": 66,
   "metadata": {},
   "outputs": [],
   "source": [
    "rfr = RandomForestRegressor(random_state=RANDOM)"
   ]
  },
  {
   "cell_type": "code",
   "execution_count": 67,
   "metadata": {},
   "outputs": [],
   "source": [
    "gsv_rfr = GridSearchCV(estimator=rfr, \n",
    "                       param_grid=params_rfr, \n",
    "                       scoring=scorer,\n",
    "                       cv=5,\n",
    "                       n_jobs=-1)"
   ]
  },
  {
   "cell_type": "markdown",
   "metadata": {},
   "source": [
    "##### Rougher"
   ]
  },
  {
   "cell_type": "code",
   "execution_count": 68,
   "metadata": {},
   "outputs": [
    {
     "name": "stdout",
     "output_type": "stream",
     "text": [
      "CPU times: user 6.71 s, sys: 487 ms, total: 7.19 s\n",
      "Wall time: 2min 24s\n"
     ]
    },
    {
     "data": {
      "text/plain": [
       "GridSearchCV(cv=5, estimator=RandomForestRegressor(random_state=12345),\n",
       "             n_jobs=-1,\n",
       "             param_grid={'max_depth': [1, 2, 3, 4], 'max_features': [1, 2],\n",
       "                         'min_samples_leaf': [1, 3, 9, 27],\n",
       "                         'min_samples_split': [2, 4, 8, 16],\n",
       "                         'n_estimators': [10, 25, 50, 100]},\n",
       "             scoring=make_scorer(smape_1, greater_is_better=False))"
      ]
     },
     "execution_count": 68,
     "metadata": {},
     "output_type": "execute_result"
    }
   ],
   "source": [
    "%%time\n",
    "\n",
    "gsv_rfr.fit(X_train_rougher, y_train_rougher)"
   ]
  },
  {
   "cell_type": "markdown",
   "metadata": {},
   "source": [
    "Лучшие параметры:"
   ]
  },
  {
   "cell_type": "code",
   "execution_count": 69,
   "metadata": {},
   "outputs": [
    {
     "data": {
      "text/plain": [
       "{'max_depth': 4,\n",
       " 'max_features': 2,\n",
       " 'min_samples_leaf': 27,\n",
       " 'min_samples_split': 2,\n",
       " 'n_estimators': 50}"
      ]
     },
     "execution_count": 69,
     "metadata": {},
     "output_type": "execute_result"
    }
   ],
   "source": [
    "gsv_rfr.best_params_"
   ]
  },
  {
   "cell_type": "markdown",
   "metadata": {},
   "source": [
    "Лучшее значение sMAPE rougher:"
   ]
  },
  {
   "cell_type": "code",
   "execution_count": 70,
   "metadata": {},
   "outputs": [
    {
     "data": {
      "text/plain": [
       "-6.27517442831912"
      ]
     },
     "execution_count": 70,
     "metadata": {},
     "output_type": "execute_result"
    }
   ],
   "source": [
    "gsv_rfr_rougher = gsv_rfr.best_score_\n",
    "gsv_rfr_rougher"
   ]
  },
  {
   "cell_type": "code",
   "execution_count": 71,
   "metadata": {},
   "outputs": [
    {
     "data": {
      "text/plain": [
       "RandomForestRegressor(max_depth=4, max_features=2, min_samples_leaf=27,\n",
       "                      n_estimators=50, random_state=12345)"
      ]
     },
     "execution_count": 71,
     "metadata": {},
     "output_type": "execute_result"
    }
   ],
   "source": [
    "# Лучшая модель\n",
    "best_rfr_rougher = gsv_rfr.best_estimator_\n",
    "best_rfr_rougher"
   ]
  },
  {
   "cell_type": "markdown",
   "metadata": {},
   "source": [
    "##### Final"
   ]
  },
  {
   "cell_type": "code",
   "execution_count": 72,
   "metadata": {},
   "outputs": [
    {
     "name": "stdout",
     "output_type": "stream",
     "text": [
      "CPU times: user 7.41 s, sys: 551 ms, total: 7.96 s\n",
      "Wall time: 2min 40s\n"
     ]
    },
    {
     "data": {
      "text/plain": [
       "GridSearchCV(cv=5, estimator=RandomForestRegressor(random_state=12345),\n",
       "             n_jobs=-1,\n",
       "             param_grid={'max_depth': [1, 2, 3, 4], 'max_features': [1, 2],\n",
       "                         'min_samples_leaf': [1, 3, 9, 27],\n",
       "                         'min_samples_split': [2, 4, 8, 16],\n",
       "                         'n_estimators': [10, 25, 50, 100]},\n",
       "             scoring=make_scorer(smape_1, greater_is_better=False))"
      ]
     },
     "execution_count": 72,
     "metadata": {},
     "output_type": "execute_result"
    }
   ],
   "source": [
    "%%time\n",
    "\n",
    "gsv_rfr.fit(X_train_final, y_train_final)"
   ]
  },
  {
   "cell_type": "markdown",
   "metadata": {},
   "source": [
    "Лучшие параметры:"
   ]
  },
  {
   "cell_type": "code",
   "execution_count": 73,
   "metadata": {},
   "outputs": [
    {
     "data": {
      "text/plain": [
       "{'max_depth': 4,\n",
       " 'max_features': 2,\n",
       " 'min_samples_leaf': 27,\n",
       " 'min_samples_split': 2,\n",
       " 'n_estimators': 25}"
      ]
     },
     "execution_count": 73,
     "metadata": {},
     "output_type": "execute_result"
    }
   ],
   "source": [
    "gsv_rfr.best_params_"
   ]
  },
  {
   "cell_type": "markdown",
   "metadata": {},
   "source": [
    "Лучшее значение sMAPE final:"
   ]
  },
  {
   "cell_type": "code",
   "execution_count": 74,
   "metadata": {},
   "outputs": [
    {
     "data": {
      "text/plain": [
       "-9.00355088776232"
      ]
     },
     "execution_count": 74,
     "metadata": {},
     "output_type": "execute_result"
    }
   ],
   "source": [
    "gsv_rfr_final= gsv_rfr.best_score_\n",
    "gsv_rfr_final"
   ]
  },
  {
   "cell_type": "code",
   "execution_count": 75,
   "metadata": {},
   "outputs": [
    {
     "data": {
      "text/plain": [
       "RandomForestRegressor(max_depth=4, max_features=2, min_samples_leaf=27,\n",
       "                      n_estimators=25, random_state=12345)"
      ]
     },
     "execution_count": 75,
     "metadata": {},
     "output_type": "execute_result"
    }
   ],
   "source": [
    "# Лучшая модель\n",
    "best_rfr_final = gsv_rfr.best_estimator_\n",
    "best_rfr_final"
   ]
  },
  {
   "cell_type": "code",
   "execution_count": 76,
   "metadata": {},
   "outputs": [],
   "source": [
    "result['rfr'] = [gsv_rfr_rougher.round(3), gsv_rfr_final.round(3)]"
   ]
  },
  {
   "cell_type": "markdown",
   "metadata": {},
   "source": [
    "#### LinearRegression"
   ]
  },
  {
   "cell_type": "code",
   "execution_count": 77,
   "metadata": {
    "scrolled": true
   },
   "outputs": [
    {
     "data": {
      "text/plain": [
       "{'copy_X': True,\n",
       " 'fit_intercept': True,\n",
       " 'n_jobs': None,\n",
       " 'normalize': False,\n",
       " 'positive': False}"
      ]
     },
     "execution_count": 77,
     "metadata": {},
     "output_type": "execute_result"
    }
   ],
   "source": [
    "LinearRegression().get_params()"
   ]
  },
  {
   "cell_type": "code",
   "execution_count": 78,
   "metadata": {},
   "outputs": [],
   "source": [
    "params_lr = {'copy_X': [True, False],\n",
    "             'fit_intercept': [True, False],\n",
    "             'normalize': [True, False],\n",
    "             'positive': [True, False]}"
   ]
  },
  {
   "cell_type": "code",
   "execution_count": 79,
   "metadata": {},
   "outputs": [],
   "source": [
    "lr = LinearRegression()"
   ]
  },
  {
   "cell_type": "code",
   "execution_count": 80,
   "metadata": {},
   "outputs": [],
   "source": [
    "gsv_lr = GridSearchCV(estimator=lr, \n",
    "                       param_grid=params_lr, \n",
    "                       scoring=scorer,\n",
    "                       cv=10,\n",
    "                       n_jobs=-1)"
   ]
  },
  {
   "cell_type": "markdown",
   "metadata": {},
   "source": [
    "##### Rougher"
   ]
  },
  {
   "cell_type": "code",
   "execution_count": 81,
   "metadata": {},
   "outputs": [
    {
     "name": "stdout",
     "output_type": "stream",
     "text": [
      "CPU times: user 298 ms, sys: 31.8 ms, total: 330 ms\n",
      "Wall time: 804 ms\n"
     ]
    },
    {
     "data": {
      "text/plain": [
       "GridSearchCV(cv=10, estimator=LinearRegression(), n_jobs=-1,\n",
       "             param_grid={'copy_X': [True, False],\n",
       "                         'fit_intercept': [True, False],\n",
       "                         'normalize': [True, False],\n",
       "                         'positive': [True, False]},\n",
       "             scoring=make_scorer(smape_1, greater_is_better=False))"
      ]
     },
     "execution_count": 81,
     "metadata": {},
     "output_type": "execute_result"
    }
   ],
   "source": [
    "%%time\n",
    "\n",
    "gsv_lr.fit(X_train_rougher, y_train_rougher)"
   ]
  },
  {
   "cell_type": "markdown",
   "metadata": {},
   "source": [
    "Лучшие параметры:"
   ]
  },
  {
   "cell_type": "code",
   "execution_count": 82,
   "metadata": {},
   "outputs": [
    {
     "data": {
      "text/plain": [
       "{'copy_X': True, 'fit_intercept': True, 'normalize': False, 'positive': True}"
      ]
     },
     "execution_count": 82,
     "metadata": {},
     "output_type": "execute_result"
    }
   ],
   "source": [
    "gsv_lr.best_params_"
   ]
  },
  {
   "cell_type": "markdown",
   "metadata": {},
   "source": [
    "Лучшее значение sMAPE rougher:"
   ]
  },
  {
   "cell_type": "code",
   "execution_count": 83,
   "metadata": {},
   "outputs": [
    {
     "data": {
      "text/plain": [
       "-5.745325037391804"
      ]
     },
     "execution_count": 83,
     "metadata": {},
     "output_type": "execute_result"
    }
   ],
   "source": [
    "gsv_lr_rougher = gsv_lr.best_score_\n",
    "gsv_lr_rougher"
   ]
  },
  {
   "cell_type": "code",
   "execution_count": 84,
   "metadata": {},
   "outputs": [
    {
     "data": {
      "text/plain": [
       "LinearRegression(positive=True)"
      ]
     },
     "execution_count": 84,
     "metadata": {},
     "output_type": "execute_result"
    }
   ],
   "source": [
    "# Лучшая модель\n",
    "best_lr_rougher = gsv_lr.best_estimator_\n",
    "best_lr_rougher"
   ]
  },
  {
   "cell_type": "markdown",
   "metadata": {},
   "source": [
    "##### Final"
   ]
  },
  {
   "cell_type": "code",
   "execution_count": 85,
   "metadata": {},
   "outputs": [
    {
     "name": "stdout",
     "output_type": "stream",
     "text": [
      "CPU times: user 454 ms, sys: 31.4 ms, total: 485 ms\n",
      "Wall time: 2.93 s\n"
     ]
    },
    {
     "data": {
      "text/plain": [
       "GridSearchCV(cv=10, estimator=LinearRegression(), n_jobs=-1,\n",
       "             param_grid={'copy_X': [True, False],\n",
       "                         'fit_intercept': [True, False],\n",
       "                         'normalize': [True, False],\n",
       "                         'positive': [True, False]},\n",
       "             scoring=make_scorer(smape_1, greater_is_better=False))"
      ]
     },
     "execution_count": 85,
     "metadata": {},
     "output_type": "execute_result"
    }
   ],
   "source": [
    "%%time\n",
    "\n",
    "gsv_lr.fit(X_train_final, y_train_final)"
   ]
  },
  {
   "cell_type": "markdown",
   "metadata": {},
   "source": [
    "Лучшие параметры:"
   ]
  },
  {
   "cell_type": "code",
   "execution_count": 86,
   "metadata": {},
   "outputs": [
    {
     "data": {
      "text/plain": [
       "{'copy_X': True, 'fit_intercept': True, 'normalize': True, 'positive': True}"
      ]
     },
     "execution_count": 86,
     "metadata": {},
     "output_type": "execute_result"
    }
   ],
   "source": [
    "gsv_lr.best_params_"
   ]
  },
  {
   "cell_type": "markdown",
   "metadata": {},
   "source": [
    "Лучшее значение sMAPE final:"
   ]
  },
  {
   "cell_type": "code",
   "execution_count": 87,
   "metadata": {},
   "outputs": [
    {
     "data": {
      "text/plain": [
       "-9.085645935326154"
      ]
     },
     "execution_count": 87,
     "metadata": {},
     "output_type": "execute_result"
    }
   ],
   "source": [
    "gsv_lr_final = gsv_lr.best_score_\n",
    "gsv_lr_final"
   ]
  },
  {
   "cell_type": "code",
   "execution_count": 88,
   "metadata": {},
   "outputs": [
    {
     "data": {
      "text/plain": [
       "LinearRegression(normalize=True, positive=True)"
      ]
     },
     "execution_count": 88,
     "metadata": {},
     "output_type": "execute_result"
    }
   ],
   "source": [
    "# Лучшая модель\n",
    "best_lr_final = gsv_lr.best_estimator_\n",
    "best_lr_final"
   ]
  },
  {
   "cell_type": "code",
   "execution_count": 89,
   "metadata": {},
   "outputs": [],
   "source": [
    "result['lr'] = [gsv_lr_rougher.round(3), gsv_lr_final.round(3)]"
   ]
  },
  {
   "cell_type": "markdown",
   "metadata": {},
   "source": [
    "**Выведим результаты метрик моделей**"
   ]
  },
  {
   "cell_type": "code",
   "execution_count": 90,
   "metadata": {},
   "outputs": [
    {
     "data": {
      "text/html": [
       "<div>\n",
       "<style scoped>\n",
       "    .dataframe tbody tr th:only-of-type {\n",
       "        vertical-align: middle;\n",
       "    }\n",
       "\n",
       "    .dataframe tbody tr th {\n",
       "        vertical-align: top;\n",
       "    }\n",
       "\n",
       "    .dataframe thead th {\n",
       "        text-align: right;\n",
       "    }\n",
       "</style>\n",
       "<table border=\"1\" class=\"dataframe\">\n",
       "  <thead>\n",
       "    <tr style=\"text-align: right;\">\n",
       "      <th></th>\n",
       "      <th>dtr</th>\n",
       "      <th>rfr</th>\n",
       "      <th>lr</th>\n",
       "    </tr>\n",
       "  </thead>\n",
       "  <tbody>\n",
       "    <tr>\n",
       "      <th>rougher</th>\n",
       "      <td>-6.001</td>\n",
       "      <td>-6.275</td>\n",
       "      <td>-5.745</td>\n",
       "    </tr>\n",
       "    <tr>\n",
       "      <th>final</th>\n",
       "      <td>-9.542</td>\n",
       "      <td>-9.004</td>\n",
       "      <td>-9.086</td>\n",
       "    </tr>\n",
       "  </tbody>\n",
       "</table>\n",
       "</div>"
      ],
      "text/plain": [
       "           dtr    rfr     lr\n",
       "rougher -6.001 -6.275 -5.745\n",
       "final   -9.542 -9.004 -9.086"
      ]
     },
     "execution_count": 90,
     "metadata": {},
     "output_type": "execute_result"
    }
   ],
   "source": [
    "pd.DataFrame(result, index=['rougher', 'final'])"
   ]
  },
  {
   "cell_type": "markdown",
   "metadata": {},
   "source": [
    "**Лучшие показатели sMAPE:**\n",
    "\n",
    "**- rougher: 5.745 LinearRegression**\n",
    "\n",
    "**- final: 9.004 RandomForestRegressor**"
   ]
  },
  {
   "cell_type": "markdown",
   "metadata": {},
   "source": [
    "### Тестовая выборка."
   ]
  },
  {
   "cell_type": "markdown",
   "metadata": {},
   "source": [
    "Проверим модели на тестовой выборке. Выведем итоговое sMAPE."
   ]
  },
  {
   "cell_type": "code",
   "execution_count": 91,
   "metadata": {},
   "outputs": [],
   "source": [
    "predict_test_rougher = best_lr_rougher.predict(X_test_rougher)"
   ]
  },
  {
   "cell_type": "code",
   "execution_count": 92,
   "metadata": {},
   "outputs": [
    {
     "name": "stdout",
     "output_type": "stream",
     "text": [
      "sMAPE флотации: 5.153\n"
     ]
    }
   ],
   "source": [
    "smape_test_rougher = smape_1(predict_test_rougher, y_test_rougher)\n",
    "print(f'sMAPE флотации: {smape_test_rougher.round(3)}')"
   ]
  },
  {
   "cell_type": "code",
   "execution_count": 93,
   "metadata": {},
   "outputs": [],
   "source": [
    "predict_test_final = best_rfr_final.predict(X_test_final)"
   ]
  },
  {
   "cell_type": "code",
   "execution_count": 94,
   "metadata": {},
   "outputs": [
    {
     "name": "stdout",
     "output_type": "stream",
     "text": [
      "sMAPE после второй очистки: 7.94\n"
     ]
    }
   ],
   "source": [
    "smape_test_final = smape_1(predict_test_final, y_test_final)\n",
    "print(f'sMAPE после второй очистки: {smape_test_final.round(3)}')"
   ]
  },
  {
   "cell_type": "code",
   "execution_count": 95,
   "metadata": {},
   "outputs": [
    {
     "name": "stdout",
     "output_type": "stream",
     "text": [
      "Итоговое sMAPE: 7.243\n"
     ]
    }
   ],
   "source": [
    "print(f'Итоговое sMAPE: {smape_total(smape_test_rougher, smape_test_final).round(3)}')"
   ]
  },
  {
   "cell_type": "markdown",
   "metadata": {},
   "source": [
    "### Константная модель"
   ]
  },
  {
   "cell_type": "code",
   "execution_count": 96,
   "metadata": {},
   "outputs": [
    {
     "name": "stdout",
     "output_type": "stream",
     "text": [
      "sMAPE флотации: 5.836\n",
      "sMAPE после второй очистки: 9.115\n",
      "Итоговое sMAPE: 8.295\n"
     ]
    }
   ],
   "source": [
    "dr = DummyRegressor(strategy='median')\n",
    "dr.fit(X_train_rougher, y_train_rougher)\n",
    "\n",
    "predict_dr_rougher = dr.predict(X_test_rougher)\n",
    "smape_rougher_dr = smape_1(predict_dr_rougher, y_test_rougher)\n",
    "\n",
    "dr.fit(X_train_final, y_train_final)\n",
    "\n",
    "predict_dr_final = dr.predict(X_test_final)\n",
    "smape_final_dr = smape_1(predict_dr_final, y_test_final)\n",
    "\n",
    "print(f'sMAPE флотации: {smape_rougher_dr.round(3)}')\n",
    "print(f'sMAPE после второй очистки: {smape_final_dr.round(3)}')\n",
    "print(f'Итоговое sMAPE: {smape_total(smape_rougher_dr, smape_final_dr).round(3)}')\n"
   ]
  },
  {
   "cell_type": "markdown",
   "metadata": {},
   "source": [
    " Метрики константной модели выше метрик выбранных моделей."
   ]
  },
  {
   "cell_type": "markdown",
   "metadata": {},
   "source": [
    "## Вывод"
   ]
  },
  {
   "cell_type": "markdown",
   "metadata": {},
   "source": [
    "Подготовка данных:\n",
    "\n",
    "    - изучены данные датасетов;\n",
    "    - отсутствуют дубликаты;\n",
    "    - пропуски заполнены значениями соседних строк;\n",
    "    - проверены значения эффективности обогащения флотации.\n",
    "    \n",
    "Анализ данных:\n",
    "\n",
    "    - концентрация золота с каждым этапом очистки увеличивается;\n",
    "    - данные с суммарной концентрацией удалены из тренировочного датасета;\n",
    "    - размер гранул сырья в тестовой и обучающей выборке совпадают.\n",
    "    \n",
    "Модели:\n",
    "\n",
    "    - обучены три модели (Дерево решений, Случайный лес, Линейная регрессия);\n",
    "    - наилучшие показатели флотации у модели Линейная регрессия;\n",
    "    - наилучшие показатели финальной очистки у модели Случайный лес;\n",
    "    - метрика константной модели выше;\n",
    "    - на тестовой выборке итоговой sMAPE составляет 7.243."
   ]
  }
 ],
 "metadata": {
  "kernelspec": {
   "display_name": "Python 3 (ipykernel)",
   "language": "python",
   "name": "python3"
  },
  "language_info": {
   "codemirror_mode": {
    "name": "ipython",
    "version": 3
   },
   "file_extension": ".py",
   "mimetype": "text/x-python",
   "name": "python",
   "nbconvert_exporter": "python",
   "pygments_lexer": "ipython3",
   "version": "3.9.16"
  },
  "toc": {
   "base_numbering": 1,
   "nav_menu": {},
   "number_sections": true,
   "sideBar": true,
   "skip_h1_title": true,
   "title_cell": "Содержание",
   "title_sidebar": "Contents",
   "toc_cell": true,
   "toc_position": {
    "height": "calc(100% - 180px)",
    "left": "10px",
    "top": "150px",
    "width": "332.995px"
   },
   "toc_section_display": true,
   "toc_window_display": true
  }
 },
 "nbformat": 4,
 "nbformat_minor": 2
}
